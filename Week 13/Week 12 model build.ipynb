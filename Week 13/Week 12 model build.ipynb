{
 "cells": [
  {
   "cell_type": "code",
   "execution_count": 113,
   "id": "9e192088",
   "metadata": {},
   "outputs": [],
   "source": [
    "import pandas as pd\n",
    "import numpy as np\n",
    "import seaborn as sns\n",
    "import matplotlib.pyplot as plt\n",
    "from sklearn.impute import SimpleImputer\n",
    "from sklearn.impute import KNNImputer\n",
    "from sklearn.preprocessing import LabelEncoder\n",
    "from sklearn.ensemble import RandomForestClassifier\n",
    "from scipy.stats import boxcox\n",
    "from sklearn.model_selection import train_test_split\n",
    "from sklearn.tree import DecisionTreeClassifier\n",
    "from sklearn.metrics import accuracy_score, classification_report, confusion_matrix\n",
    "from sklearn import tree\n",
    "from sklearn.naive_bayes import GaussianNB\n",
    "from sklearn.preprocessing import StandardScaler\n",
    "from sklearn.svm import SVC\n",
    "from sklearn.linear_model import LogisticRegression\n",
    "from sklearn.neighbors import KNeighborsClassifier\n",
    "from sklearn.ensemble import AdaBoostClassifier\n"
   ]
  },
  {
   "cell_type": "code",
   "execution_count": 2,
   "id": "15c45f8c",
   "metadata": {},
   "outputs": [],
   "source": [
    "df = pd.read_csv('c:/users/stjam/downloads/bank-additional-full.csv', sep=';', header=0,quotechar='\"',na_values=['<NA>', 'unknown'])\n"
   ]
  },
  {
   "cell_type": "code",
   "execution_count": 3,
   "id": "bea1bcc7",
   "metadata": {},
   "outputs": [
    {
     "name": "stdout",
     "output_type": "stream",
     "text": [
      "<bound method NDFrame.head of        age          job  marital            education default housing loan  \\\n",
      "0       56    housemaid  married             basic.4y      no      no   no   \n",
      "1       57     services  married          high.school     NaN      no   no   \n",
      "2       37     services  married          high.school      no     yes   no   \n",
      "3       40       admin.  married             basic.6y      no      no   no   \n",
      "4       56     services  married          high.school      no      no  yes   \n",
      "...    ...          ...      ...                  ...     ...     ...  ...   \n",
      "41183   73      retired  married  professional.course      no     yes   no   \n",
      "41184   46  blue-collar  married  professional.course      no      no   no   \n",
      "41185   56      retired  married    university.degree      no     yes   no   \n",
      "41186   44   technician  married  professional.course      no      no   no   \n",
      "41187   74      retired  married  professional.course      no     yes   no   \n",
      "\n",
      "         contact month day_of_week  ...  campaign  pdays  previous  \\\n",
      "0      telephone   may         mon  ...         1    999         0   \n",
      "1      telephone   may         mon  ...         1    999         0   \n",
      "2      telephone   may         mon  ...         1    999         0   \n",
      "3      telephone   may         mon  ...         1    999         0   \n",
      "4      telephone   may         mon  ...         1    999         0   \n",
      "...          ...   ...         ...  ...       ...    ...       ...   \n",
      "41183   cellular   nov         fri  ...         1    999         0   \n",
      "41184   cellular   nov         fri  ...         1    999         0   \n",
      "41185   cellular   nov         fri  ...         2    999         0   \n",
      "41186   cellular   nov         fri  ...         1    999         0   \n",
      "41187   cellular   nov         fri  ...         3    999         1   \n",
      "\n",
      "          poutcome emp.var.rate  cons.price.idx  cons.conf.idx  euribor3m  \\\n",
      "0      nonexistent          1.1          93.994          -36.4      4.857   \n",
      "1      nonexistent          1.1          93.994          -36.4      4.857   \n",
      "2      nonexistent          1.1          93.994          -36.4      4.857   \n",
      "3      nonexistent          1.1          93.994          -36.4      4.857   \n",
      "4      nonexistent          1.1          93.994          -36.4      4.857   \n",
      "...            ...          ...             ...            ...        ...   \n",
      "41183  nonexistent         -1.1          94.767          -50.8      1.028   \n",
      "41184  nonexistent         -1.1          94.767          -50.8      1.028   \n",
      "41185  nonexistent         -1.1          94.767          -50.8      1.028   \n",
      "41186  nonexistent         -1.1          94.767          -50.8      1.028   \n",
      "41187      failure         -1.1          94.767          -50.8      1.028   \n",
      "\n",
      "       nr.employed    y  \n",
      "0           5191.0   no  \n",
      "1           5191.0   no  \n",
      "2           5191.0   no  \n",
      "3           5191.0   no  \n",
      "4           5191.0   no  \n",
      "...            ...  ...  \n",
      "41183       4963.6  yes  \n",
      "41184       4963.6   no  \n",
      "41185       4963.6   no  \n",
      "41186       4963.6  yes  \n",
      "41187       4963.6   no  \n",
      "\n",
      "[41188 rows x 21 columns]>\n"
     ]
    }
   ],
   "source": [
    "print(df.head)"
   ]
  },
  {
   "cell_type": "code",
   "execution_count": 4,
   "id": "fb7f1a8d",
   "metadata": {},
   "outputs": [
    {
     "name": "stdout",
     "output_type": "stream",
     "text": [
      "age                 int64\n",
      "job                object\n",
      "marital            object\n",
      "education          object\n",
      "default            object\n",
      "housing            object\n",
      "loan               object\n",
      "contact            object\n",
      "month              object\n",
      "day_of_week        object\n",
      "duration            int64\n",
      "campaign            int64\n",
      "pdays               int64\n",
      "previous            int64\n",
      "poutcome           object\n",
      "emp.var.rate      float64\n",
      "cons.price.idx    float64\n",
      "cons.conf.idx     float64\n",
      "euribor3m         float64\n",
      "nr.employed       float64\n",
      "y                  object\n",
      "dtype: object\n"
     ]
    }
   ],
   "source": [
    "print(df.dtypes)"
   ]
  },
  {
   "cell_type": "code",
   "execution_count": 5,
   "id": "e506cd17",
   "metadata": {},
   "outputs": [
    {
     "name": "stdout",
     "output_type": "stream",
     "text": [
      "<class 'pandas.core.frame.DataFrame'>\n",
      "RangeIndex: 41188 entries, 0 to 41187\n",
      "Data columns (total 21 columns):\n",
      " #   Column          Non-Null Count  Dtype  \n",
      "---  ------          --------------  -----  \n",
      " 0   age             41188 non-null  int64  \n",
      " 1   job             40858 non-null  object \n",
      " 2   marital         41108 non-null  object \n",
      " 3   education       39457 non-null  object \n",
      " 4   default         32591 non-null  object \n",
      " 5   housing         40198 non-null  object \n",
      " 6   loan            40198 non-null  object \n",
      " 7   contact         41188 non-null  object \n",
      " 8   month           41188 non-null  object \n",
      " 9   day_of_week     41188 non-null  object \n",
      " 10  duration        41188 non-null  int64  \n",
      " 11  campaign        41188 non-null  int64  \n",
      " 12  pdays           41188 non-null  int64  \n",
      " 13  previous        41188 non-null  int64  \n",
      " 14  poutcome        41188 non-null  object \n",
      " 15  emp.var.rate    41188 non-null  float64\n",
      " 16  cons.price.idx  41188 non-null  float64\n",
      " 17  cons.conf.idx   41188 non-null  float64\n",
      " 18  euribor3m       41188 non-null  float64\n",
      " 19  nr.employed     41188 non-null  float64\n",
      " 20  y               41188 non-null  object \n",
      "dtypes: float64(5), int64(5), object(11)\n",
      "memory usage: 6.6+ MB\n"
     ]
    }
   ],
   "source": [
    "df.info()\n"
   ]
  },
  {
   "cell_type": "code",
   "execution_count": 6,
   "id": "6bed575d",
   "metadata": {},
   "outputs": [
    {
     "name": "stdout",
     "output_type": "stream",
     "text": [
      "Rows with Missing Values:\n",
      "        age          job  marital    education default housing loan    contact  \\\n",
      "1       57     services  married  high.school     NaN      no   no  telephone   \n",
      "5       45     services  married     basic.9y     NaN      no   no  telephone   \n",
      "7       41  blue-collar  married          NaN     NaN      no   no  telephone   \n",
      "10      41  blue-collar  married          NaN     NaN      no   no  telephone   \n",
      "15      54      retired  married     basic.9y     NaN     yes  yes  telephone   \n",
      "...    ...          ...      ...          ...     ...     ...  ...        ...   \n",
      "41118   34   technician  married          NaN      no     yes   no   cellular   \n",
      "41120   60       admin.  married          NaN      no      no   no   cellular   \n",
      "41122   34   technician  married          NaN      no      no   no   cellular   \n",
      "41135   54   technician  married          NaN      no     yes   no   cellular   \n",
      "41175   34      student   single          NaN      no     yes   no   cellular   \n",
      "\n",
      "      month day_of_week  ...  campaign  pdays  previous     poutcome  \\\n",
      "1       may         mon  ...         1    999         0  nonexistent   \n",
      "5       may         mon  ...         1    999         0  nonexistent   \n",
      "7       may         mon  ...         1    999         0  nonexistent   \n",
      "10      may         mon  ...         1    999         0  nonexistent   \n",
      "15      may         mon  ...         1    999         0  nonexistent   \n",
      "...     ...         ...  ...       ...    ...       ...          ...   \n",
      "41118   nov         tue  ...         2    999         2      failure   \n",
      "41120   nov         tue  ...         2    999         0  nonexistent   \n",
      "41122   nov         tue  ...         3    999         0  nonexistent   \n",
      "41135   nov         thu  ...         1    999         1      failure   \n",
      "41175   nov         thu  ...         1    999         2      failure   \n",
      "\n",
      "      emp.var.rate  cons.price.idx  cons.conf.idx  euribor3m  nr.employed    y  \n",
      "1              1.1          93.994          -36.4      4.857       5191.0   no  \n",
      "5              1.1          93.994          -36.4      4.857       5191.0   no  \n",
      "7              1.1          93.994          -36.4      4.857       5191.0   no  \n",
      "10             1.1          93.994          -36.4      4.857       5191.0   no  \n",
      "15             1.1          93.994          -36.4      4.857       5191.0   no  \n",
      "...            ...             ...            ...        ...          ...  ...  \n",
      "41118         -1.1          94.767          -50.8      1.046       4963.6   no  \n",
      "41120         -1.1          94.767          -50.8      1.046       4963.6   no  \n",
      "41122         -1.1          94.767          -50.8      1.046       4963.6  yes  \n",
      "41135         -1.1          94.767          -50.8      1.041       4963.6   no  \n",
      "41175         -1.1          94.767          -50.8      1.031       4963.6   no  \n",
      "\n",
      "[10700 rows x 21 columns]\n",
      "\n",
      "Columns with Missing Values:\n",
      " Index(['job', 'marital', 'education', 'default', 'housing', 'loan'], dtype='object')\n"
     ]
    }
   ],
   "source": [
    "missing_values = df.isna()\n",
    "\n",
    "# Locate rows with missing values\n",
    "rows_with_missing_values = df[missing_values.any(axis=1)]\n",
    "\n",
    "# Locate columns with missing values\n",
    "columns_with_missing_values = df.columns[missing_values.any(axis=0)]\n",
    "\n",
    "# Display the rows and columns with missing values\n",
    "print(\"Rows with Missing Values:\\n\", rows_with_missing_values)\n",
    "print(\"\\nColumns with Missing Values:\\n\", columns_with_missing_values)"
   ]
  },
  {
   "cell_type": "code",
   "execution_count": 7,
   "id": "f673672d",
   "metadata": {},
   "outputs": [],
   "source": [
    "missing_values = df.isna()\n",
    "rows_with_missing_values = df[missing_values.any(axis=1)]\n"
   ]
  },
  {
   "cell_type": "code",
   "execution_count": 8,
   "id": "3a89f615",
   "metadata": {},
   "outputs": [
    {
     "name": "stdout",
     "output_type": "stream",
     "text": [
      "Rows with Missing Values Before Filling:\n",
      "        age          job  marital    education default housing loan    contact  \\\n",
      "1       57     services  married  high.school     NaN      no   no  telephone   \n",
      "5       45     services  married     basic.9y     NaN      no   no  telephone   \n",
      "7       41  blue-collar  married          NaN     NaN      no   no  telephone   \n",
      "10      41  blue-collar  married          NaN     NaN      no   no  telephone   \n",
      "15      54      retired  married     basic.9y     NaN     yes  yes  telephone   \n",
      "...    ...          ...      ...          ...     ...     ...  ...        ...   \n",
      "41118   34   technician  married          NaN      no     yes   no   cellular   \n",
      "41120   60       admin.  married          NaN      no      no   no   cellular   \n",
      "41122   34   technician  married          NaN      no      no   no   cellular   \n",
      "41135   54   technician  married          NaN      no     yes   no   cellular   \n",
      "41175   34      student   single          NaN      no     yes   no   cellular   \n",
      "\n",
      "      month day_of_week  ...  campaign  pdays  previous     poutcome  \\\n",
      "1       may         mon  ...         1    999         0  nonexistent   \n",
      "5       may         mon  ...         1    999         0  nonexistent   \n",
      "7       may         mon  ...         1    999         0  nonexistent   \n",
      "10      may         mon  ...         1    999         0  nonexistent   \n",
      "15      may         mon  ...         1    999         0  nonexistent   \n",
      "...     ...         ...  ...       ...    ...       ...          ...   \n",
      "41118   nov         tue  ...         2    999         2      failure   \n",
      "41120   nov         tue  ...         2    999         0  nonexistent   \n",
      "41122   nov         tue  ...         3    999         0  nonexistent   \n",
      "41135   nov         thu  ...         1    999         1      failure   \n",
      "41175   nov         thu  ...         1    999         2      failure   \n",
      "\n",
      "      emp.var.rate  cons.price.idx  cons.conf.idx  euribor3m  nr.employed    y  \n",
      "1              1.1          93.994          -36.4      4.857       5191.0   no  \n",
      "5              1.1          93.994          -36.4      4.857       5191.0   no  \n",
      "7              1.1          93.994          -36.4      4.857       5191.0   no  \n",
      "10             1.1          93.994          -36.4      4.857       5191.0   no  \n",
      "15             1.1          93.994          -36.4      4.857       5191.0   no  \n",
      "...            ...             ...            ...        ...          ...  ...  \n",
      "41118         -1.1          94.767          -50.8      1.046       4963.6   no  \n",
      "41120         -1.1          94.767          -50.8      1.046       4963.6   no  \n",
      "41122         -1.1          94.767          -50.8      1.046       4963.6  yes  \n",
      "41135         -1.1          94.767          -50.8      1.041       4963.6   no  \n",
      "41175         -1.1          94.767          -50.8      1.031       4963.6   no  \n",
      "\n",
      "[10700 rows x 21 columns]\n"
     ]
    }
   ],
   "source": [
    "print(\"Rows with Missing Values Before Filling:\\n\", rows_with_missing_values)\n"
   ]
  },
  {
   "cell_type": "code",
   "execution_count": 9,
   "id": "d3075eff",
   "metadata": {},
   "outputs": [],
   "source": [
    "categorical_cols = df.select_dtypes(include=['object']).columns\n",
    "df[categorical_cols] = df[categorical_cols].fillna(df[categorical_cols].mode().iloc[0])\n"
   ]
  },
  {
   "cell_type": "code",
   "execution_count": 10,
   "id": "4d78abaa",
   "metadata": {},
   "outputs": [],
   "source": [
    "missing_values_after_filling = df.isna()\n",
    "rows_with_missing_values_after_filling = df[missing_values_after_filling.any(axis=1)]\n"
   ]
  },
  {
   "cell_type": "code",
   "execution_count": 11,
   "id": "2c6b54ad",
   "metadata": {},
   "outputs": [
    {
     "name": "stdout",
     "output_type": "stream",
     "text": [
      "Rows with Missing Values After Filling:\n",
      " Empty DataFrame\n",
      "Columns: [age, job, marital, education, default, housing, loan, contact, month, day_of_week, duration, campaign, pdays, previous, poutcome, emp.var.rate, cons.price.idx, cons.conf.idx, euribor3m, nr.employed, y]\n",
      "Index: []\n",
      "\n",
      "[0 rows x 21 columns]\n"
     ]
    }
   ],
   "source": [
    "print(\"Rows with Missing Values After Filling:\\n\", rows_with_missing_values_after_filling)\n"
   ]
  },
  {
   "cell_type": "code",
   "execution_count": 12,
   "id": "03493247",
   "metadata": {},
   "outputs": [
    {
     "name": "stdout",
     "output_type": "stream",
     "text": [
      "Original DataFrame:\n",
      "   age        job  marital    education default housing loan    contact month  \\\n",
      "0   56  housemaid  married     basic.4y      no      no   no  telephone   may   \n",
      "1   57   services  married  high.school      no      no   no  telephone   may   \n",
      "2   37   services  married  high.school      no     yes   no  telephone   may   \n",
      "3   40     admin.  married     basic.6y      no      no   no  telephone   may   \n",
      "4   56   services  married  high.school      no      no  yes  telephone   may   \n",
      "\n",
      "  day_of_week  ...  campaign  pdays  previous     poutcome emp.var.rate  \\\n",
      "0         mon  ...         1    999         0  nonexistent          1.1   \n",
      "1         mon  ...         1    999         0  nonexistent          1.1   \n",
      "2         mon  ...         1    999         0  nonexistent          1.1   \n",
      "3         mon  ...         1    999         0  nonexistent          1.1   \n",
      "4         mon  ...         1    999         0  nonexistent          1.1   \n",
      "\n",
      "   cons.price.idx  cons.conf.idx  euribor3m  nr.employed   y  \n",
      "0          93.994          -36.4      4.857       5191.0  no  \n",
      "1          93.994          -36.4      4.857       5191.0  no  \n",
      "2          93.994          -36.4      4.857       5191.0  no  \n",
      "3          93.994          -36.4      4.857       5191.0  no  \n",
      "4          93.994          -36.4      4.857       5191.0  no  \n",
      "\n",
      "[5 rows x 21 columns]\n",
      "\n",
      "DataFrame after filling missing values:\n",
      "   age        job  marital    education default housing loan    contact month  \\\n",
      "0   56  housemaid  married     basic.4y      no      no   no  telephone   may   \n",
      "1   57   services  married  high.school      no      no   no  telephone   may   \n",
      "2   37   services  married  high.school      no     yes   no  telephone   may   \n",
      "3   40     admin.  married     basic.6y      no      no   no  telephone   may   \n",
      "4   56   services  married  high.school      no      no  yes  telephone   may   \n",
      "\n",
      "  day_of_week  ...  campaign  pdays  previous     poutcome emp.var.rate  \\\n",
      "0         mon  ...         1    999         0  nonexistent          1.1   \n",
      "1         mon  ...         1    999         0  nonexistent          1.1   \n",
      "2         mon  ...         1    999         0  nonexistent          1.1   \n",
      "3         mon  ...         1    999         0  nonexistent          1.1   \n",
      "4         mon  ...         1    999         0  nonexistent          1.1   \n",
      "\n",
      "   cons.price.idx  cons.conf.idx  euribor3m  nr.employed   y  \n",
      "0          93.994          -36.4      4.857       5191.0  no  \n",
      "1          93.994          -36.4      4.857       5191.0  no  \n",
      "2          93.994          -36.4      4.857       5191.0  no  \n",
      "3          93.994          -36.4      4.857       5191.0  no  \n",
      "4          93.994          -36.4      4.857       5191.0  no  \n",
      "\n",
      "[5 rows x 21 columns]\n"
     ]
    }
   ],
   "source": [
    "categorical_cols = df.select_dtypes(include=['object']).columns\n",
    "df[categorical_cols] = df[categorical_cols].fillna(df[categorical_cols].mode().iloc[0])\n",
    "print(\"Original DataFrame:\")\n",
    "print(df.head())\n",
    "\n",
    "# Check if there are any missing values after filling\n",
    "print(\"\\nDataFrame after filling missing values:\")\n",
    "print(df.head())"
   ]
  },
  {
   "cell_type": "markdown",
   "id": "c8fb814b",
   "metadata": {},
   "source": [
    "### Count for each variables shows the frequency distribution of unique values in the dataset"
   ]
  },
  {
   "cell_type": "code",
   "execution_count": 13,
   "id": "e652e9c9",
   "metadata": {},
   "outputs": [
    {
     "data": {
      "image/png": "[encoded data removed]",
      "text/plain": [
       "<Figure size 432x288 with 1 Axes>"
      ]
     },
     "metadata": {
      "needs_background": "light"
     },
     "output_type": "display_data"
    },
    {
     "data": {
      "image/png": "[encoded data removed]",
      "text/plain": [
       "<Figure size 432x288 with 1 Axes>"
      ]
     },
     "metadata": {
      "needs_background": "light"
     },
     "output_type": "display_data"
    },
    {
     "data": {
      "image/png": "[encoded data removed]",
      "text/plain": [
       "<Figure size 432x288 with 1 Axes>"
      ]
     },
     "metadata": {
      "needs_background": "light"
     },
     "output_type": "display_data"
    },
    {
     "data": {
      "image/png": "[encoded data removed]",
      "text/plain": [
       "<Figure size 432x288 with 1 Axes>"
      ]
     },
     "metadata": {
      "needs_background": "light"
     },
     "output_type": "display_data"
    },
    {
     "data": {
      "image/png": "[encoded data removed]",
      "text/plain": [
       "<Figure size 432x288 with 1 Axes>"
      ]
     },
     "metadata": {
      "needs_background": "light"
     },
     "output_type": "display_data"
    },
    {
     "data": {
      "image/png": "[encoded data removed]",
      "text/plain": [
       "<Figure size 432x288 with 1 Axes>"
      ]
     },
     "metadata": {
      "needs_background": "light"
     },
     "output_type": "display_data"
    },
    {
     "data": {
      "image/png": "[encoded data removed]",
      "text/plain": [
       "<Figure size 432x288 with 1 Axes>"
      ]
     },
     "metadata": {
      "needs_background": "light"
     },
     "output_type": "display_data"
    },
    {
     "data": {
      "image/png": "[encoded data removed]",
      "text/plain": [
       "<Figure size 432x288 with 1 Axes>"
      ]
     },
     "metadata": {
      "needs_background": "light"
     },
     "output_type": "display_data"
    },
    {
     "data": {
      "image/png": "[encoded data removed]",
      "text/plain": [
       "<Figure size 432x288 with 1 Axes>"
      ]
     },
     "metadata": {
      "needs_background": "light"
     },
     "output_type": "display_data"
    },
    {
     "data": {
      "image/png": "[encoded data removed]",
      "text/plain": [
       "<Figure size 432x288 with 1 Axes>"
      ]
     },
     "metadata": {
      "needs_background": "light"
     },
     "output_type": "display_data"
    },
    {
     "data": {
      "image/png": "[encoded data removed]",
      "text/plain": [
       "<Figure size 432x288 with 1 Axes>"
      ]
     },
     "metadata": {
      "needs_background": "light"
     },
     "output_type": "display_data"
    }
   ],
   "source": [
    "for column in df.columns:\n",
    "    if df[column].dtype == 'object':  # Check if the column is non-numeric\n",
    "        sns.countplot(x=df[column])\n",
    "        plt.title(f'Count Plot for {column}')\n",
    "        plt.xticks(rotation=60)  # Adjust the rotation angle as needed\n",
    "        plt.show()"
   ]
  },
  {
   "cell_type": "code",
   "execution_count": 14,
   "id": "b046ea73",
   "metadata": {},
   "outputs": [
    {
     "data": {
      "image/png": "[encoded data removed]",
      "text/plain": [
       "<Figure size 1152x576 with 10 Axes>"
      ]
     },
     "metadata": {
      "needs_background": "light"
     },
     "output_type": "display_data"
    }
   ],
   "source": [
    "import seaborn as sns\n",
    "import matplotlib.pyplot as plt\n",
    "\n",
    "\n",
    "\n",
    "# Specify the integer and float columns\n",
    "int_columns = ['duration','campaign', 'pdays', 'previous']\n",
    "float_columns = ['emp.var.rate', 'cons.price.idx', 'cons.conf.idx', 'euribor3m', 'nr.employed']\n",
    "\n",
    "# Create subplots\n",
    "fig, axes = plt.subplots(nrows=2, ncols=5, figsize=(16, 8))\n",
    "\n",
    "# Plot boxplots for integer columns\n",
    "for i, column in enumerate(int_columns):\n",
    "    if df[column].dtype in ['int64', 'float64']:\n",
    "        sns.boxplot(x=df[column], ax=axes[0, i])\n",
    "        axes[0, i].set_title(f'Boxplot for {column}')\n",
    "\n",
    "# Plot boxplots for float columns\n",
    "for i, column in enumerate(float_columns):\n",
    "    if df[column].dtype in ['int64', 'float64']:\n",
    "        sns.boxplot(x=df[column], ax=axes[1, i])\n",
    "        axes[1, i].set_title(f'Boxplot for {column}')\n",
    "\n",
    "plt.tight_layout()\n",
    "plt.show()\n"
   ]
  },
  {
   "cell_type": "markdown",
   "id": "61f3535b",
   "metadata": {},
   "source": [
    "### Measuring skewness indicates the symmetry of that distribution\n"
   ]
  },
  {
   "cell_type": "code",
   "execution_count": 15,
   "id": "63a4a224",
   "metadata": {},
   "outputs": [
    {
     "name": "stdout",
     "output_type": "stream",
     "text": [
      "Skewness for 'age': 0.7846682380932289\n",
      "Positive skewness: The distribution is skewed to the right (tail on the right).\n",
      "Skewness for 'duration': 3.2630224157610432\n",
      "Positive skewness: The distribution is skewed to the right (tail on the right).\n",
      "Skewness for 'campaign': 4.762333252560971\n",
      "Positive skewness: The distribution is skewed to the right (tail on the right).\n",
      "Skewness for 'pdays': -4.922010656450045\n",
      "Negative skewness: The distribution is skewed to the left (tail on the left).\n",
      "Skewness for 'previous': 3.8319026847007014\n",
      "Positive skewness: The distribution is skewed to the right (tail on the right).\n",
      "Skewness for 'emp.var.rate': -0.7240691785977529\n",
      "Negative skewness: The distribution is skewed to the left (tail on the left).\n",
      "Skewness for 'cons.price.idx': -0.23087924271991117\n",
      "Negative skewness: The distribution is skewed to the left (tail on the left).\n",
      "Skewness for 'cons.conf.idx': 0.3031688173189229\n",
      "Positive skewness: The distribution is skewed to the right (tail on the right).\n",
      "Skewness for 'euribor3m': -0.7091621286441162\n",
      "Negative skewness: The distribution is skewed to the left (tail on the left).\n",
      "Skewness for 'nr.employed': -1.0442243763652297\n",
      "Negative skewness: The distribution is skewed to the left (tail on the left).\n"
     ]
    }
   ],
   "source": [
    "from scipy.stats import skew\n",
    "\n",
    "\n",
    "numeric_columns = df.select_dtypes(include=['int64', 'float64']).columns\n",
    "\n",
    "for column in numeric_columns:\n",
    "    skewness = skew(df[column])\n",
    "    print(f\"Skewness for '{column}': {skewness}\")\n",
    "    \n",
    " \n",
    "    if skewness > 0:\n",
    "        print(\"Positive skewness: The distribution is skewed to the right (tail on the right).\")\n",
    "    elif skewness < 0:\n",
    "        print(\"Negative skewness: The distribution is skewed to the left (tail on the left).\")\n",
    "    else:\n",
    "        print(\"Zero skewness: The distribution is perfectly symmetrical.\")\n"
   ]
  },
  {
   "cell_type": "code",
   "execution_count": 16,
   "id": "0e44174b",
   "metadata": {},
   "outputs": [
    {
     "name": "stdout",
     "output_type": "stream",
     "text": [
      "Duplicate Rows except first occurrence:\n",
      "       age          job   marital            education default housing loan  \\\n",
      "1266    39  blue-collar   married             basic.6y      no      no   no   \n",
      "5664    56  blue-collar   married             basic.4y      no      no   no   \n",
      "12261   36      retired   married    university.degree      no      no   no   \n",
      "14234   27   technician    single  professional.course      no      no   no   \n",
      "16956   47   technician  divorced          high.school      no     yes   no   \n",
      "18465   32   technician    single  professional.course      no     yes   no   \n",
      "19608   33       admin.   married    university.degree      no     yes   no   \n",
      "20216   55     services   married          high.school      no      no   no   \n",
      "20534   41   technician   married  professional.course      no     yes   no   \n",
      "25217   39       admin.   married    university.degree      no      no   no   \n",
      "28477   24     services    single          high.school      no     yes   no   \n",
      "32516   35       admin.   married    university.degree      no     yes   no   \n",
      "36951   45       admin.   married    university.degree      no      no   no   \n",
      "38281   71      retired    single    university.degree      no      no   no   \n",
      "\n",
      "         contact month day_of_week  ...  campaign  pdays  previous  \\\n",
      "1266   telephone   may         thu  ...         1    999         0   \n",
      "5664   telephone   may         mon  ...         1    999         0   \n",
      "12261  telephone   jul         thu  ...         1    999         0   \n",
      "14234   cellular   jul         mon  ...         2    999         0   \n",
      "16956   cellular   jul         thu  ...         3    999         0   \n",
      "18465   cellular   jul         thu  ...         1    999         0   \n",
      "19608   cellular   aug         thu  ...         1    999         0   \n",
      "20216   cellular   aug         mon  ...         1    999         0   \n",
      "20534   cellular   aug         tue  ...         1    999         0   \n",
      "25217   cellular   nov         tue  ...         2    999         0   \n",
      "28477   cellular   apr         tue  ...         1    999         0   \n",
      "32516   cellular   may         fri  ...         4    999         0   \n",
      "36951   cellular   jul         thu  ...         1    999         0   \n",
      "38281  telephone   oct         tue  ...         1    999         0   \n",
      "\n",
      "          poutcome emp.var.rate  cons.price.idx  cons.conf.idx  euribor3m  \\\n",
      "1266   nonexistent          1.1          93.994          -36.4      4.855   \n",
      "5664   nonexistent          1.1          93.994          -36.4      4.857   \n",
      "12261  nonexistent          1.4          93.918          -42.7      4.966   \n",
      "14234  nonexistent          1.4          93.918          -42.7      4.962   \n",
      "16956  nonexistent          1.4          93.918          -42.7      4.962   \n",
      "18465  nonexistent          1.4          93.918          -42.7      4.968   \n",
      "19608  nonexistent          1.4          93.444          -36.1      4.968   \n",
      "20216  nonexistent          1.4          93.444          -36.1      4.965   \n",
      "20534  nonexistent          1.4          93.444          -36.1      4.966   \n",
      "25217  nonexistent         -0.1          93.200          -42.0      4.153   \n",
      "28477  nonexistent         -1.8          93.075          -47.1      1.423   \n",
      "32516  nonexistent         -1.8          92.893          -46.2      1.313   \n",
      "36951  nonexistent         -2.9          92.469          -33.6      1.072   \n",
      "38281  nonexistent         -3.4          92.431          -26.9      0.742   \n",
      "\n",
      "       nr.employed    y  \n",
      "1266        5191.0   no  \n",
      "5664        5191.0   no  \n",
      "12261       5228.1   no  \n",
      "14234       5228.1   no  \n",
      "16956       5228.1   no  \n",
      "18465       5228.1   no  \n",
      "19608       5228.1   no  \n",
      "20216       5228.1   no  \n",
      "20534       5228.1   no  \n",
      "25217       5195.8   no  \n",
      "28477       5099.1   no  \n",
      "32516       5099.1   no  \n",
      "36951       5076.2  yes  \n",
      "38281       5017.5   no  \n",
      "\n",
      "[14 rows x 21 columns]\n"
     ]
    }
   ],
   "source": [
    "duplicate_rows = df[df.duplicated()]\n",
    "\n",
    "# Display the duplicate rows\n",
    "print(\"Duplicate Rows except first occurrence:\")\n",
    "print(duplicate_rows)"
   ]
  },
  {
   "cell_type": "code",
   "execution_count": 17,
   "id": "e4a42ca1",
   "metadata": {},
   "outputs": [
    {
     "name": "stdout",
     "output_type": "stream",
     "text": [
      "Original Indices for Duplicated Rows:\n",
      "Int64Index([    0,     1,     2,     3,     4,     5,     6,     7,     8,\n",
      "                9,\n",
      "            ...\n",
      "            41178, 41179, 41180, 41181, 41182, 41183, 41184, 41185, 41186,\n",
      "            41187],\n",
      "           dtype='int64', length=41160)\n",
      "\n",
      "Duplicated Rows:\n",
      "       age          job   marital            education default housing loan  \\\n",
      "236     56  blue-collar   married             basic.4y      no      no   no   \n",
      "1265    39  blue-collar   married             basic.6y      no      no   no   \n",
      "1266    39  blue-collar   married             basic.6y      no      no   no   \n",
      "5664    56  blue-collar   married             basic.4y      no      no   no   \n",
      "12260   36      retired   married    university.degree      no      no   no   \n",
      "12261   36      retired   married    university.degree      no      no   no   \n",
      "14155   27   technician    single  professional.course      no      no   no   \n",
      "14234   27   technician    single  professional.course      no      no   no   \n",
      "16819   47   technician  divorced          high.school      no     yes   no   \n",
      "16956   47   technician  divorced          high.school      no     yes   no   \n",
      "18464   32   technician    single  professional.course      no     yes   no   \n",
      "18465   32   technician    single  professional.course      no     yes   no   \n",
      "19451   33       admin.   married    university.degree      no     yes   no   \n",
      "19608   33       admin.   married    university.degree      no     yes   no   \n",
      "20072   55     services   married          high.school      no      no   no   \n",
      "20216   55     services   married          high.school      no      no   no   \n",
      "20531   41   technician   married  professional.course      no     yes   no   \n",
      "20534   41   technician   married  professional.course      no     yes   no   \n",
      "25183   39       admin.   married    university.degree      no      no   no   \n",
      "25217   39       admin.   married    university.degree      no      no   no   \n",
      "28476   24     services    single          high.school      no     yes   no   \n",
      "28477   24     services    single          high.school      no     yes   no   \n",
      "32505   35       admin.   married    university.degree      no     yes   no   \n",
      "32516   35       admin.   married    university.degree      no     yes   no   \n",
      "36950   45       admin.   married    university.degree      no      no   no   \n",
      "36951   45       admin.   married    university.degree      no      no   no   \n",
      "38255   71      retired    single    university.degree      no      no   no   \n",
      "38281   71      retired    single    university.degree      no      no   no   \n",
      "\n",
      "         contact month day_of_week  ...  campaign  pdays  previous  \\\n",
      "236    telephone   may         mon  ...         1    999         0   \n",
      "1265   telephone   may         thu  ...         1    999         0   \n",
      "1266   telephone   may         thu  ...         1    999         0   \n",
      "5664   telephone   may         mon  ...         1    999         0   \n",
      "12260  telephone   jul         thu  ...         1    999         0   \n",
      "12261  telephone   jul         thu  ...         1    999         0   \n",
      "14155   cellular   jul         mon  ...         2    999         0   \n",
      "14234   cellular   jul         mon  ...         2    999         0   \n",
      "16819   cellular   jul         thu  ...         3    999         0   \n",
      "16956   cellular   jul         thu  ...         3    999         0   \n",
      "18464   cellular   jul         thu  ...         1    999         0   \n",
      "18465   cellular   jul         thu  ...         1    999         0   \n",
      "19451   cellular   aug         thu  ...         1    999         0   \n",
      "19608   cellular   aug         thu  ...         1    999         0   \n",
      "20072   cellular   aug         mon  ...         1    999         0   \n",
      "20216   cellular   aug         mon  ...         1    999         0   \n",
      "20531   cellular   aug         tue  ...         1    999         0   \n",
      "20534   cellular   aug         tue  ...         1    999         0   \n",
      "25183   cellular   nov         tue  ...         2    999         0   \n",
      "25217   cellular   nov         tue  ...         2    999         0   \n",
      "28476   cellular   apr         tue  ...         1    999         0   \n",
      "28477   cellular   apr         tue  ...         1    999         0   \n",
      "32505   cellular   may         fri  ...         4    999         0   \n",
      "32516   cellular   may         fri  ...         4    999         0   \n",
      "36950   cellular   jul         thu  ...         1    999         0   \n",
      "36951   cellular   jul         thu  ...         1    999         0   \n",
      "38255  telephone   oct         tue  ...         1    999         0   \n",
      "38281  telephone   oct         tue  ...         1    999         0   \n",
      "\n",
      "          poutcome emp.var.rate  cons.price.idx  cons.conf.idx  euribor3m  \\\n",
      "236    nonexistent          1.1          93.994          -36.4      4.857   \n",
      "1265   nonexistent          1.1          93.994          -36.4      4.855   \n",
      "1266   nonexistent          1.1          93.994          -36.4      4.855   \n",
      "5664   nonexistent          1.1          93.994          -36.4      4.857   \n",
      "12260  nonexistent          1.4          93.918          -42.7      4.966   \n",
      "12261  nonexistent          1.4          93.918          -42.7      4.966   \n",
      "14155  nonexistent          1.4          93.918          -42.7      4.962   \n",
      "14234  nonexistent          1.4          93.918          -42.7      4.962   \n",
      "16819  nonexistent          1.4          93.918          -42.7      4.962   \n",
      "16956  nonexistent          1.4          93.918          -42.7      4.962   \n",
      "18464  nonexistent          1.4          93.918          -42.7      4.968   \n",
      "18465  nonexistent          1.4          93.918          -42.7      4.968   \n",
      "19451  nonexistent          1.4          93.444          -36.1      4.968   \n",
      "19608  nonexistent          1.4          93.444          -36.1      4.968   \n",
      "20072  nonexistent          1.4          93.444          -36.1      4.965   \n",
      "20216  nonexistent          1.4          93.444          -36.1      4.965   \n",
      "20531  nonexistent          1.4          93.444          -36.1      4.966   \n",
      "20534  nonexistent          1.4          93.444          -36.1      4.966   \n",
      "25183  nonexistent         -0.1          93.200          -42.0      4.153   \n",
      "25217  nonexistent         -0.1          93.200          -42.0      4.153   \n",
      "28476  nonexistent         -1.8          93.075          -47.1      1.423   \n",
      "28477  nonexistent         -1.8          93.075          -47.1      1.423   \n",
      "32505  nonexistent         -1.8          92.893          -46.2      1.313   \n",
      "32516  nonexistent         -1.8          92.893          -46.2      1.313   \n",
      "36950  nonexistent         -2.9          92.469          -33.6      1.072   \n",
      "36951  nonexistent         -2.9          92.469          -33.6      1.072   \n",
      "38255  nonexistent         -3.4          92.431          -26.9      0.742   \n",
      "38281  nonexistent         -3.4          92.431          -26.9      0.742   \n",
      "\n",
      "       nr.employed    y  \n",
      "236         5191.0   no  \n",
      "1265        5191.0   no  \n",
      "1266        5191.0   no  \n",
      "5664        5191.0   no  \n",
      "12260       5228.1   no  \n",
      "12261       5228.1   no  \n",
      "14155       5228.1   no  \n",
      "14234       5228.1   no  \n",
      "16819       5228.1   no  \n",
      "16956       5228.1   no  \n",
      "18464       5228.1   no  \n",
      "18465       5228.1   no  \n",
      "19451       5228.1   no  \n",
      "19608       5228.1   no  \n",
      "20072       5228.1   no  \n",
      "20216       5228.1   no  \n",
      "20531       5228.1   no  \n",
      "20534       5228.1   no  \n",
      "25183       5195.8   no  \n",
      "25217       5195.8   no  \n",
      "28476       5099.1   no  \n",
      "28477       5099.1   no  \n",
      "32505       5099.1   no  \n",
      "32516       5099.1   no  \n",
      "36950       5076.2  yes  \n",
      "36951       5076.2  yes  \n",
      "38255       5017.5   no  \n",
      "38281       5017.5   no  \n",
      "\n",
      "[28 rows x 21 columns]\n",
      "DataFrame with First Occurrence of Duplicates:\n",
      "       age          job  marital            education default housing loan  \\\n",
      "0       56    housemaid  married             basic.4y      no      no   no   \n",
      "1       57     services  married          high.school      no      no   no   \n",
      "2       37     services  married          high.school      no     yes   no   \n",
      "3       40       admin.  married             basic.6y      no      no   no   \n",
      "4       56     services  married          high.school      no      no  yes   \n",
      "...    ...          ...      ...                  ...     ...     ...  ...   \n",
      "41183   73      retired  married  professional.course      no     yes   no   \n",
      "41184   46  blue-collar  married  professional.course      no      no   no   \n",
      "41185   56      retired  married    university.degree      no     yes   no   \n",
      "41186   44   technician  married  professional.course      no      no   no   \n",
      "41187   74      retired  married  professional.course      no     yes   no   \n",
      "\n",
      "         contact month day_of_week  ...  campaign  pdays  previous  \\\n",
      "0      telephone   may         mon  ...         1    999         0   \n",
      "1      telephone   may         mon  ...         1    999         0   \n",
      "2      telephone   may         mon  ...         1    999         0   \n",
      "3      telephone   may         mon  ...         1    999         0   \n",
      "4      telephone   may         mon  ...         1    999         0   \n",
      "...          ...   ...         ...  ...       ...    ...       ...   \n",
      "41183   cellular   nov         fri  ...         1    999         0   \n",
      "41184   cellular   nov         fri  ...         1    999         0   \n",
      "41185   cellular   nov         fri  ...         2    999         0   \n",
      "41186   cellular   nov         fri  ...         1    999         0   \n",
      "41187   cellular   nov         fri  ...         3    999         1   \n",
      "\n",
      "          poutcome emp.var.rate  cons.price.idx  cons.conf.idx  euribor3m  \\\n",
      "0      nonexistent          1.1          93.994          -36.4      4.857   \n",
      "1      nonexistent          1.1          93.994          -36.4      4.857   \n",
      "2      nonexistent          1.1          93.994          -36.4      4.857   \n",
      "3      nonexistent          1.1          93.994          -36.4      4.857   \n",
      "4      nonexistent          1.1          93.994          -36.4      4.857   \n",
      "...            ...          ...             ...            ...        ...   \n",
      "41183  nonexistent         -1.1          94.767          -50.8      1.028   \n",
      "41184  nonexistent         -1.1          94.767          -50.8      1.028   \n",
      "41185  nonexistent         -1.1          94.767          -50.8      1.028   \n",
      "41186  nonexistent         -1.1          94.767          -50.8      1.028   \n",
      "41187      failure         -1.1          94.767          -50.8      1.028   \n",
      "\n",
      "       nr.employed    y  \n",
      "0           5191.0   no  \n",
      "1           5191.0   no  \n",
      "2           5191.0   no  \n",
      "3           5191.0   no  \n",
      "4           5191.0   no  \n",
      "...            ...  ...  \n",
      "41183       4963.6  yes  \n",
      "41184       4963.6   no  \n",
      "41185       4963.6   no  \n",
      "41186       4963.6  yes  \n",
      "41187       4963.6   no  \n",
      "\n",
      "[41174 rows x 21 columns]\n"
     ]
    }
   ],
   "source": [
    "duplicates_with_original = df[df.duplicated(keep=False)]\n",
    "\n",
    "# Get the indices of the original rows\n",
    "original_indices = df[~df.duplicated(keep=False)].index\n",
    "\n",
    "# Display the original indices along with the duplicated rows\n",
    "print(\"Original Indices for Duplicated Rows:\")\n",
    "print(original_indices)\n",
    "print(\"\\nDuplicated Rows:\")\n",
    "print(duplicates_with_original)\n",
    "# Keep the first occurrence of duplicates\n",
    "df_first_occurrence = df.drop_duplicates(keep='first')\n",
    "\n",
    "# Display the DataFrame with only the first occurrence of duplicates\n",
    "print(\"DataFrame with First Occurrence of Duplicates:\")\n",
    "print(df_first_occurrence)\n"
   ]
  },
  {
   "cell_type": "code",
   "execution_count": 18,
   "id": "9aeff54d",
   "metadata": {},
   "outputs": [
    {
     "name": "stdout",
     "output_type": "stream",
     "text": [
      "0        0\n",
      "1        0\n",
      "2        1\n",
      "3        0\n",
      "4        0\n",
      "        ..\n",
      "41183    1\n",
      "41184    0\n",
      "41185    1\n",
      "41186    0\n",
      "41187    1\n",
      "Name: housing, Length: 41188, dtype: int64\n",
      "0        0\n",
      "1        0\n",
      "2        0\n",
      "3        0\n",
      "4        1\n",
      "        ..\n",
      "41183    0\n",
      "41184    0\n",
      "41185    0\n",
      "41186    0\n",
      "41187    0\n",
      "Name: loan, Length: 41188, dtype: int64\n"
     ]
    }
   ],
   "source": [
    "df['housing'] = df['housing'].replace({'yes': 1, 'no': 0})\n",
    "\n",
    "# Display the resulting DataFrame\n",
    "print(df['housing'])\n",
    "df['loan'] = df['loan'].replace({'yes': 1, 'no': 0})\n",
    "\n",
    "# Display the resulting DataFrame\n",
    "print(df['loan'])\n"
   ]
  },
  {
   "cell_type": "code",
   "execution_count": 19,
   "id": "12d6ce1b",
   "metadata": {},
   "outputs": [],
   "source": [
    "# Remobving Duplicates\n",
    "df= df.drop_duplicates()"
   ]
  },
  {
   "cell_type": "code",
   "execution_count": 20,
   "id": "ac1aab41",
   "metadata": {},
   "outputs": [
    {
     "name": "stdout",
     "output_type": "stream",
     "text": [
      "age               0\n",
      "job               0\n",
      "marital           0\n",
      "education         0\n",
      "default           0\n",
      "housing           0\n",
      "loan              0\n",
      "contact           0\n",
      "month             0\n",
      "day_of_week       0\n",
      "duration          0\n",
      "campaign          0\n",
      "pdays             0\n",
      "previous          0\n",
      "poutcome          0\n",
      "emp.var.rate      0\n",
      "cons.price.idx    0\n",
      "cons.conf.idx     0\n",
      "euribor3m         0\n",
      "nr.employed       0\n",
      "y                 0\n",
      "dtype: int64\n"
     ]
    }
   ],
   "source": [
    "print(df.isna().sum())"
   ]
  },
  {
   "cell_type": "code",
   "execution_count": 21,
   "id": "c5f83882",
   "metadata": {},
   "outputs": [],
   "source": [
    "# Method 1: Replacing unknown with mode(most frequent) value \n",
    "# By Aysha Abdul Azeez\n",
    "columns_nan = ['job', 'marital', 'education', 'default', 'housing', 'loan']      # columns containing NaN\n",
    "impute = SimpleImputer(strategy='most_frequent')                                 # Impute with mode\n"
   ]
  },
  {
   "cell_type": "code",
   "execution_count": 22,
   "id": "5e0474df",
   "metadata": {},
   "outputs": [],
   "source": [
    "df_mode_imputed = df.copy()\n",
    "for col in columns_nan:\n",
    "    df_mode_imputed[col] = impute.fit_transform(df_mode_imputed[[col]])"
   ]
  },
  {
   "cell_type": "code",
   "execution_count": 23,
   "id": "2f020073",
   "metadata": {},
   "outputs": [
    {
     "name": "stdout",
     "output_type": "stream",
     "text": [
      "NA count before Imputation:\n",
      "job          0\n",
      "marital      0\n",
      "education    0\n",
      "default      0\n",
      "housing      0\n",
      "loan         0\n",
      "dtype: int64\n",
      "\n",
      "NA count after mode Imputation:\n",
      "job          0\n",
      "marital      0\n",
      "education    0\n",
      "default      0\n",
      "housing      0\n",
      "loan         0\n",
      "dtype: int64\n"
     ]
    }
   ],
   "source": [
    "print(f'NA count before Imputation:\\n{df[columns_nan].isna().sum()}')\n",
    "print(f'\\nNA count after mode Imputation:\\n{df_mode_imputed[columns_nan].isna().sum()}')"
   ]
  },
  {
   "cell_type": "code",
   "execution_count": 24,
   "id": "458ddf5f",
   "metadata": {},
   "outputs": [
    {
     "data": {
      "text/html": [
       "<div>\n",
       "<style scoped>\n",
       "    .dataframe tbody tr th:only-of-type {\n",
       "        vertical-align: middle;\n",
       "    }\n",
       "\n",
       "    .dataframe tbody tr th {\n",
       "        vertical-align: top;\n",
       "    }\n",
       "\n",
       "    .dataframe thead th {\n",
       "        text-align: right;\n",
       "    }\n",
       "</style>\n",
       "<table border=\"1\" class=\"dataframe\">\n",
       "  <thead>\n",
       "    <tr style=\"text-align: right;\">\n",
       "      <th></th>\n",
       "      <th>age</th>\n",
       "      <th>job</th>\n",
       "      <th>marital</th>\n",
       "      <th>education</th>\n",
       "      <th>default</th>\n",
       "      <th>housing</th>\n",
       "      <th>loan</th>\n",
       "      <th>contact</th>\n",
       "      <th>month</th>\n",
       "      <th>day_of_week</th>\n",
       "      <th>...</th>\n",
       "      <th>campaign</th>\n",
       "      <th>pdays</th>\n",
       "      <th>previous</th>\n",
       "      <th>poutcome</th>\n",
       "      <th>emp.var.rate</th>\n",
       "      <th>cons.price.idx</th>\n",
       "      <th>cons.conf.idx</th>\n",
       "      <th>euribor3m</th>\n",
       "      <th>nr.employed</th>\n",
       "      <th>y</th>\n",
       "    </tr>\n",
       "  </thead>\n",
       "  <tbody>\n",
       "    <tr>\n",
       "      <th>0</th>\n",
       "      <td>56</td>\n",
       "      <td>housemaid</td>\n",
       "      <td>married</td>\n",
       "      <td>basic.4y</td>\n",
       "      <td>no</td>\n",
       "      <td>0</td>\n",
       "      <td>0</td>\n",
       "      <td>telephone</td>\n",
       "      <td>may</td>\n",
       "      <td>mon</td>\n",
       "      <td>...</td>\n",
       "      <td>1</td>\n",
       "      <td>999</td>\n",
       "      <td>0</td>\n",
       "      <td>nonexistent</td>\n",
       "      <td>1.1</td>\n",
       "      <td>93.994</td>\n",
       "      <td>-36.4</td>\n",
       "      <td>4.857</td>\n",
       "      <td>5191.0</td>\n",
       "      <td>no</td>\n",
       "    </tr>\n",
       "    <tr>\n",
       "      <th>1</th>\n",
       "      <td>57</td>\n",
       "      <td>services</td>\n",
       "      <td>married</td>\n",
       "      <td>high.school</td>\n",
       "      <td>no</td>\n",
       "      <td>0</td>\n",
       "      <td>0</td>\n",
       "      <td>telephone</td>\n",
       "      <td>may</td>\n",
       "      <td>mon</td>\n",
       "      <td>...</td>\n",
       "      <td>1</td>\n",
       "      <td>999</td>\n",
       "      <td>0</td>\n",
       "      <td>nonexistent</td>\n",
       "      <td>1.1</td>\n",
       "      <td>93.994</td>\n",
       "      <td>-36.4</td>\n",
       "      <td>4.857</td>\n",
       "      <td>5191.0</td>\n",
       "      <td>no</td>\n",
       "    </tr>\n",
       "    <tr>\n",
       "      <th>2</th>\n",
       "      <td>37</td>\n",
       "      <td>services</td>\n",
       "      <td>married</td>\n",
       "      <td>high.school</td>\n",
       "      <td>no</td>\n",
       "      <td>1</td>\n",
       "      <td>0</td>\n",
       "      <td>telephone</td>\n",
       "      <td>may</td>\n",
       "      <td>mon</td>\n",
       "      <td>...</td>\n",
       "      <td>1</td>\n",
       "      <td>999</td>\n",
       "      <td>0</td>\n",
       "      <td>nonexistent</td>\n",
       "      <td>1.1</td>\n",
       "      <td>93.994</td>\n",
       "      <td>-36.4</td>\n",
       "      <td>4.857</td>\n",
       "      <td>5191.0</td>\n",
       "      <td>no</td>\n",
       "    </tr>\n",
       "    <tr>\n",
       "      <th>3</th>\n",
       "      <td>40</td>\n",
       "      <td>admin.</td>\n",
       "      <td>married</td>\n",
       "      <td>basic.6y</td>\n",
       "      <td>no</td>\n",
       "      <td>0</td>\n",
       "      <td>0</td>\n",
       "      <td>telephone</td>\n",
       "      <td>may</td>\n",
       "      <td>mon</td>\n",
       "      <td>...</td>\n",
       "      <td>1</td>\n",
       "      <td>999</td>\n",
       "      <td>0</td>\n",
       "      <td>nonexistent</td>\n",
       "      <td>1.1</td>\n",
       "      <td>93.994</td>\n",
       "      <td>-36.4</td>\n",
       "      <td>4.857</td>\n",
       "      <td>5191.0</td>\n",
       "      <td>no</td>\n",
       "    </tr>\n",
       "    <tr>\n",
       "      <th>4</th>\n",
       "      <td>56</td>\n",
       "      <td>services</td>\n",
       "      <td>married</td>\n",
       "      <td>high.school</td>\n",
       "      <td>no</td>\n",
       "      <td>0</td>\n",
       "      <td>1</td>\n",
       "      <td>telephone</td>\n",
       "      <td>may</td>\n",
       "      <td>mon</td>\n",
       "      <td>...</td>\n",
       "      <td>1</td>\n",
       "      <td>999</td>\n",
       "      <td>0</td>\n",
       "      <td>nonexistent</td>\n",
       "      <td>1.1</td>\n",
       "      <td>93.994</td>\n",
       "      <td>-36.4</td>\n",
       "      <td>4.857</td>\n",
       "      <td>5191.0</td>\n",
       "      <td>no</td>\n",
       "    </tr>\n",
       "    <tr>\n",
       "      <th>...</th>\n",
       "      <td>...</td>\n",
       "      <td>...</td>\n",
       "      <td>...</td>\n",
       "      <td>...</td>\n",
       "      <td>...</td>\n",
       "      <td>...</td>\n",
       "      <td>...</td>\n",
       "      <td>...</td>\n",
       "      <td>...</td>\n",
       "      <td>...</td>\n",
       "      <td>...</td>\n",
       "      <td>...</td>\n",
       "      <td>...</td>\n",
       "      <td>...</td>\n",
       "      <td>...</td>\n",
       "      <td>...</td>\n",
       "      <td>...</td>\n",
       "      <td>...</td>\n",
       "      <td>...</td>\n",
       "      <td>...</td>\n",
       "      <td>...</td>\n",
       "    </tr>\n",
       "    <tr>\n",
       "      <th>41183</th>\n",
       "      <td>73</td>\n",
       "      <td>retired</td>\n",
       "      <td>married</td>\n",
       "      <td>professional.course</td>\n",
       "      <td>no</td>\n",
       "      <td>1</td>\n",
       "      <td>0</td>\n",
       "      <td>cellular</td>\n",
       "      <td>nov</td>\n",
       "      <td>fri</td>\n",
       "      <td>...</td>\n",
       "      <td>1</td>\n",
       "      <td>999</td>\n",
       "      <td>0</td>\n",
       "      <td>nonexistent</td>\n",
       "      <td>-1.1</td>\n",
       "      <td>94.767</td>\n",
       "      <td>-50.8</td>\n",
       "      <td>1.028</td>\n",
       "      <td>4963.6</td>\n",
       "      <td>yes</td>\n",
       "    </tr>\n",
       "    <tr>\n",
       "      <th>41184</th>\n",
       "      <td>46</td>\n",
       "      <td>blue-collar</td>\n",
       "      <td>married</td>\n",
       "      <td>professional.course</td>\n",
       "      <td>no</td>\n",
       "      <td>0</td>\n",
       "      <td>0</td>\n",
       "      <td>cellular</td>\n",
       "      <td>nov</td>\n",
       "      <td>fri</td>\n",
       "      <td>...</td>\n",
       "      <td>1</td>\n",
       "      <td>999</td>\n",
       "      <td>0</td>\n",
       "      <td>nonexistent</td>\n",
       "      <td>-1.1</td>\n",
       "      <td>94.767</td>\n",
       "      <td>-50.8</td>\n",
       "      <td>1.028</td>\n",
       "      <td>4963.6</td>\n",
       "      <td>no</td>\n",
       "    </tr>\n",
       "    <tr>\n",
       "      <th>41185</th>\n",
       "      <td>56</td>\n",
       "      <td>retired</td>\n",
       "      <td>married</td>\n",
       "      <td>university.degree</td>\n",
       "      <td>no</td>\n",
       "      <td>1</td>\n",
       "      <td>0</td>\n",
       "      <td>cellular</td>\n",
       "      <td>nov</td>\n",
       "      <td>fri</td>\n",
       "      <td>...</td>\n",
       "      <td>2</td>\n",
       "      <td>999</td>\n",
       "      <td>0</td>\n",
       "      <td>nonexistent</td>\n",
       "      <td>-1.1</td>\n",
       "      <td>94.767</td>\n",
       "      <td>-50.8</td>\n",
       "      <td>1.028</td>\n",
       "      <td>4963.6</td>\n",
       "      <td>no</td>\n",
       "    </tr>\n",
       "    <tr>\n",
       "      <th>41186</th>\n",
       "      <td>44</td>\n",
       "      <td>technician</td>\n",
       "      <td>married</td>\n",
       "      <td>professional.course</td>\n",
       "      <td>no</td>\n",
       "      <td>0</td>\n",
       "      <td>0</td>\n",
       "      <td>cellular</td>\n",
       "      <td>nov</td>\n",
       "      <td>fri</td>\n",
       "      <td>...</td>\n",
       "      <td>1</td>\n",
       "      <td>999</td>\n",
       "      <td>0</td>\n",
       "      <td>nonexistent</td>\n",
       "      <td>-1.1</td>\n",
       "      <td>94.767</td>\n",
       "      <td>-50.8</td>\n",
       "      <td>1.028</td>\n",
       "      <td>4963.6</td>\n",
       "      <td>yes</td>\n",
       "    </tr>\n",
       "    <tr>\n",
       "      <th>41187</th>\n",
       "      <td>74</td>\n",
       "      <td>retired</td>\n",
       "      <td>married</td>\n",
       "      <td>professional.course</td>\n",
       "      <td>no</td>\n",
       "      <td>1</td>\n",
       "      <td>0</td>\n",
       "      <td>cellular</td>\n",
       "      <td>nov</td>\n",
       "      <td>fri</td>\n",
       "      <td>...</td>\n",
       "      <td>3</td>\n",
       "      <td>999</td>\n",
       "      <td>1</td>\n",
       "      <td>failure</td>\n",
       "      <td>-1.1</td>\n",
       "      <td>94.767</td>\n",
       "      <td>-50.8</td>\n",
       "      <td>1.028</td>\n",
       "      <td>4963.6</td>\n",
       "      <td>no</td>\n",
       "    </tr>\n",
       "  </tbody>\n",
       "</table>\n",
       "<p>41174 rows × 21 columns</p>\n",
       "</div>"
      ],
      "text/plain": [
       "       age          job  marital            education default  housing  loan  \\\n",
       "0       56    housemaid  married             basic.4y      no        0     0   \n",
       "1       57     services  married          high.school      no        0     0   \n",
       "2       37     services  married          high.school      no        1     0   \n",
       "3       40       admin.  married             basic.6y      no        0     0   \n",
       "4       56     services  married          high.school      no        0     1   \n",
       "...    ...          ...      ...                  ...     ...      ...   ...   \n",
       "41183   73      retired  married  professional.course      no        1     0   \n",
       "41184   46  blue-collar  married  professional.course      no        0     0   \n",
       "41185   56      retired  married    university.degree      no        1     0   \n",
       "41186   44   technician  married  professional.course      no        0     0   \n",
       "41187   74      retired  married  professional.course      no        1     0   \n",
       "\n",
       "         contact month day_of_week  ...  campaign  pdays  previous  \\\n",
       "0      telephone   may         mon  ...         1    999         0   \n",
       "1      telephone   may         mon  ...         1    999         0   \n",
       "2      telephone   may         mon  ...         1    999         0   \n",
       "3      telephone   may         mon  ...         1    999         0   \n",
       "4      telephone   may         mon  ...         1    999         0   \n",
       "...          ...   ...         ...  ...       ...    ...       ...   \n",
       "41183   cellular   nov         fri  ...         1    999         0   \n",
       "41184   cellular   nov         fri  ...         1    999         0   \n",
       "41185   cellular   nov         fri  ...         2    999         0   \n",
       "41186   cellular   nov         fri  ...         1    999         0   \n",
       "41187   cellular   nov         fri  ...         3    999         1   \n",
       "\n",
       "          poutcome emp.var.rate  cons.price.idx  cons.conf.idx  euribor3m  \\\n",
       "0      nonexistent          1.1          93.994          -36.4      4.857   \n",
       "1      nonexistent          1.1          93.994          -36.4      4.857   \n",
       "2      nonexistent          1.1          93.994          -36.4      4.857   \n",
       "3      nonexistent          1.1          93.994          -36.4      4.857   \n",
       "4      nonexistent          1.1          93.994          -36.4      4.857   \n",
       "...            ...          ...             ...            ...        ...   \n",
       "41183  nonexistent         -1.1          94.767          -50.8      1.028   \n",
       "41184  nonexistent         -1.1          94.767          -50.8      1.028   \n",
       "41185  nonexistent         -1.1          94.767          -50.8      1.028   \n",
       "41186  nonexistent         -1.1          94.767          -50.8      1.028   \n",
       "41187      failure         -1.1          94.767          -50.8      1.028   \n",
       "\n",
       "       nr.employed    y  \n",
       "0           5191.0   no  \n",
       "1           5191.0   no  \n",
       "2           5191.0   no  \n",
       "3           5191.0   no  \n",
       "4           5191.0   no  \n",
       "...            ...  ...  \n",
       "41183       4963.6  yes  \n",
       "41184       4963.6   no  \n",
       "41185       4963.6   no  \n",
       "41186       4963.6  yes  \n",
       "41187       4963.6   no  \n",
       "\n",
       "[41174 rows x 21 columns]"
      ]
     },
     "execution_count": 24,
     "metadata": {},
     "output_type": "execute_result"
    }
   ],
   "source": [
    "df_mode_imputed"
   ]
  },
  {
   "cell_type": "markdown",
   "id": "93fc8a46",
   "metadata": {},
   "source": [
    "Review for Method 1 by Nrusimha Saraswati Sai Teja Jampani\n",
    "\n",
    "The approach was made rather simpler by good use of sklearn library instead of complicating \n",
    " things by finding mode for each column. I can see that the the NAs are replaced by most frequest value\n",
    " appearing in the column. This method can introduce some bias but has to be verified during testing"
   ]
  },
  {
   "cell_type": "code",
   "execution_count": 25,
   "id": "31a28fd6",
   "metadata": {},
   "outputs": [],
   "source": [
    "# Method 2: Imputing unknown with Random sample values\n",
    "# By Purvesh Mehta\n",
    "df_random_imputed = df.copy()\n"
   ]
  },
  {
   "cell_type": "code",
   "execution_count": 26,
   "id": "2415b674",
   "metadata": {},
   "outputs": [],
   "source": [
    "for col in columns_nan:\n",
    "    col_unique_values = df_random_imputed[col].dropna().unique()\n",
    "    df_random_imputed[col] = df_random_imputed[col].apply(lambda x: np.random.choice(col_unique_values) if pd.isnull(x) else x)"
   ]
  },
  {
   "cell_type": "code",
   "execution_count": 27,
   "id": "de979141",
   "metadata": {},
   "outputs": [
    {
     "name": "stdout",
     "output_type": "stream",
     "text": [
      "NA count before Imputation:\n",
      "job          0\n",
      "marital      0\n",
      "education    0\n",
      "default      0\n",
      "housing      0\n",
      "loan         0\n",
      "dtype: int64\n",
      "\n",
      "NA count after Random Imputation:\n",
      "job          0\n",
      "marital      0\n",
      "education    0\n",
      "default      0\n",
      "housing      0\n",
      "loan         0\n",
      "dtype: int64\n"
     ]
    }
   ],
   "source": [
    "print(f'NA count before Imputation:\\n{df[columns_nan].isna().sum()}')\n",
    "print(f'\\nNA count after Random Imputation:\\n{df_random_imputed[columns_nan].isna().sum()}')"
   ]
  },
  {
   "cell_type": "code",
   "execution_count": 28,
   "id": "11f1699d",
   "metadata": {},
   "outputs": [
    {
     "data": {
      "text/html": [
       "<div>\n",
       "<style scoped>\n",
       "    .dataframe tbody tr th:only-of-type {\n",
       "        vertical-align: middle;\n",
       "    }\n",
       "\n",
       "    .dataframe tbody tr th {\n",
       "        vertical-align: top;\n",
       "    }\n",
       "\n",
       "    .dataframe thead th {\n",
       "        text-align: right;\n",
       "    }\n",
       "</style>\n",
       "<table border=\"1\" class=\"dataframe\">\n",
       "  <thead>\n",
       "    <tr style=\"text-align: right;\">\n",
       "      <th></th>\n",
       "      <th>age</th>\n",
       "      <th>job</th>\n",
       "      <th>marital</th>\n",
       "      <th>education</th>\n",
       "      <th>default</th>\n",
       "      <th>housing</th>\n",
       "      <th>loan</th>\n",
       "      <th>contact</th>\n",
       "      <th>month</th>\n",
       "      <th>day_of_week</th>\n",
       "      <th>...</th>\n",
       "      <th>campaign</th>\n",
       "      <th>pdays</th>\n",
       "      <th>previous</th>\n",
       "      <th>poutcome</th>\n",
       "      <th>emp.var.rate</th>\n",
       "      <th>cons.price.idx</th>\n",
       "      <th>cons.conf.idx</th>\n",
       "      <th>euribor3m</th>\n",
       "      <th>nr.employed</th>\n",
       "      <th>y</th>\n",
       "    </tr>\n",
       "  </thead>\n",
       "  <tbody>\n",
       "    <tr>\n",
       "      <th>0</th>\n",
       "      <td>56</td>\n",
       "      <td>housemaid</td>\n",
       "      <td>married</td>\n",
       "      <td>basic.4y</td>\n",
       "      <td>no</td>\n",
       "      <td>0</td>\n",
       "      <td>0</td>\n",
       "      <td>telephone</td>\n",
       "      <td>may</td>\n",
       "      <td>mon</td>\n",
       "      <td>...</td>\n",
       "      <td>1</td>\n",
       "      <td>999</td>\n",
       "      <td>0</td>\n",
       "      <td>nonexistent</td>\n",
       "      <td>1.1</td>\n",
       "      <td>93.994</td>\n",
       "      <td>-36.4</td>\n",
       "      <td>4.857</td>\n",
       "      <td>5191.0</td>\n",
       "      <td>no</td>\n",
       "    </tr>\n",
       "    <tr>\n",
       "      <th>1</th>\n",
       "      <td>57</td>\n",
       "      <td>services</td>\n",
       "      <td>married</td>\n",
       "      <td>high.school</td>\n",
       "      <td>no</td>\n",
       "      <td>0</td>\n",
       "      <td>0</td>\n",
       "      <td>telephone</td>\n",
       "      <td>may</td>\n",
       "      <td>mon</td>\n",
       "      <td>...</td>\n",
       "      <td>1</td>\n",
       "      <td>999</td>\n",
       "      <td>0</td>\n",
       "      <td>nonexistent</td>\n",
       "      <td>1.1</td>\n",
       "      <td>93.994</td>\n",
       "      <td>-36.4</td>\n",
       "      <td>4.857</td>\n",
       "      <td>5191.0</td>\n",
       "      <td>no</td>\n",
       "    </tr>\n",
       "    <tr>\n",
       "      <th>2</th>\n",
       "      <td>37</td>\n",
       "      <td>services</td>\n",
       "      <td>married</td>\n",
       "      <td>high.school</td>\n",
       "      <td>no</td>\n",
       "      <td>1</td>\n",
       "      <td>0</td>\n",
       "      <td>telephone</td>\n",
       "      <td>may</td>\n",
       "      <td>mon</td>\n",
       "      <td>...</td>\n",
       "      <td>1</td>\n",
       "      <td>999</td>\n",
       "      <td>0</td>\n",
       "      <td>nonexistent</td>\n",
       "      <td>1.1</td>\n",
       "      <td>93.994</td>\n",
       "      <td>-36.4</td>\n",
       "      <td>4.857</td>\n",
       "      <td>5191.0</td>\n",
       "      <td>no</td>\n",
       "    </tr>\n",
       "    <tr>\n",
       "      <th>3</th>\n",
       "      <td>40</td>\n",
       "      <td>admin.</td>\n",
       "      <td>married</td>\n",
       "      <td>basic.6y</td>\n",
       "      <td>no</td>\n",
       "      <td>0</td>\n",
       "      <td>0</td>\n",
       "      <td>telephone</td>\n",
       "      <td>may</td>\n",
       "      <td>mon</td>\n",
       "      <td>...</td>\n",
       "      <td>1</td>\n",
       "      <td>999</td>\n",
       "      <td>0</td>\n",
       "      <td>nonexistent</td>\n",
       "      <td>1.1</td>\n",
       "      <td>93.994</td>\n",
       "      <td>-36.4</td>\n",
       "      <td>4.857</td>\n",
       "      <td>5191.0</td>\n",
       "      <td>no</td>\n",
       "    </tr>\n",
       "    <tr>\n",
       "      <th>4</th>\n",
       "      <td>56</td>\n",
       "      <td>services</td>\n",
       "      <td>married</td>\n",
       "      <td>high.school</td>\n",
       "      <td>no</td>\n",
       "      <td>0</td>\n",
       "      <td>1</td>\n",
       "      <td>telephone</td>\n",
       "      <td>may</td>\n",
       "      <td>mon</td>\n",
       "      <td>...</td>\n",
       "      <td>1</td>\n",
       "      <td>999</td>\n",
       "      <td>0</td>\n",
       "      <td>nonexistent</td>\n",
       "      <td>1.1</td>\n",
       "      <td>93.994</td>\n",
       "      <td>-36.4</td>\n",
       "      <td>4.857</td>\n",
       "      <td>5191.0</td>\n",
       "      <td>no</td>\n",
       "    </tr>\n",
       "    <tr>\n",
       "      <th>...</th>\n",
       "      <td>...</td>\n",
       "      <td>...</td>\n",
       "      <td>...</td>\n",
       "      <td>...</td>\n",
       "      <td>...</td>\n",
       "      <td>...</td>\n",
       "      <td>...</td>\n",
       "      <td>...</td>\n",
       "      <td>...</td>\n",
       "      <td>...</td>\n",
       "      <td>...</td>\n",
       "      <td>...</td>\n",
       "      <td>...</td>\n",
       "      <td>...</td>\n",
       "      <td>...</td>\n",
       "      <td>...</td>\n",
       "      <td>...</td>\n",
       "      <td>...</td>\n",
       "      <td>...</td>\n",
       "      <td>...</td>\n",
       "      <td>...</td>\n",
       "    </tr>\n",
       "    <tr>\n",
       "      <th>41183</th>\n",
       "      <td>73</td>\n",
       "      <td>retired</td>\n",
       "      <td>married</td>\n",
       "      <td>professional.course</td>\n",
       "      <td>no</td>\n",
       "      <td>1</td>\n",
       "      <td>0</td>\n",
       "      <td>cellular</td>\n",
       "      <td>nov</td>\n",
       "      <td>fri</td>\n",
       "      <td>...</td>\n",
       "      <td>1</td>\n",
       "      <td>999</td>\n",
       "      <td>0</td>\n",
       "      <td>nonexistent</td>\n",
       "      <td>-1.1</td>\n",
       "      <td>94.767</td>\n",
       "      <td>-50.8</td>\n",
       "      <td>1.028</td>\n",
       "      <td>4963.6</td>\n",
       "      <td>yes</td>\n",
       "    </tr>\n",
       "    <tr>\n",
       "      <th>41184</th>\n",
       "      <td>46</td>\n",
       "      <td>blue-collar</td>\n",
       "      <td>married</td>\n",
       "      <td>professional.course</td>\n",
       "      <td>no</td>\n",
       "      <td>0</td>\n",
       "      <td>0</td>\n",
       "      <td>cellular</td>\n",
       "      <td>nov</td>\n",
       "      <td>fri</td>\n",
       "      <td>...</td>\n",
       "      <td>1</td>\n",
       "      <td>999</td>\n",
       "      <td>0</td>\n",
       "      <td>nonexistent</td>\n",
       "      <td>-1.1</td>\n",
       "      <td>94.767</td>\n",
       "      <td>-50.8</td>\n",
       "      <td>1.028</td>\n",
       "      <td>4963.6</td>\n",
       "      <td>no</td>\n",
       "    </tr>\n",
       "    <tr>\n",
       "      <th>41185</th>\n",
       "      <td>56</td>\n",
       "      <td>retired</td>\n",
       "      <td>married</td>\n",
       "      <td>university.degree</td>\n",
       "      <td>no</td>\n",
       "      <td>1</td>\n",
       "      <td>0</td>\n",
       "      <td>cellular</td>\n",
       "      <td>nov</td>\n",
       "      <td>fri</td>\n",
       "      <td>...</td>\n",
       "      <td>2</td>\n",
       "      <td>999</td>\n",
       "      <td>0</td>\n",
       "      <td>nonexistent</td>\n",
       "      <td>-1.1</td>\n",
       "      <td>94.767</td>\n",
       "      <td>-50.8</td>\n",
       "      <td>1.028</td>\n",
       "      <td>4963.6</td>\n",
       "      <td>no</td>\n",
       "    </tr>\n",
       "    <tr>\n",
       "      <th>41186</th>\n",
       "      <td>44</td>\n",
       "      <td>technician</td>\n",
       "      <td>married</td>\n",
       "      <td>professional.course</td>\n",
       "      <td>no</td>\n",
       "      <td>0</td>\n",
       "      <td>0</td>\n",
       "      <td>cellular</td>\n",
       "      <td>nov</td>\n",
       "      <td>fri</td>\n",
       "      <td>...</td>\n",
       "      <td>1</td>\n",
       "      <td>999</td>\n",
       "      <td>0</td>\n",
       "      <td>nonexistent</td>\n",
       "      <td>-1.1</td>\n",
       "      <td>94.767</td>\n",
       "      <td>-50.8</td>\n",
       "      <td>1.028</td>\n",
       "      <td>4963.6</td>\n",
       "      <td>yes</td>\n",
       "    </tr>\n",
       "    <tr>\n",
       "      <th>41187</th>\n",
       "      <td>74</td>\n",
       "      <td>retired</td>\n",
       "      <td>married</td>\n",
       "      <td>professional.course</td>\n",
       "      <td>no</td>\n",
       "      <td>1</td>\n",
       "      <td>0</td>\n",
       "      <td>cellular</td>\n",
       "      <td>nov</td>\n",
       "      <td>fri</td>\n",
       "      <td>...</td>\n",
       "      <td>3</td>\n",
       "      <td>999</td>\n",
       "      <td>1</td>\n",
       "      <td>failure</td>\n",
       "      <td>-1.1</td>\n",
       "      <td>94.767</td>\n",
       "      <td>-50.8</td>\n",
       "      <td>1.028</td>\n",
       "      <td>4963.6</td>\n",
       "      <td>no</td>\n",
       "    </tr>\n",
       "  </tbody>\n",
       "</table>\n",
       "<p>41174 rows × 21 columns</p>\n",
       "</div>"
      ],
      "text/plain": [
       "       age          job  marital            education default  housing  loan  \\\n",
       "0       56    housemaid  married             basic.4y      no        0     0   \n",
       "1       57     services  married          high.school      no        0     0   \n",
       "2       37     services  married          high.school      no        1     0   \n",
       "3       40       admin.  married             basic.6y      no        0     0   \n",
       "4       56     services  married          high.school      no        0     1   \n",
       "...    ...          ...      ...                  ...     ...      ...   ...   \n",
       "41183   73      retired  married  professional.course      no        1     0   \n",
       "41184   46  blue-collar  married  professional.course      no        0     0   \n",
       "41185   56      retired  married    university.degree      no        1     0   \n",
       "41186   44   technician  married  professional.course      no        0     0   \n",
       "41187   74      retired  married  professional.course      no        1     0   \n",
       "\n",
       "         contact month day_of_week  ...  campaign  pdays  previous  \\\n",
       "0      telephone   may         mon  ...         1    999         0   \n",
       "1      telephone   may         mon  ...         1    999         0   \n",
       "2      telephone   may         mon  ...         1    999         0   \n",
       "3      telephone   may         mon  ...         1    999         0   \n",
       "4      telephone   may         mon  ...         1    999         0   \n",
       "...          ...   ...         ...  ...       ...    ...       ...   \n",
       "41183   cellular   nov         fri  ...         1    999         0   \n",
       "41184   cellular   nov         fri  ...         1    999         0   \n",
       "41185   cellular   nov         fri  ...         2    999         0   \n",
       "41186   cellular   nov         fri  ...         1    999         0   \n",
       "41187   cellular   nov         fri  ...         3    999         1   \n",
       "\n",
       "          poutcome emp.var.rate  cons.price.idx  cons.conf.idx  euribor3m  \\\n",
       "0      nonexistent          1.1          93.994          -36.4      4.857   \n",
       "1      nonexistent          1.1          93.994          -36.4      4.857   \n",
       "2      nonexistent          1.1          93.994          -36.4      4.857   \n",
       "3      nonexistent          1.1          93.994          -36.4      4.857   \n",
       "4      nonexistent          1.1          93.994          -36.4      4.857   \n",
       "...            ...          ...             ...            ...        ...   \n",
       "41183  nonexistent         -1.1          94.767          -50.8      1.028   \n",
       "41184  nonexistent         -1.1          94.767          -50.8      1.028   \n",
       "41185  nonexistent         -1.1          94.767          -50.8      1.028   \n",
       "41186  nonexistent         -1.1          94.767          -50.8      1.028   \n",
       "41187      failure         -1.1          94.767          -50.8      1.028   \n",
       "\n",
       "       nr.employed    y  \n",
       "0           5191.0   no  \n",
       "1           5191.0   no  \n",
       "2           5191.0   no  \n",
       "3           5191.0   no  \n",
       "4           5191.0   no  \n",
       "...            ...  ...  \n",
       "41183       4963.6  yes  \n",
       "41184       4963.6   no  \n",
       "41185       4963.6   no  \n",
       "41186       4963.6  yes  \n",
       "41187       4963.6   no  \n",
       "\n",
       "[41174 rows x 21 columns]"
      ]
     },
     "execution_count": 28,
     "metadata": {},
     "output_type": "execute_result"
    }
   ],
   "source": [
    "df_random_imputed"
   ]
  },
  {
   "cell_type": "markdown",
   "id": "2907fc66",
   "metadata": {},
   "source": [
    "Review for Method 2 by Aysha Abdul Azeez\n",
    "\n",
    " I understand that since only categorical columns contain NA values, it would be wise enough to do a random \n",
    " sampling of the values and replace the NAs with random values instead of other methods like imputing with mean \n",
    " or median. There can be inconsistency in the prediction since the values imputed can be too random for the model\n",
    " to produce optimal results"
   ]
  },
  {
   "cell_type": "code",
   "execution_count": 29,
   "id": "8e348395",
   "metadata": {},
   "outputs": [
    {
     "name": "stdout",
     "output_type": "stream",
     "text": [
      "['job', 'marital', 'education', 'default', 'contact', 'month', 'day_of_week', 'poutcome', 'y']\n"
     ]
    }
   ],
   "source": [
    "# Method 3: Model based imputing using KNN\n",
    "# By Nrusimha Saraswati Sai Teja Jampani\n",
    "df_model_imputed = df.copy()\n",
    "cat_cols = list(df.select_dtypes(include=['object']).columns)\n",
    "print(cat_cols)"
   ]
  },
  {
   "cell_type": "code",
   "execution_count": 30,
   "id": "1bab878a",
   "metadata": {},
   "outputs": [],
   "source": [
    "label_encoder = LabelEncoder()\n",
    "\n",
    "for col in cat_cols:\n",
    "    df_model_imputed[col] = label_encoder.fit_transform(df_model_imputed[col].astype(str))\n",
    "    \n",
    "for col in columns_nan:\n",
    "    \n",
    "    df_train = df_model_imputed.dropna(subset=[col])     # Create a DataFrame with non-missing values for training the model\n",
    "    \n",
    "    X_train = df_train.drop(col, axis=1)                 # Separate features and target variable\n",
    "    y_train = df_train[col]                              # Take all other columns as features and current NA valued column as target\n",
    "    \n",
    "    rf_classifier = RandomForestClassifier(n_estimators=100, random_state=42)     # Create a random forest classifier\n",
    "    \n",
    "    rf_classifier.fit(X_train, y_train)                 # Fit the model\n",
    "    \n",
    "    missing_rows = df_model_imputed[df_model_imputed[col].isna()]      # Identify rows with missing values in the target column\n",
    "    \n",
    "    # Predict missing values\n",
    "    if not missing_rows.empty:\n",
    "        X_missing = missing_rows.drop(col, axis=1)\n",
    "        predicted_values = rf_classifier.predict(X_missing)\n",
    "        \n",
    "        df_model_imputed.loc[missing_rows.index, column] = predicted_values  # Fill in missing values\n"
   ]
  },
  {
   "cell_type": "code",
   "execution_count": 31,
   "id": "34b6ceae",
   "metadata": {},
   "outputs": [
    {
     "name": "stdout",
     "output_type": "stream",
     "text": [
      "NA count before Imputation:\n",
      "job          0\n",
      "marital      0\n",
      "education    0\n",
      "default      0\n",
      "housing      0\n",
      "loan         0\n",
      "dtype: int64\n",
      "\n",
      "NA count after Model based Imputation:\n",
      "job          0\n",
      "marital      0\n",
      "education    0\n",
      "default      0\n",
      "housing      0\n",
      "loan         0\n",
      "dtype: int64\n"
     ]
    }
   ],
   "source": [
    "print(f'NA count before Imputation:\\n{df[columns_nan].isna().sum()}')\n",
    "print(f'\\nNA count after Model based Imputation:\\n{df_model_imputed[columns_nan].isna().sum()}')"
   ]
  },
  {
   "cell_type": "markdown",
   "id": "90efdd63",
   "metadata": {},
   "source": [
    " Review for Method 3 by Purvesh Mehta\n",
    "\n",
    "Appriciate the use of all other columns for predicting the NA values. But some of the columns may have\n",
    "weak relationship with the target column and may just add computational complexity. Randomforest can be a good option,\n",
    "however, other exploring other models too might give good results"
   ]
  },
  {
   "cell_type": "code",
   "execution_count": 32,
   "id": "fa2943c7",
   "metadata": {},
   "outputs": [
    {
     "data": {
      "image/png": "[encoded data removed]",
      "text/plain": [
       "<Figure size 288x288 with 1 Axes>"
      ]
     },
     "metadata": {
      "needs_background": "light"
     },
     "output_type": "display_data"
    },
    {
     "data": {
      "image/png": "[encoded data removed]",
      "text/plain": [
       "<Figure size 288x288 with 1 Axes>"
      ]
     },
     "metadata": {
      "needs_background": "light"
     },
     "output_type": "display_data"
    },
    {
     "data": {
      "image/png": "[encoded data removed]",
      "text/plain": [
       "<Figure size 288x288 with 1 Axes>"
      ]
     },
     "metadata": {
      "needs_background": "light"
     },
     "output_type": "display_data"
    },
    {
     "data": {
      "image/png": "[encoded data removed]",
      "text/plain": [
       "<Figure size 288x288 with 1 Axes>"
      ]
     },
     "metadata": {
      "needs_background": "light"
     },
     "output_type": "display_data"
    },
    {
     "data": {
      "image/png": "[encoded data removed]",
      "text/plain": [
       "<Figure size 288x288 with 1 Axes>"
      ]
     },
     "metadata": {
      "needs_background": "light"
     },
     "output_type": "display_data"
    },
    {
     "data": {
      "image/png": "[encoded data removed]",
      "text/plain": [
       "<Figure size 288x288 with 1 Axes>"
      ]
     },
     "metadata": {
      "needs_background": "light"
     },
     "output_type": "display_data"
    },
    {
     "data": {
      "image/png": "[encoded data removed]",
      "text/plain": [
       "<Figure size 288x288 with 1 Axes>"
      ]
     },
     "metadata": {
      "needs_background": "light"
     },
     "output_type": "display_data"
    },
    {
     "data": {
      "image/png": "[encoded data removed]",
      "text/plain": [
       "<Figure size 288x288 with 1 Axes>"
      ]
     },
     "metadata": {
      "needs_background": "light"
     },
     "output_type": "display_data"
    },
    {
     "data": {
      "image/png": "[encoded data removed]",
      "text/plain": [
       "<Figure size 288x288 with 1 Axes>"
      ]
     },
     "metadata": {
      "needs_background": "light"
     },
     "output_type": "display_data"
    }
   ],
   "source": [
    "# Handling Outliers\n",
    "# Box plots to visualize outliers\n",
    "numeric_variables = ['age', 'campaign', 'pdays', 'previous', 'emp.var.rate', 'cons.price.idx', 'cons.conf.idx', 'euribor3m', 'nr.employed']\n",
    "\n",
    "for col in numeric_variables:\n",
    "    plt.figure(figsize=(4, 4))\n",
    "    sns.boxplot(data=df[col])\n",
    "    plt.title(f'Box Plot of {col}')\n",
    "    plt.show()"
   ]
  },
  {
   "cell_type": "code",
   "execution_count": 33,
   "id": "d6f2a597",
   "metadata": {},
   "outputs": [],
   "source": [
    "# Age, campaign and cons.conf.idx contains outliers"
   ]
  },
  {
   "cell_type": "code",
   "execution_count": 34,
   "id": "2adadf80",
   "metadata": {},
   "outputs": [],
   "source": [
    "# Method 1: Trimming the outlier values\n",
    "# By Purvesh Mehta"
   ]
  },
  {
   "cell_type": "code",
   "execution_count": 35,
   "id": "1b6b0701",
   "metadata": {},
   "outputs": [],
   "source": [
    "outlier_cols = ['age', 'campaign','cons.conf.idx']\n",
    "df_trimmed = df.copy()\n",
    "for col in outlier_cols:\n",
    "    q1 = df_trimmed[col].quantile(0.25)\n",
    "    q3 = df_trimmed[col].quantile(0.75)\n",
    "    iqr = q3 - q1\n",
    "    lower_bound = q1 - 1.5 * iqr\n",
    "    upper_bound = q3 + 1.5 * iqr\n",
    "    df_trimmed[col] = df_trimmed[col].clip(lower=lower_bound, upper=upper_bound)"
   ]
  },
  {
   "cell_type": "code",
   "execution_count": 36,
   "id": "b7c57bd8",
   "metadata": {},
   "outputs": [
    {
     "data": {
      "image/png": "[encoded data removed]",
      "text/plain": [
       "<Figure size 288x288 with 1 Axes>"
      ]
     },
     "metadata": {
      "needs_background": "light"
     },
     "output_type": "display_data"
    },
    {
     "data": {
      "image/png": "[encoded data removed]",
      "text/plain": [
       "<Figure size 288x288 with 1 Axes>"
      ]
     },
     "metadata": {
      "needs_background": "light"
     },
     "output_type": "display_data"
    },
    {
     "data": {
      "image/png": "[encoded data removed]",
      "text/plain": [
       "<Figure size 288x288 with 1 Axes>"
      ]
     },
     "metadata": {
      "needs_background": "light"
     },
     "output_type": "display_data"
    }
   ],
   "source": [
    "for col in outlier_cols:\n",
    "    plt.figure(figsize=(4, 4))\n",
    "    sns.boxplot(data=df_trimmed[col])\n",
    "    plt.title(f'Box Plot of {col}')\n",
    "    plt.show()\n"
   ]
  },
  {
   "cell_type": "markdown",
   "id": "eb688ae2",
   "metadata": {},
   "source": [
    "Method1 review by Aysha Abdul Azeez\n",
    "\n",
    "Trimming seem to be very strict on the outliers. All the outliers determined by the boxplot\n",
    " are now trimmed to upper or lower quartile. Functioning is implemented well enough"
   ]
  },
  {
   "cell_type": "code",
   "execution_count": 37,
   "id": "160de58f",
   "metadata": {},
   "outputs": [],
   "source": [
    "# Method 2: Log Transformation\n",
    "# By Nrusimha Saraswati Sai Teja Jampani"
   ]
  },
  {
   "cell_type": "code",
   "execution_count": 38,
   "id": "67a0505a",
   "metadata": {},
   "outputs": [],
   "source": [
    "df_log_transformed = df.copy()\n",
    "df_log_transformed['cons.conf.idx']= df_log_transformed['cons.conf.idx'] + abs(df['cons.conf.idx'].min()) + 1 # Make negative values positive"
   ]
  },
  {
   "cell_type": "code",
   "execution_count": 39,
   "id": "62c091e6",
   "metadata": {},
   "outputs": [],
   "source": [
    "df_log_transformed[outlier_cols] = np.log1p(df_log_transformed[outlier_cols]) # apply log transformation"
   ]
  },
  {
   "cell_type": "code",
   "execution_count": 40,
   "id": "3044d1fb",
   "metadata": {},
   "outputs": [
    {
     "data": {
      "image/png": "[encoded data removed]",
      "text/plain": [
       "<Figure size 288x288 with 1 Axes>"
      ]
     },
     "metadata": {
      "needs_background": "light"
     },
     "output_type": "display_data"
    },
    {
     "data": {
      "image/png": "[encoded data removed]",
      "text/plain": [
       "<Figure size 288x288 with 1 Axes>"
      ]
     },
     "metadata": {
      "needs_background": "light"
     },
     "output_type": "display_data"
    },
    {
     "data": {
      "image/png": "[encoded data removed]",
      "text/plain": [
       "<Figure size 288x288 with 1 Axes>"
      ]
     },
     "metadata": {
      "needs_background": "light"
     },
     "output_type": "display_data"
    }
   ],
   "source": [
    "for col in outlier_cols:\n",
    "    plt.figure(figsize=(4, 4))\n",
    "    sns.boxplot(data=df_log_transformed[col])\n",
    "    plt.title(f'Box Plot of {col}')\n",
    "    plt.show()"
   ]
  },
  {
   "cell_type": "markdown",
   "id": "e78ce465",
   "metadata": {},
   "source": [
    " Method 2 Review by Purvesh Mehta\n",
    " \n",
    " Log transformation is not eliminating all the outliers but instead eliminating the skewness in the data\n",
    " and narrowing down the data distribution. Since it cannot handle negative values, any negative values are converted to\n",
    " positive"
   ]
  },
  {
   "cell_type": "code",
   "execution_count": 41,
   "id": "3ac8368e",
   "metadata": {},
   "outputs": [],
   "source": [
    "# Method 3: Box Cox transformation"
   ]
  },
  {
   "cell_type": "code",
   "execution_count": 42,
   "id": "fe6ba500",
   "metadata": {},
   "outputs": [],
   "source": [
    "df_boxcox_transformed = df.copy()"
   ]
  },
  {
   "cell_type": "code",
   "execution_count": 43,
   "id": "f1a905cc",
   "metadata": {},
   "outputs": [],
   "source": [
    "df_boxcox_transformed['cons.conf.idx']= df_boxcox_transformed['cons.conf.idx'] + abs(df['cons.conf.idx'].min()) + 1   #Make negative values positive\n",
    "for col in outlier_cols:\n",
    "    df_boxcox_transformed[col], _ = boxcox(df_boxcox_transformed[col] + 1)  # Adding constant 1 to handle zero and negative values"
   ]
  },
  {
   "cell_type": "code",
   "execution_count": 44,
   "id": "734ee8ba",
   "metadata": {},
   "outputs": [
    {
     "data": {
      "image/png": "[encoded data removed]",
      "text/plain": [
       "<Figure size 288x288 with 1 Axes>"
      ]
     },
     "metadata": {
      "needs_background": "light"
     },
     "output_type": "display_data"
    },
    {
     "data": {
      "image/png": "[encoded data removed]",
      "text/plain": [
       "<Figure size 288x288 with 1 Axes>"
      ]
     },
     "metadata": {
      "needs_background": "light"
     },
     "output_type": "display_data"
    },
    {
     "data": {
      "image/png": "[encoded data removed]",
      "text/plain": [
       "<Figure size 288x288 with 1 Axes>"
      ]
     },
     "metadata": {
      "needs_background": "light"
     },
     "output_type": "display_data"
    }
   ],
   "source": [
    "for col in outlier_cols:\n",
    "    plt.figure(figsize=(4, 4))\n",
    "    sns.boxplot(data=df_boxcox_transformed[col])\n",
    "    plt.title(f'Box Plot of {col}')\n",
    "    plt.show()"
   ]
  },
  {
   "cell_type": "markdown",
   "id": "b30fd1e2",
   "metadata": {},
   "source": [
    "Method 3 review by Nrusimha Saraswati Sai Teja Jampani\n",
    "\n",
    "Boxcox transformation too is trying to reduce the skewness in the data but in a more symmetric way compared \n",
    " to the log transformation. The results and outliers are handled in a more better way"
   ]
  },
  {
   "cell_type": "markdown",
   "id": "b068cc6a",
   "metadata": {},
   "source": [
    "# EDA"
   ]
  },
  {
   "cell_type": "code",
   "execution_count": 45,
   "id": "9182ba99",
   "metadata": {},
   "outputs": [
    {
     "data": {
      "image/png": "[encoded data removed]",
      "text/plain": [
       "<Figure size 864x432 with 1 Axes>"
      ]
     },
     "metadata": {
      "needs_background": "light"
     },
     "output_type": "display_data"
    }
   ],
   "source": [
    "job_subscription_counts = df.groupby(['job', 'y']).size().unstack()\n",
    "\n",
    "# Plot the bar chart\n",
    "job_subscription_counts.plot(kind='bar', stacked=True, figsize=(12, 6), colormap='viridis')\n",
    "plt.title('Subscription Distribution by Job')\n",
    "plt.xlabel('Job')\n",
    "plt.ylabel('Count')\n",
    "plt.legend(title='Term Deposit Subscription', labels=['No', 'Yes'])\n",
    "plt.show()"
   ]
  },
  {
   "cell_type": "code",
   "execution_count": 46,
   "id": "9a35a1a2",
   "metadata": {},
   "outputs": [
    {
     "data": {
      "image/png": "[encoded data removed]",
      "text/plain": [
       "<Figure size 864x432 with 1 Axes>"
      ]
     },
     "metadata": {
      "needs_background": "light"
     },
     "output_type": "display_data"
    },
    {
     "name": "stdout",
     "output_type": "stream",
     "text": [
      "y             job  total_count   yes\n",
      "0          admin.        10748  1388\n",
      "1     blue-collar         9252   638\n",
      "2    entrepreneur         1456   124\n",
      "3       housemaid         1060   106\n",
      "4      management         2924   328\n",
      "5         retired         1718   434\n",
      "6   self-employed         1421   149\n",
      "7        services         3967   323\n",
      "8         student          875   275\n",
      "9      technician         6739   730\n",
      "10     unemployed         1014   144\n"
     ]
    }
   ],
   "source": [
    "job_subscription_counts = df.groupby(['job', 'y']).size().unstack()\n",
    "\n",
    "# Calculate the percentage of subscriptions for each job category\n",
    "job_subscription_percentage = (job_subscription_counts['yes'] / job_subscription_counts.sum(axis=1)) * 100\n",
    "\n",
    "# Plot the bar chart for percentage subscriptions\n",
    "job_subscription_percentage.plot(kind='bar', color='#405d27', figsize=(12, 6))\n",
    "plt.title('Percentage of Term Deposit Subscription by Job')\n",
    "plt.xlabel('Job')\n",
    "plt.ylabel('Percentage')\n",
    "plt.show()\n",
    "\n",
    "#calculate the count of 'no' and 'yes'\n",
    "job_category_counts = df.groupby('job')['y'].value_counts().unstack(fill_value=0).reset_index()\n",
    "\n",
    "# Calculate total_count \n",
    "job_category_counts['total_count'] = job_category_counts['no'] + job_category_counts['yes']\n",
    "\n",
    "# Display the resulting table\n",
    "print(job_category_counts[['job', 'total_count', 'yes']])\n"
   ]
  },
  {
   "cell_type": "markdown",
   "id": "6a66deed",
   "metadata": {},
   "source": [
    "Based on the analysis, the hypothesis results suggest that the primary subscribers to term deposits are students, with retired individuals following closely. Administrative and unemployed individuals also show a notable likelihood of subscribing. In contrast, blue-collar workers, entrepreneurs, and those in the services sector are observed to be less inclined to subscribe to term deposits, representing the least likely categories within the dataset."
   ]
  },
  {
   "cell_type": "code",
   "execution_count": 47,
   "id": "27f8a105",
   "metadata": {},
   "outputs": [
    {
     "data": {
      "image/png": "[encoded data removed]",
      "text/plain": [
       "<Figure size 864x432 with 1 Axes>"
      ]
     },
     "metadata": {
      "needs_background": "light"
     },
     "output_type": "display_data"
    },
    {
     "name": "stdout",
     "output_type": "stream",
     "text": [
      "  age_category  total_count   yes\n",
      "0        18-25         1660   347\n",
      "1        26-35        14843  1740\n",
      "2        36-45        12839  1092\n",
      "3        46-55         8247   717\n",
      "4        56-65         2962   451\n",
      "5        66-75          373   161\n",
      "6        76-85          202   107\n",
      "7          86+           43    22\n"
     ]
    }
   ],
   "source": [
    "age_bins = [18, 25, 35, 45, 55, 65, 75, 85, 100]\n",
    "\n",
    "# Create age categories using pd.cut\n",
    "df['age_category'] = pd.cut(df['age'], bins=age_bins, labels=['18-25', '26-35', '36-45', '46-55', '56-65', '66-75', '76-85', '86+'], include_lowest=True)\n",
    "\n",
    "# Create a DataFrame with counts of subscriptions for each age category\n",
    "age_subscription_counts = df.groupby(['age_category', 'y']).size().unstack()\n",
    "\n",
    "# Calculate the percentage of subscriptions for each age category\n",
    "age_subscription_percentage = (age_subscription_counts['yes'] / age_subscription_counts.sum(axis=1)) * 100\n",
    "\n",
    "# Plot the bar chart for percentage subscriptions by age category\n",
    "age_subscription_percentage.plot(kind='bar', color='#c83349', figsize=(12, 6))\n",
    "plt.title('Percentage of Term Deposit Subscription by Age Category')\n",
    "plt.xlabel('Age Category')\n",
    "plt.ylabel('Percentage')\n",
    "plt.show()\n",
    "\n",
    "age_category_counts = df.groupby(['age_category', 'y']).size().unstack().reset_index()\n",
    "age_category_counts.columns = ['age_category', 'no', 'yes']\n",
    "\n",
    "# Fill NaN values with 0 for 'no' and 'yes' columns\n",
    "age_category_counts[['no', 'yes']] = age_category_counts[['no', 'yes']].fillna(0)\n",
    "\n",
    "# Calculate total_count and add a new column\n",
    "age_category_counts['total_count'] = age_category_counts['no'] + age_category_counts['yes']\n",
    "\n",
    "# Display the resulting table\n",
    "print(age_category_counts[['age_category', 'total_count', 'yes']])"
   ]
  },
  {
   "cell_type": "markdown",
   "id": "c09ca81e",
   "metadata": {},
   "source": [
    "The results shows majority of the term depsoit subscribers belongs to the age group of 76-85,followed by 86+"
   ]
  },
  {
   "cell_type": "code",
   "execution_count": 48,
   "id": "e4059b84",
   "metadata": {},
   "outputs": [
    {
     "name": "stdout",
     "output_type": "stream",
     "text": [
      "The majority job in the age group 76-85 is: retired with count 175\n"
     ]
    }
   ],
   "source": [
    "age_group_df = df[df['age_category'] == '76-85']\n",
    "\n",
    "# Group by 'job' \n",
    "#calculate the count of each job\n",
    "job_counts = age_group_df.groupby('job').size().reset_index(name='count')\n",
    "\n",
    "#job with the highest count\n",
    "majority_job = job_counts.loc[job_counts['count'].idxmax()]\n",
    "\n",
    "# Display the majority job\n",
    "print(f\"The majority job in the age group 76-85 is: {majority_job['job']} with count {majority_job['count']}\")\n"
   ]
  },
  {
   "cell_type": "code",
   "execution_count": 49,
   "id": "97705106",
   "metadata": {},
   "outputs": [
    {
     "data": {
      "image/png": "[encoded data removed]",
      "text/plain": [
       "<Figure size 864x432 with 1 Axes>"
      ]
     },
     "metadata": {
      "needs_background": "light"
     },
     "output_type": "display_data"
    }
   ],
   "source": [
    "\n",
    "contact_subscription_counts = df.groupby(['contact', 'y']).size().unstack()\n",
    "\n",
    "# Calculate the percentage of subscriptions for each age category\n",
    "contact_subscription_percentage = (contact_subscription_counts['yes'] / contact_subscription_counts.sum(axis=1)) * 100\n",
    "\n",
    "# Plot the bar chart for percentage subscriptions by age category\n",
    "contact_subscription_percentage.plot(kind='bar', color='#d43f00', figsize=(12, 6))\n",
    "plt.title('Percentage of Term Deposit Subscription by contact')\n",
    "plt.xlabel('contact')\n",
    "plt.ylabel('Percentage')\n",
    "plt.show() \n",
    "\n",
    "\n",
    "\n"
   ]
  },
  {
   "cell_type": "markdown",
   "id": "cefb4f4e",
   "metadata": {},
   "source": [
    "The highest subscription rate was observed when customers were contacted through cellular communication."
   ]
  },
  {
   "cell_type": "code",
   "execution_count": 50,
   "id": "b1931e5b",
   "metadata": {},
   "outputs": [
    {
     "data": {
      "image/png": "[encoded data removed]",
      "text/plain": [
       "<Figure size 864x432 with 1 Axes>"
      ]
     },
     "metadata": {
      "needs_background": "light"
     },
     "output_type": "display_data"
    }
   ],
   "source": [
    "poutcome_subscription_counts = df.groupby(['poutcome', 'y']).size().unstack()\n",
    "\n",
    "# Calculate the percentage of subscriptions for each age category\n",
    "poutcome_subscription_percentage = (poutcome_subscription_counts['yes'] / poutcome_subscription_counts.sum(axis=1)) * 100\n",
    "\n",
    "# Plot the bar chart for percentage subscriptions by age category\n",
    "poutcome_subscription_percentage.plot(kind='bar', color='#c9c900', figsize=(12, 6))\n",
    "plt.title('Percentage of Term Deposit Subscription by outcome of the previous marketing campaign')\n",
    "plt.xlabel('Poutcome')\n",
    "plt.ylabel('Percentage')\n",
    "plt.show()"
   ]
  },
  {
   "cell_type": "markdown",
   "id": "d11b8184",
   "metadata": {},
   "source": [
    "A greater number of customers subscribed to the term deposit when the outcome of the previous marketing campaign was successful."
   ]
  },
  {
   "cell_type": "code",
   "execution_count": 51,
   "id": "1c5d6807",
   "metadata": {},
   "outputs": [
    {
     "data": {
      "image/png": "[encoded data removed]",
      "text/plain": [
       "<Figure size 864x432 with 1 Axes>"
      ]
     },
     "metadata": {
      "needs_background": "light"
     },
     "output_type": "display_data"
    },
    {
     "name": "stdout",
     "output_type": "stream",
     "text": [
      "y month  total_count  yes\n",
      "0   apr         2631  539\n",
      "1   aug         6175  655\n",
      "2   dec          182   89\n",
      "3   jul         7169  648\n",
      "4   jun         5318  559\n",
      "5   mar          546  276\n",
      "6   may        13766  886\n",
      "7   nov         4100  416\n",
      "8   oct          717  315\n",
      "9   sep          570  256\n"
     ]
    }
   ],
   "source": [
    "\n",
    "month_subscription_counts = df.groupby(['month', 'y']).size().unstack()\n",
    "\n",
    "# Calculate the percentage of subscriptions for each age category\n",
    "month_subscription_percentage = (month_subscription_counts['yes'] / month_subscription_counts.sum(axis=1)) * 100\n",
    "\n",
    "# Plot the bar chart for percentage subscriptions by age category\n",
    "month_subscription_percentage.plot(kind='bar', color='#330066', figsize=(12, 6))\n",
    "plt.title('Percentage of Term Deposit Subscription by month')\n",
    "plt.xlabel('month')\n",
    "plt.ylabel('Percentage')\n",
    "plt.show() \n",
    "\n",
    "\n",
    "\n",
    "\n",
    "# Group by 'month' \n",
    "#calculate the count of 'no' and 'yes'\n",
    "month_category_counts = df.groupby('month')['y'].value_counts().unstack(fill_value=0).reset_index()\n",
    "\n",
    "# Calculate total_count \n",
    "month_category_counts['total_count'] = month_category_counts['no'] + month_category_counts['yes']\n",
    "\n",
    "# Display the resulting table\n",
    "print(month_category_counts[['month', 'total_count', 'yes']])\n"
   ]
  },
  {
   "cell_type": "markdown",
   "id": "191499de",
   "metadata": {},
   "source": [
    "The analysis of the count by month reveals that March had the highest number of subscriptions, with 276 individuals subscribing to the term deposit product out of a total of 546 customers contacted in that month. This indicates a relatively high success rate for the telemarketing campaign during March. The findings suggest that targeting customers in March may be particularly effective in terms of encouraging them to subscribe to the term deposit, making it a potentially favorable period for marketing efforts."
   ]
  },
  {
   "cell_type": "code",
   "execution_count": 52,
   "id": "f948e80f",
   "metadata": {},
   "outputs": [
    {
     "data": {
      "image/png": "[encoded data removed]",
      "text/plain": [
       "<Figure size 864x432 with 1 Axes>"
      ]
     },
     "metadata": {
      "needs_background": "light"
     },
     "output_type": "display_data"
    },
    {
     "name": "stdout",
     "output_type": "stream",
     "text": [
      "y   campaign  total_count   yes\n",
      "0          1        17632  2299\n",
      "1          2        10568  1211\n",
      "2          3         5340   574\n",
      "3          4         2650   249\n",
      "4          5         1599   120\n",
      "5          6          979    75\n",
      "6          7          629    38\n",
      "7          8          400    17\n",
      "8          9          283    17\n",
      "9         10          225    12\n",
      "10        11          177    12\n",
      "11        12          125     3\n",
      "12        13           92     4\n",
      "13        14           69     1\n",
      "14        15           51     2\n",
      "15        16           51     0\n",
      "16        17           58     4\n",
      "17        18           33     0\n",
      "18        19           26     0\n",
      "19        20           30     0\n",
      "20        21           24     0\n",
      "21        22           17     0\n",
      "22        23           16     1\n",
      "23        24           15     0\n",
      "24        25            8     0\n",
      "25        26            8     0\n",
      "26        27           11     0\n",
      "27        28            8     0\n",
      "28        29           10     0\n",
      "29        30            7     0\n",
      "30        31            7     0\n",
      "31        32            4     0\n",
      "32        33            4     0\n",
      "33        34            3     0\n",
      "34        35            5     0\n",
      "35        37            1     0\n",
      "36        39            1     0\n",
      "37        40            2     0\n",
      "38        41            1     0\n",
      "39        42            2     0\n",
      "40        43            2     0\n",
      "41        56            1     0\n"
     ]
    }
   ],
   "source": [
    "\n",
    "campaign_subscription_counts = df.groupby(['campaign', 'y']).size().unstack()\n",
    "\n",
    "# Calculate the percentage of subscriptions for each age category\n",
    "campaign_subscription_percentage = (campaign_subscription_counts['yes'] / campaign_subscription_counts.sum(axis=1)) * 100\n",
    "\n",
    "# Plot the bar chart for percentage subscriptions by age category\n",
    "campaign_subscription_percentage.plot(kind='bar', color='#000000', figsize=(12, 6))\n",
    "plt.title('Percentage of Term Deposit Subscription by campaign')\n",
    "plt.xlabel('campaign')\n",
    "plt.ylabel('Percentage')\n",
    "plt.show() \n",
    "\n",
    "campaign_category_counts = df.groupby('campaign')['y'].value_counts().unstack(fill_value=0).reset_index()\n",
    "\n",
    "# Calculate total_count \n",
    "campaign_category_counts['total_count'] = campaign_category_counts['no'] + campaign_category_counts['yes']\n",
    "\n",
    "# Display the resulting table\n",
    "print(campaign_category_counts[['campaign', 'total_count', 'yes']])\n",
    "\n",
    "\n"
   ]
  },
  {
   "cell_type": "markdown",
   "id": "8b31f534",
   "metadata": {},
   "source": [
    "This analysis provides a breakdown of the subscription counts based on the number of times customers were contacted during the marketing campaign (represented by the 'campaign' column). The table displays the total count of customers contacted for each campaign count ('campaign'), along with the number of customers who subscribed ('yes').\n",
    "\n",
    "For example, for the first row where 'campaign' is 1, a total of 17,632 customers were contacted, and out of those, 2,299 subscribed to the term deposit. Similarly, the table shows this information for different campaign counts.\n",
    "\n"
   ]
  },
  {
   "cell_type": "code",
   "execution_count": 53,
   "id": "36b21173",
   "metadata": {},
   "outputs": [
    {
     "data": {
      "image/png": "[encoded data removed]",
      "text/plain": [
       "<Figure size 864x432 with 1 Axes>"
      ]
     },
     "metadata": {
      "needs_background": "light"
     },
     "output_type": "display_data"
    },
    {
     "name": "stdout",
     "output_type": "stream",
     "text": [
      "y   marital  total_count   yes\n",
      "0  divorced         4611   476\n",
      "1   married        24999  2543\n",
      "2    single        11564  1620\n"
     ]
    }
   ],
   "source": [
    "marital_subscription_counts = df.groupby(['marital', 'y']).size().unstack()\n",
    "\n",
    "# Calculate the percentage of subscriptions for each age category\n",
    "marital_subscription_percentage = (marital_subscription_counts['yes'] / marital_subscription_counts.sum(axis=1)) * 100\n",
    "\n",
    "# Plot the bar chart for percentage subscriptions by age category\n",
    "marital_subscription_percentage.plot(kind='bar', color='#990000', figsize=(12, 6))\n",
    "plt.title('Percentage of Term Deposit Subscription by marital')\n",
    "plt.xlabel('marital')\n",
    "plt.ylabel('Percentage')\n",
    "plt.show() \n",
    "\n",
    "marital_category_counts = df.groupby('marital')['y'].value_counts().unstack(fill_value=0).reset_index()\n",
    "\n",
    "# Calculate total_count \n",
    "marital_category_counts['total_count'] = marital_category_counts['no'] + marital_category_counts['yes']\n",
    "\n",
    "# Display the resulting table\n",
    "print(marital_category_counts[['marital', 'total_count', 'yes']])\n",
    "\n",
    "\n"
   ]
  },
  {
   "cell_type": "markdown",
   "id": "8196c927",
   "metadata": {},
   "source": [
    "The analysis of marital status in the dataset indicates that the majority of customers who subscribed to the term deposit are married individuals. Out of a total of 24,999 married customers, 2,543 subscribed. Additionally, there were 1,620 subscriptions from single individuals out of a total of 11,564, and 476 subscriptions from divorced individuals out of a total of 4,611. These results provide insights into the distribution of subscriptions across different marital statuses, with married individuals having the highest number of subscriptions."
   ]
  },
  {
   "cell_type": "code",
   "execution_count": 54,
   "id": "e255bbaf",
   "metadata": {},
   "outputs": [
    {
     "data": {
      "image/png": "[encoded data removed]",
      "text/plain": [
       "<Figure size 720x432 with 1 Axes>"
      ]
     },
     "metadata": {
      "needs_background": "light"
     },
     "output_type": "display_data"
    }
   ],
   "source": [
    "x = df['poutcome'].unique()\n",
    "yes = []\n",
    "no = []\n",
    "for i in x:\n",
    "    yes.append(df[(df['poutcome'] == i) & (df['y'] == 'yes')].count()[0])\n",
    "    no.append(df[(df['poutcome'] == i) & (df['y'] == 'no')].count()[0])\n",
    "outcomes = ['Yes', 'No']\n",
    "values = [yes, no]\n",
    "plt.figure(figsize=(10, 6))\n",
    "bar_width = 0.35\n",
    "r1 = np.arange(len(x))\n",
    "r2 = [i + bar_width for i in r1]\n",
    "ax1=plt.bar(r1, values[0], color='blue', width=bar_width, edgecolor='grey', label='Yes')\n",
    "plt.bar(r2, values[1], color='red', width=bar_width, edgecolor='grey', label='No')\n",
    "for i, v in enumerate(no):\n",
    "    plt.text(i+0.35, v+1, str(round(v,4)), ha='center', color='black', fontsize=10)\n",
    "for i, v in enumerate(yes):\n",
    "    plt.text(i, v, str(round(v,4)), ha='center', color='black')\n",
    "plt.xlabel('Previous marketing campaign outcome', fontweight='bold', fontsize = 14)\n",
    "plt.ylabel('Current Client subscription outcome', fontweight='bold', fontsize = 14)\n",
    "plt.xticks([r + bar_width/2 for r in range(len(x))], x)\n",
    "plt.title('Current client subscription outcome with respect to previous campaign outcome',fontsize = 15, fontweight='bold' )\n",
    "plt.legend(bbox_to_anchor=(1.25, 1))\n",
    "plt.show()\n"
   ]
  },
  {
   "cell_type": "markdown",
   "id": "5d1b371a",
   "metadata": {},
   "source": [
    "In our analysis on the column poutcome, we have observed that many of the clients who have obliged to the previous campaign seem to have subscribed to current plan as well. Most of the customer who were not part of the previous campaign did not subscribe to the term desposit. Customers who have a failed outcome despite a campaign previously seem to stick to their principles and many did not subscribe to the term desposit on this campaign as well"
   ]
  },
  {
   "cell_type": "code",
   "execution_count": 55,
   "id": "b70ac67a",
   "metadata": {},
   "outputs": [
    {
     "data": {
      "image/png": "[encoded data removed]",
      "text/plain": [
       "<Figure size 720x432 with 1 Axes>"
      ]
     },
     "metadata": {
      "needs_background": "light"
     },
     "output_type": "display_data"
    }
   ],
   "source": [
    "x = df['previous'].unique()\n",
    "yes = []\n",
    "no = []\n",
    "for i in x:\n",
    "    yes.append(df[(df['previous'] == i) & (df['y'] == 'yes')].count()[0])\n",
    "    no.append(df[(df['previous'] == i) & (df['y'] == 'no')].count()[0])\n",
    "outcomes = ['Yes', 'No']\n",
    "values = [yes, no]\n",
    "plt.figure(figsize=(10, 6))\n",
    "bar_width = 0.35\n",
    "r1 = np.arange(len(x))\n",
    "r2 = [i + bar_width for i in r1]\n",
    "ax1=plt.bar(r1, values[0], color='orange', width=bar_width, edgecolor='grey', label='Yes')\n",
    "plt.bar(r2, values[1], color='green', width=bar_width, edgecolor='grey', label='No')\n",
    "for i, v in enumerate(no):\n",
    "    plt.text(i+0.35, v+1, str(round(v,4)), ha='center', color='black', fontsize=10)\n",
    "for i, v in enumerate(yes):\n",
    "    plt.text(i, v, str(round(v,4)), ha='center', color='black')\n",
    "plt.xlabel('Previous contacts made for the client', fontweight='bold', fontsize = 14)\n",
    "plt.ylabel('Current Client subscription outcome', fontweight='bold', fontsize = 14)\n",
    "plt.xticks([r + bar_width/2 for r in range(len(x))], x)\n",
    "plt.title('Current client subscription outcome with respect to previous contacts made',fontsize = 15, fontweight='bold' )\n",
    "plt.legend(bbox_to_anchor=(1.25, 1))\n",
    "plt.show()\n"
   ]
  },
  {
   "cell_type": "markdown",
   "id": "6eaf6cdb",
   "metadata": {},
   "source": [
    "It is clear from the chart that 0 to 7 contacts were made to the client previously. Most of the clients were never contacted previously and most of those clients did not subscribe to the plan even now. 1 previous contact did not help greatly either. 2 contacts made previously started to make a differnece where nearly half of them subscribed to term deposit now. Similar is the case with 3 contacts made in which more than half of them made the subscription now. 4 or more calls made previously are a lot lower in number, but still half of the clients subscribed to the current plan"
   ]
  },
  {
   "cell_type": "code",
   "execution_count": 56,
   "id": "3dbdf984",
   "metadata": {},
   "outputs": [],
   "source": [
    "outer = df.groupby('education').count().reset_index()\n"
   ]
  },
  {
   "cell_type": "code",
   "execution_count": 57,
   "id": "40bbba17",
   "metadata": {},
   "outputs": [],
   "source": [
    "inner = df.groupby(['education', 'y']).count().reset_index()\n"
   ]
  },
  {
   "cell_type": "code",
   "execution_count": 58,
   "id": "2e34c3fc",
   "metadata": {},
   "outputs": [
    {
     "data": {
      "image/png": "[encoded data removed]",
      "text/plain": [
       "<Figure size 1728x864 with 1 Axes>"
      ]
     },
     "metadata": {},
     "output_type": "display_data"
    }
   ],
   "source": [
    "fig, ax = plt.subplots(figsize=(24,12))\n",
    "colors = plt.cm.Paired(range(len(outer)))\n",
    "inner_colors = [color for color in colors for _ in range(2)]\n",
    "ax.pie(outer['age'].values.flatten(), radius=1,\n",
    "       labels=outer['education'],\n",
    "       colors = colors,\n",
    "       wedgeprops=dict(width=0.3, edgecolor='w'))\n",
    "\n",
    "ax.pie(inner['age'].values.flatten(), radius=1-0.3, \n",
    "       labels = inner['y'],\n",
    "       colors = inner_colors,\n",
    "       wedgeprops=dict(width=0.3, edgecolor='w'))\n",
    "\n",
    "ax.set(aspect=\"equal\", title='Pie plot with `ax.pie`')\n",
    "plt.title('Pie plot for customer educational representation and Plan subscription')\n",
    "plt.show()"
   ]
  },
  {
   "cell_type": "markdown",
   "id": "5156b1e8",
   "metadata": {},
   "source": [
    "In our analysis, we observe that there are 7 categories of educational qualification accomplished by the customers. It includes Univeristy degree, Professional course, basic 4 year, basic 9 year, high school and illeterate. Out of this there are more people with a univerity degree. Intrestingly most this people are not subscribing to the plan. Most of the High school qualified clients to are not subscribing to the plan. This tren can be seen among all the classes including professional degree and basic qualified customers. Overall, the pattern suggests that only 1/5 of the customers are suscribing to the plan irrespective of the educational qualification."
   ]
  },
  {
   "cell_type": "code",
   "execution_count": 59,
   "id": "b5fbd3c5",
   "metadata": {},
   "outputs": [
    {
     "data": {
      "image/png": "[encoded data removed]",
      "text/plain": [
       "<Figure size 720x432 with 1 Axes>"
      ]
     },
     "metadata": {
      "needs_background": "light"
     },
     "output_type": "display_data"
    }
   ],
   "source": [
    "x = df['day_of_week'].unique()\n",
    "yes = []\n",
    "no = []\n",
    "for i in x:\n",
    "    yes.append(df[(df['day_of_week'] == i) & (df['y'] == 'yes')].count()[0])\n",
    "    no.append(df[(df['day_of_week'] == i) & (df['y'] == 'no')].count()[0])\n",
    "outcomes = ['Yes', 'No']\n",
    "values = [yes, no]\n",
    "plt.figure(figsize=(10, 6))\n",
    "bar_width = 0.35\n",
    "r1 = np.arange(len(x))\n",
    "r2 = [i + bar_width for i in r1]\n",
    "ax1=plt.bar(r1, values[0], color='blue', width=bar_width, edgecolor='grey', label='Yes')\n",
    "plt.bar(r2, values[1], color='red', width=bar_width, edgecolor='grey', label='No')\n",
    "for i, v in enumerate(no):\n",
    "    plt.text(i+0.35, v+1, str(round(v,4)), ha='center', color='black', fontsize=10)\n",
    "for i, v in enumerate(yes):\n",
    "    plt.text(i, v, str(round(v,4)), ha='center', color='black')\n",
    "plt.xlabel('Day of the week contact was made to the client', fontweight='bold', fontsize = 14)\n",
    "plt.ylabel('Current Client subscription outcome', fontweight='bold', fontsize = 14)\n",
    "plt.xticks([r + bar_width/2 for r in range(len(x))], x)\n",
    "plt.title('Current client subscription outcome with respect to Day of the week Contact was made',fontsize = 15, fontweight='bold' )\n",
    "plt.legend(bbox_to_anchor=(1.25, 1))\n",
    "plt.show()\n"
   ]
  },
  {
   "cell_type": "markdown",
   "id": "8ffff0e3",
   "metadata": {},
   "source": [
    "There clearly seem to a very little effect of the day when the contact was made to the client in determining if the customer would subscribe to the deposit plan. Intrestingly tuesday, wednesday and thursday have a little better chance of customer suscribing than monday and friday. It could be that customers are little busy on mondays and more relaxed on fridays to consider for a term deposit subscription. However, the variations are marginal."
   ]
  },
  {
   "cell_type": "code",
   "execution_count": 60,
   "id": "4b2a6307",
   "metadata": {},
   "outputs": [
    {
     "data": {
      "text/plain": [
       "[Text(0.5, 1.0, 'Previous concats to Duration of last contact')]"
      ]
     },
     "execution_count": 60,
     "metadata": {},
     "output_type": "execute_result"
    },
    {
     "data": {
      "image/png": "[encoded data removed]",
      "text/plain": [
       "<Figure size 720x432 with 1 Axes>"
      ]
     },
     "metadata": {
      "needs_background": "light"
     },
     "output_type": "display_data"
    }
   ],
   "source": [
    "plt.figure(figsize=(10, 6))\n",
    "sns.scatterplot(data=df, x=\"previous\", y='duration', hue = 'y').set(title = 'Previous concats to Duration of last contact')"
   ]
  },
  {
   "cell_type": "markdown",
   "id": "c1f86ca8",
   "metadata": {},
   "source": [
    "It is clearly visible from the above plot that with more previous contacts made to the customer, the duration of the call is getting reduced to a large extent. Clients with no previous calls are extending the call duration to until 4000 seconds and most of the customers lot falls in this place. However, customers with more previous calls are subscribing to the plan a lot better even though the number is less."
   ]
  },
  {
   "cell_type": "code",
   "execution_count": 61,
   "id": "2a55d3e0",
   "metadata": {},
   "outputs": [],
   "source": [
    "df_mode_imputed['loan'] = df['loan'].replace({1: 'Yes',  0: 'No'})\n",
    "outer = df_mode_imputed.groupby('loan').count().reset_index()                    # Considering mode imputed loan column\n",
    "inner = df_mode_imputed.groupby(['loan', 'y']).count().reset_index()"
   ]
  },
  {
   "cell_type": "code",
   "execution_count": 62,
   "id": "956c79f1",
   "metadata": {},
   "outputs": [
    {
     "data": {
      "image/png": "[encoded data removed]",
      "text/plain": [
       "<Figure size 1728x864 with 1 Axes>"
      ]
     },
     "metadata": {},
     "output_type": "display_data"
    }
   ],
   "source": [
    "fig, ax = plt.subplots(figsize=(24,12))\n",
    "colors = plt.cm.Paired(range(len(outer)))\n",
    "colors = plt.cm.tab10(np.arange(len(outer)))\n",
    "inner_colors = [color for color in colors for _ in range(2)]\n",
    "ax.pie(outer['age'].values.flatten(), radius=1,\n",
    "       labels=outer['loan'],\n",
    "       colors = colors,\n",
    "       wedgeprops=dict(width=0.3, edgecolor='w'))\n",
    "\n",
    "ax.pie(inner['age'].values.flatten(), radius=1-0.3, \n",
    "       labels = inner['y'],\n",
    "       colors = inner_colors,\n",
    "       wedgeprops=dict(width=0.3, edgecolor='w'))\n",
    "\n",
    "ax.set(aspect=\"equal\", title='Pie plot with `ax.pie`')\n",
    "plt.title('Pie plot for customer loan status with respect to Term Deposit subscription')\n",
    "plt.show()"
   ]
  },
  {
   "cell_type": "markdown",
   "id": "00641eed",
   "metadata": {},
   "source": [
    "After mode imputation of unknown values, we see that most of the customers does not have a loan under their name. It can be seen in the above figure where outer pie chart represents the loan status and inner pie chart shows the corresponding plan subscription outcome. Loan status, however is not making any difference because, most of the customer without loan too have not subscribed to the plan. A few lot customers having a loan subscribed to the plan. In a larger view, the ratio between customers who subscribed and customers who did not suscribe with respect to having or not having a loan remains to be the same."
   ]
  },
  {
   "cell_type": "markdown",
   "id": "955af251",
   "metadata": {},
   "source": [
    "# Model building without duration column"
   ]
  },
  {
   "cell_type": "code",
   "execution_count": 64,
   "id": "0074d752",
   "metadata": {},
   "outputs": [
    {
     "data": {
      "text/html": [
       "<div>\n",
       "<style scoped>\n",
       "    .dataframe tbody tr th:only-of-type {\n",
       "        vertical-align: middle;\n",
       "    }\n",
       "\n",
       "    .dataframe tbody tr th {\n",
       "        vertical-align: top;\n",
       "    }\n",
       "\n",
       "    .dataframe thead th {\n",
       "        text-align: right;\n",
       "    }\n",
       "</style>\n",
       "<table border=\"1\" class=\"dataframe\">\n",
       "  <thead>\n",
       "    <tr style=\"text-align: right;\">\n",
       "      <th></th>\n",
       "      <th>age</th>\n",
       "      <th>job</th>\n",
       "      <th>marital</th>\n",
       "      <th>education</th>\n",
       "      <th>default</th>\n",
       "      <th>housing</th>\n",
       "      <th>loan</th>\n",
       "      <th>contact</th>\n",
       "      <th>month</th>\n",
       "      <th>day_of_week</th>\n",
       "      <th>...</th>\n",
       "      <th>campaign</th>\n",
       "      <th>pdays</th>\n",
       "      <th>previous</th>\n",
       "      <th>poutcome</th>\n",
       "      <th>emp.var.rate</th>\n",
       "      <th>cons.price.idx</th>\n",
       "      <th>cons.conf.idx</th>\n",
       "      <th>euribor3m</th>\n",
       "      <th>nr.employed</th>\n",
       "      <th>y</th>\n",
       "    </tr>\n",
       "  </thead>\n",
       "  <tbody>\n",
       "    <tr>\n",
       "      <th>0</th>\n",
       "      <td>56</td>\n",
       "      <td>3</td>\n",
       "      <td>1</td>\n",
       "      <td>0</td>\n",
       "      <td>0</td>\n",
       "      <td>0</td>\n",
       "      <td>0</td>\n",
       "      <td>1</td>\n",
       "      <td>6</td>\n",
       "      <td>1</td>\n",
       "      <td>...</td>\n",
       "      <td>1</td>\n",
       "      <td>999</td>\n",
       "      <td>0</td>\n",
       "      <td>1</td>\n",
       "      <td>1.1</td>\n",
       "      <td>93.994</td>\n",
       "      <td>-36.4</td>\n",
       "      <td>4.857</td>\n",
       "      <td>5191.0</td>\n",
       "      <td>0</td>\n",
       "    </tr>\n",
       "    <tr>\n",
       "      <th>1</th>\n",
       "      <td>57</td>\n",
       "      <td>7</td>\n",
       "      <td>1</td>\n",
       "      <td>3</td>\n",
       "      <td>0</td>\n",
       "      <td>0</td>\n",
       "      <td>0</td>\n",
       "      <td>1</td>\n",
       "      <td>6</td>\n",
       "      <td>1</td>\n",
       "      <td>...</td>\n",
       "      <td>1</td>\n",
       "      <td>999</td>\n",
       "      <td>0</td>\n",
       "      <td>1</td>\n",
       "      <td>1.1</td>\n",
       "      <td>93.994</td>\n",
       "      <td>-36.4</td>\n",
       "      <td>4.857</td>\n",
       "      <td>5191.0</td>\n",
       "      <td>0</td>\n",
       "    </tr>\n",
       "    <tr>\n",
       "      <th>2</th>\n",
       "      <td>37</td>\n",
       "      <td>7</td>\n",
       "      <td>1</td>\n",
       "      <td>3</td>\n",
       "      <td>0</td>\n",
       "      <td>1</td>\n",
       "      <td>0</td>\n",
       "      <td>1</td>\n",
       "      <td>6</td>\n",
       "      <td>1</td>\n",
       "      <td>...</td>\n",
       "      <td>1</td>\n",
       "      <td>999</td>\n",
       "      <td>0</td>\n",
       "      <td>1</td>\n",
       "      <td>1.1</td>\n",
       "      <td>93.994</td>\n",
       "      <td>-36.4</td>\n",
       "      <td>4.857</td>\n",
       "      <td>5191.0</td>\n",
       "      <td>0</td>\n",
       "    </tr>\n",
       "    <tr>\n",
       "      <th>3</th>\n",
       "      <td>40</td>\n",
       "      <td>0</td>\n",
       "      <td>1</td>\n",
       "      <td>1</td>\n",
       "      <td>0</td>\n",
       "      <td>0</td>\n",
       "      <td>0</td>\n",
       "      <td>1</td>\n",
       "      <td>6</td>\n",
       "      <td>1</td>\n",
       "      <td>...</td>\n",
       "      <td>1</td>\n",
       "      <td>999</td>\n",
       "      <td>0</td>\n",
       "      <td>1</td>\n",
       "      <td>1.1</td>\n",
       "      <td>93.994</td>\n",
       "      <td>-36.4</td>\n",
       "      <td>4.857</td>\n",
       "      <td>5191.0</td>\n",
       "      <td>0</td>\n",
       "    </tr>\n",
       "    <tr>\n",
       "      <th>4</th>\n",
       "      <td>56</td>\n",
       "      <td>7</td>\n",
       "      <td>1</td>\n",
       "      <td>3</td>\n",
       "      <td>0</td>\n",
       "      <td>0</td>\n",
       "      <td>1</td>\n",
       "      <td>1</td>\n",
       "      <td>6</td>\n",
       "      <td>1</td>\n",
       "      <td>...</td>\n",
       "      <td>1</td>\n",
       "      <td>999</td>\n",
       "      <td>0</td>\n",
       "      <td>1</td>\n",
       "      <td>1.1</td>\n",
       "      <td>93.994</td>\n",
       "      <td>-36.4</td>\n",
       "      <td>4.857</td>\n",
       "      <td>5191.0</td>\n",
       "      <td>0</td>\n",
       "    </tr>\n",
       "    <tr>\n",
       "      <th>...</th>\n",
       "      <td>...</td>\n",
       "      <td>...</td>\n",
       "      <td>...</td>\n",
       "      <td>...</td>\n",
       "      <td>...</td>\n",
       "      <td>...</td>\n",
       "      <td>...</td>\n",
       "      <td>...</td>\n",
       "      <td>...</td>\n",
       "      <td>...</td>\n",
       "      <td>...</td>\n",
       "      <td>...</td>\n",
       "      <td>...</td>\n",
       "      <td>...</td>\n",
       "      <td>...</td>\n",
       "      <td>...</td>\n",
       "      <td>...</td>\n",
       "      <td>...</td>\n",
       "      <td>...</td>\n",
       "      <td>...</td>\n",
       "      <td>...</td>\n",
       "    </tr>\n",
       "    <tr>\n",
       "      <th>41183</th>\n",
       "      <td>73</td>\n",
       "      <td>5</td>\n",
       "      <td>1</td>\n",
       "      <td>5</td>\n",
       "      <td>0</td>\n",
       "      <td>1</td>\n",
       "      <td>0</td>\n",
       "      <td>0</td>\n",
       "      <td>7</td>\n",
       "      <td>0</td>\n",
       "      <td>...</td>\n",
       "      <td>1</td>\n",
       "      <td>999</td>\n",
       "      <td>0</td>\n",
       "      <td>1</td>\n",
       "      <td>-1.1</td>\n",
       "      <td>94.767</td>\n",
       "      <td>-50.8</td>\n",
       "      <td>1.028</td>\n",
       "      <td>4963.6</td>\n",
       "      <td>1</td>\n",
       "    </tr>\n",
       "    <tr>\n",
       "      <th>41184</th>\n",
       "      <td>46</td>\n",
       "      <td>1</td>\n",
       "      <td>1</td>\n",
       "      <td>5</td>\n",
       "      <td>0</td>\n",
       "      <td>0</td>\n",
       "      <td>0</td>\n",
       "      <td>0</td>\n",
       "      <td>7</td>\n",
       "      <td>0</td>\n",
       "      <td>...</td>\n",
       "      <td>1</td>\n",
       "      <td>999</td>\n",
       "      <td>0</td>\n",
       "      <td>1</td>\n",
       "      <td>-1.1</td>\n",
       "      <td>94.767</td>\n",
       "      <td>-50.8</td>\n",
       "      <td>1.028</td>\n",
       "      <td>4963.6</td>\n",
       "      <td>0</td>\n",
       "    </tr>\n",
       "    <tr>\n",
       "      <th>41185</th>\n",
       "      <td>56</td>\n",
       "      <td>5</td>\n",
       "      <td>1</td>\n",
       "      <td>6</td>\n",
       "      <td>0</td>\n",
       "      <td>1</td>\n",
       "      <td>0</td>\n",
       "      <td>0</td>\n",
       "      <td>7</td>\n",
       "      <td>0</td>\n",
       "      <td>...</td>\n",
       "      <td>2</td>\n",
       "      <td>999</td>\n",
       "      <td>0</td>\n",
       "      <td>1</td>\n",
       "      <td>-1.1</td>\n",
       "      <td>94.767</td>\n",
       "      <td>-50.8</td>\n",
       "      <td>1.028</td>\n",
       "      <td>4963.6</td>\n",
       "      <td>0</td>\n",
       "    </tr>\n",
       "    <tr>\n",
       "      <th>41186</th>\n",
       "      <td>44</td>\n",
       "      <td>9</td>\n",
       "      <td>1</td>\n",
       "      <td>5</td>\n",
       "      <td>0</td>\n",
       "      <td>0</td>\n",
       "      <td>0</td>\n",
       "      <td>0</td>\n",
       "      <td>7</td>\n",
       "      <td>0</td>\n",
       "      <td>...</td>\n",
       "      <td>1</td>\n",
       "      <td>999</td>\n",
       "      <td>0</td>\n",
       "      <td>1</td>\n",
       "      <td>-1.1</td>\n",
       "      <td>94.767</td>\n",
       "      <td>-50.8</td>\n",
       "      <td>1.028</td>\n",
       "      <td>4963.6</td>\n",
       "      <td>1</td>\n",
       "    </tr>\n",
       "    <tr>\n",
       "      <th>41187</th>\n",
       "      <td>74</td>\n",
       "      <td>5</td>\n",
       "      <td>1</td>\n",
       "      <td>5</td>\n",
       "      <td>0</td>\n",
       "      <td>1</td>\n",
       "      <td>0</td>\n",
       "      <td>0</td>\n",
       "      <td>7</td>\n",
       "      <td>0</td>\n",
       "      <td>...</td>\n",
       "      <td>3</td>\n",
       "      <td>999</td>\n",
       "      <td>1</td>\n",
       "      <td>0</td>\n",
       "      <td>-1.1</td>\n",
       "      <td>94.767</td>\n",
       "      <td>-50.8</td>\n",
       "      <td>1.028</td>\n",
       "      <td>4963.6</td>\n",
       "      <td>0</td>\n",
       "    </tr>\n",
       "  </tbody>\n",
       "</table>\n",
       "<p>41174 rows × 21 columns</p>\n",
       "</div>"
      ],
      "text/plain": [
       "       age  job  marital  education  default  housing  loan  contact  month  \\\n",
       "0       56    3        1          0        0        0     0        1      6   \n",
       "1       57    7        1          3        0        0     0        1      6   \n",
       "2       37    7        1          3        0        1     0        1      6   \n",
       "3       40    0        1          1        0        0     0        1      6   \n",
       "4       56    7        1          3        0        0     1        1      6   \n",
       "...    ...  ...      ...        ...      ...      ...   ...      ...    ...   \n",
       "41183   73    5        1          5        0        1     0        0      7   \n",
       "41184   46    1        1          5        0        0     0        0      7   \n",
       "41185   56    5        1          6        0        1     0        0      7   \n",
       "41186   44    9        1          5        0        0     0        0      7   \n",
       "41187   74    5        1          5        0        1     0        0      7   \n",
       "\n",
       "       day_of_week  ...  campaign  pdays  previous  poutcome  emp.var.rate  \\\n",
       "0                1  ...         1    999         0         1           1.1   \n",
       "1                1  ...         1    999         0         1           1.1   \n",
       "2                1  ...         1    999         0         1           1.1   \n",
       "3                1  ...         1    999         0         1           1.1   \n",
       "4                1  ...         1    999         0         1           1.1   \n",
       "...            ...  ...       ...    ...       ...       ...           ...   \n",
       "41183            0  ...         1    999         0         1          -1.1   \n",
       "41184            0  ...         1    999         0         1          -1.1   \n",
       "41185            0  ...         2    999         0         1          -1.1   \n",
       "41186            0  ...         1    999         0         1          -1.1   \n",
       "41187            0  ...         3    999         1         0          -1.1   \n",
       "\n",
       "       cons.price.idx  cons.conf.idx  euribor3m  nr.employed  y  \n",
       "0              93.994          -36.4      4.857       5191.0  0  \n",
       "1              93.994          -36.4      4.857       5191.0  0  \n",
       "2              93.994          -36.4      4.857       5191.0  0  \n",
       "3              93.994          -36.4      4.857       5191.0  0  \n",
       "4              93.994          -36.4      4.857       5191.0  0  \n",
       "...               ...            ...        ...          ... ..  \n",
       "41183          94.767          -50.8      1.028       4963.6  1  \n",
       "41184          94.767          -50.8      1.028       4963.6  0  \n",
       "41185          94.767          -50.8      1.028       4963.6  0  \n",
       "41186          94.767          -50.8      1.028       4963.6  1  \n",
       "41187          94.767          -50.8      1.028       4963.6  0  \n",
       "\n",
       "[41174 rows x 21 columns]"
      ]
     },
     "execution_count": 64,
     "metadata": {},
     "output_type": "execute_result"
    }
   ],
   "source": [
    "df_model_imputed                      # We shall consider data with model imputed unknown values"
   ]
  },
  {
   "cell_type": "code",
   "execution_count": 123,
   "id": "81ae0d0f",
   "metadata": {},
   "outputs": [],
   "source": [
    "# Applying boxcox transformation to eliminate skewness and outliers\n",
    "df_boxcox_transformed = df_model_imputed.copy()\n",
    "df_boxcox_transformed['cons.conf.idx']= df_boxcox_transformed['cons.conf.idx'] + abs(df['cons.conf.idx'].min()) + 1   #Make negative values positive\n",
    "for col in outlier_cols:\n",
    "    df_boxcox_transformed[col], _ = boxcox(df_boxcox_transformed[col] + 1) "
   ]
  },
  {
   "cell_type": "code",
   "execution_count": 124,
   "id": "e41028b9",
   "metadata": {},
   "outputs": [],
   "source": [
    "X = df_boxcox_transformed.drop(['y','duration'], axis = 1)         # Removing Duration\n",
    "Y = df_boxcox_transformed['y']                                     # Target variable"
   ]
  },
  {
   "cell_type": "code",
   "execution_count": 125,
   "id": "633038c1",
   "metadata": {},
   "outputs": [],
   "source": [
    "x_train, x_test, y_train, y_test = train_test_split(X, Y, test_size=0.2, random_state=42)   # Test train split"
   ]
  },
  {
   "cell_type": "code",
   "execution_count": 126,
   "id": "ab4b137c",
   "metadata": {},
   "outputs": [
    {
     "name": "stdout",
     "output_type": "stream",
     "text": [
      "Accuracy: 0.8369156041287189\n",
      "Confusion Matrix:\n",
      " [[6575  706]\n",
      " [ 637  317]]\n"
     ]
    }
   ],
   "source": [
    "# Base Model: Decision Tree\n",
    "model = DecisionTreeClassifier(random_state=42)\n",
    "model.fit(x_train, y_train)\n",
    "y_pred = model.predict(x_test)\n",
    "print(\"Accuracy:\", accuracy_score(y_test, y_pred))\n",
    "print(\"Confusion Matrix:\\n\", confusion_matrix(y_test, y_pred))"
   ]
  },
  {
   "cell_type": "code",
   "execution_count": 127,
   "id": "f06fd269",
   "metadata": {},
   "outputs": [
    {
     "name": "stdout",
     "output_type": "stream",
     "text": [
      "Accuracy: 0.21530054644808744\n",
      "Confusion Matrix:\n",
      " [[ 857 6424]\n",
      " [  38  916]]\n"
     ]
    }
   ],
   "source": [
    "# Classification Model: Gaussian Naive Bayes classifier\n",
    "scaler = StandardScaler()\n",
    "x_train_scaled = scaler.fit_transform(x_train)\n",
    "x_test_scaled = scaler.transform(x_test)                          # Scale Data\n",
    "\n",
    "model = GaussianNB()\n",
    "model.fit(x_train_scaled, y_train)\n",
    "\n",
    "y_pred = model.predict(x_test_scaled)\n",
    "\n",
    "print(\"Accuracy:\", accuracy_score(y_test, y_pred))\n",
    "print(\"Confusion Matrix:\\n\", confusion_matrix(y_test, y_pred))"
   ]
  },
  {
   "cell_type": "code",
   "execution_count": 128,
   "id": "8335413f",
   "metadata": {},
   "outputs": [
    {
     "name": "stdout",
     "output_type": "stream",
     "text": [
      "Accuracy: 0.8965391621129326\n",
      "Confusion Matrix:\n",
      " [[7201   80]\n",
      " [ 772  182]]\n"
     ]
    },
    {
     "name": "stderr",
     "output_type": "stream",
     "text": [
      "C:\\Users\\stjam\\anaconda3\\lib\\site-packages\\sklearn\\linear_model\\_logistic.py:814: ConvergenceWarning: lbfgs failed to converge (status=1):\n",
      "STOP: TOTAL NO. of ITERATIONS REACHED LIMIT.\n",
      "\n",
      "Increase the number of iterations (max_iter) or scale the data as shown in:\n",
      "    https://scikit-learn.org/stable/modules/preprocessing.html\n",
      "Please also refer to the documentation for alternative solver options:\n",
      "    https://scikit-learn.org/stable/modules/linear_model.html#logistic-regression\n",
      "  n_iter_i = _check_optimize_result(\n"
     ]
    }
   ],
   "source": [
    "# Linear Model: Logistic Regression\n",
    "model = LogisticRegression(random_state=42)\n",
    "model.fit(x_train, y_train)\n",
    "y_pred = model.predict(x_test)\n",
    "\n",
    "print(\"Accuracy:\", accuracy_score(y_test, y_pred))\n",
    "print(\"Confusion Matrix:\\n\", confusion_matrix(y_test, y_pred))"
   ]
  },
  {
   "cell_type": "code",
   "execution_count": 129,
   "id": "e8bed0b5",
   "metadata": {},
   "outputs": [
    {
     "name": "stdout",
     "output_type": "stream",
     "text": [
      "Accuracy: 0.8911961141469338\n",
      "Confusion Matrix:\n",
      " [[7079  202]\n",
      " [ 694  260]]\n"
     ]
    }
   ],
   "source": [
    "# Non Linear Model: KNN classifier\n",
    "scaler = StandardScaler()\n",
    "X_train_scaled = scaler.fit_transform(x_train)\n",
    "X_test_scaled = scaler.transform(x_test)\n",
    "\n",
    "model_knn = KNeighborsClassifier(n_neighbors=5)  \n",
    "model_knn.fit(X_train_scaled, y_train)\n",
    "\n",
    "y_pred_knn = model_knn.predict(X_test_scaled)\n",
    "\n",
    "print(\"Accuracy:\", accuracy_score(y_test, y_pred_knn))\n",
    "print(\"Confusion Matrix:\\n\", confusion_matrix(y_test, y_pred_knn))"
   ]
  },
  {
   "cell_type": "code",
   "execution_count": 130,
   "id": "d93d792b",
   "metadata": {},
   "outputs": [
    {
     "name": "stdout",
     "output_type": "stream",
     "text": [
      "Accuracy: 0.8915604128718883\n",
      "Confusion Matrix:\n",
      " [[7064  217]\n",
      " [ 676  278]]\n"
     ]
    }
   ],
   "source": [
    "#Ensemble Model: Random Forest\n",
    "model_random_forest = RandomForestClassifier(random_state=42)\n",
    "model_random_forest.fit(x_train, y_train)\n",
    "\n",
    "y_pred_random_forest = model_random_forest.predict(x_test)\n",
    "\n",
    "print(\"Accuracy:\", accuracy_score(y_test, y_pred_random_forest))\n",
    "print(\"Confusion Matrix:\\n\", confusion_matrix(y_test, y_pred_random_forest))"
   ]
  },
  {
   "cell_type": "code",
   "execution_count": 131,
   "id": "4022bc42",
   "metadata": {},
   "outputs": [
    {
     "name": "stdout",
     "output_type": "stream",
     "text": [
      "Accuracy: 0.8939890710382513\n",
      "Confusion Matrix:\n",
      " [[7106  175]\n",
      " [ 698  256]]\n"
     ]
    }
   ],
   "source": [
    "# Boosting model: ADABoost\n",
    "base_learner = DecisionTreeClassifier(max_depth=3)\n",
    "model_adaboost = AdaBoostClassifier(base_learner, n_estimators=50, random_state=42)\n",
    "model_adaboost.fit(x_train, y_train)\n",
    "\n",
    "y_pred_adaboost = model_adaboost.predict(x_test)\n",
    "\n",
    "print(\"Accuracy:\", accuracy_score(y_test, y_pred_adaboost))\n",
    "print(\"Confusion Matrix:\\n\", confusion_matrix(y_test, y_pred_adaboost))"
   ]
  },
  {
   "cell_type": "markdown",
   "id": "ba31662a",
   "metadata": {},
   "source": [
    "# Model building considering duration column"
   ]
  },
  {
   "cell_type": "code",
   "execution_count": 132,
   "id": "a437c77f",
   "metadata": {},
   "outputs": [],
   "source": [
    "X = df_boxcox_transformed.drop(['y'], axis = 1)         # Considering duration as a feature\n",
    "Y = df_boxcox_transformed['y']\n",
    "x_train, x_test, y_train, y_test = train_test_split(X, Y, test_size=0.2, random_state=42)"
   ]
  },
  {
   "cell_type": "code",
   "execution_count": 133,
   "id": "893ab582",
   "metadata": {},
   "outputs": [
    {
     "name": "stdout",
     "output_type": "stream",
     "text": [
      "Accuracy: 0.8819672131147541\n",
      "Confusion Matrix:\n",
      " [[6765  516]\n",
      " [ 456  498]]\n"
     ]
    }
   ],
   "source": [
    "# Base Model: Decision Tree\n",
    "model = DecisionTreeClassifier(random_state=42)\n",
    "model.fit(x_train, y_train)\n",
    "y_pred = model.predict(x_test)\n",
    "print(\"Accuracy:\", accuracy_score(y_test, y_pred))\n",
    "print(\"Confusion Matrix:\\n\", confusion_matrix(y_test, y_pred))"
   ]
  },
  {
   "cell_type": "code",
   "execution_count": 134,
   "id": "a9fa706e",
   "metadata": {},
   "outputs": [
    {
     "name": "stdout",
     "output_type": "stream",
     "text": [
      "Accuracy: 0.37474195506982394\n",
      "Confusion Matrix:\n",
      " [[2142 5139]\n",
      " [  10  944]]\n"
     ]
    }
   ],
   "source": [
    "# Classification Model: Gaussian Naive Bayes classifier\n",
    "scaler = StandardScaler()\n",
    "x_train_scaled = scaler.fit_transform(x_train)\n",
    "x_test_scaled = scaler.transform(x_test)\n",
    "\n",
    "model = GaussianNB()\n",
    "model.fit(x_train_scaled, y_train)\n",
    "y_pred = model.predict(x_test_scaled)\n",
    "print(\"Accuracy:\", accuracy_score(y_test, y_pred))\n",
    "print(\"Confusion Matrix:\\n\", confusion_matrix(y_test, y_pred))"
   ]
  },
  {
   "cell_type": "code",
   "execution_count": 135,
   "id": "94fb11c7",
   "metadata": {},
   "outputs": [
    {
     "name": "stdout",
     "output_type": "stream",
     "text": [
      "Accuracy: 0.9043108682452945\n",
      "Confusion Matrix:\n",
      " [[7068  213]\n",
      " [ 575  379]]\n"
     ]
    },
    {
     "name": "stderr",
     "output_type": "stream",
     "text": [
      "C:\\Users\\stjam\\anaconda3\\lib\\site-packages\\sklearn\\linear_model\\_logistic.py:814: ConvergenceWarning: lbfgs failed to converge (status=1):\n",
      "STOP: TOTAL NO. of ITERATIONS REACHED LIMIT.\n",
      "\n",
      "Increase the number of iterations (max_iter) or scale the data as shown in:\n",
      "    https://scikit-learn.org/stable/modules/preprocessing.html\n",
      "Please also refer to the documentation for alternative solver options:\n",
      "    https://scikit-learn.org/stable/modules/linear_model.html#logistic-regression\n",
      "  n_iter_i = _check_optimize_result(\n"
     ]
    }
   ],
   "source": [
    "# Linear Model: Logistic Regression\n",
    "model = LogisticRegression(random_state=42)\n",
    "model.fit(x_train, y_train)\n",
    "y_pred = model.predict(x_test)\n",
    "print(\"Accuracy:\", accuracy_score(y_test, y_pred))\n",
    "print(\"Confusion Matrix:\\n\", confusion_matrix(y_test, y_pred))"
   ]
  },
  {
   "cell_type": "code",
   "execution_count": 136,
   "id": "41131dc4",
   "metadata": {},
   "outputs": [
    {
     "name": "stdout",
     "output_type": "stream",
     "text": [
      "Accuracy: 0.8987249544626594\n",
      "Confusion Matrix:\n",
      " [[7028  253]\n",
      " [ 581  373]]\n"
     ]
    }
   ],
   "source": [
    "# Non Linear Model: KNN classifier\n",
    "scaler = StandardScaler()\n",
    "X_train_scaled = scaler.fit_transform(x_train)\n",
    "X_test_scaled = scaler.transform(x_test)\n",
    "\n",
    "model_knn = KNeighborsClassifier(n_neighbors=5)  \n",
    "model_knn.fit(X_train_scaled, y_train)\n",
    "\n",
    "y_pred_knn = model_knn.predict(X_test_scaled)\n",
    "print(\"Accuracy:\", accuracy_score(y_test, y_pred_knn))\n",
    "print(\"Confusion Matrix:\\n\", confusion_matrix(y_test, y_pred_knn))"
   ]
  },
  {
   "cell_type": "code",
   "execution_count": 137,
   "id": "22e59f2f",
   "metadata": {},
   "outputs": [
    {
     "name": "stdout",
     "output_type": "stream",
     "text": [
      "Accuracy: 0.913418336369156\n",
      "Confusion Matrix:\n",
      " [[7042  239]\n",
      " [ 474  480]]\n"
     ]
    }
   ],
   "source": [
    "#Ensemble Model: Random Forest\n",
    "model_random_forest = RandomForestClassifier(random_state=42)\n",
    "model_random_forest.fit(x_train, y_train)\n",
    "\n",
    "y_pred_random_forest = model_random_forest.predict(x_test)\n",
    "\n",
    "print(\"Accuracy:\", accuracy_score(y_test, y_pred_random_forest))\n",
    "print(\"Confusion Matrix:\\n\", confusion_matrix(y_test, y_pred_random_forest))"
   ]
  },
  {
   "cell_type": "code",
   "execution_count": 138,
   "id": "bce9a34a",
   "metadata": {},
   "outputs": [
    {
     "name": "stdout",
     "output_type": "stream",
     "text": [
      "Accuracy: 0.9107468123861566\n",
      "Confusion Matrix:\n",
      " [[6997  284]\n",
      " [ 451  503]]\n"
     ]
    }
   ],
   "source": [
    "# Boosting model: ADABoost\n",
    "base_learner = DecisionTreeClassifier(max_depth=3)\n",
    "model_adaboost = AdaBoostClassifier(base_learner, n_estimators=50, random_state=42)\n",
    "model_adaboost.fit(x_train, y_train)\n",
    "\n",
    "y_pred_adaboost = model_adaboost.predict(x_test)\n",
    "\n",
    "print(\"Accuracy:\", accuracy_score(y_test, y_pred_adaboost))\n",
    "print(\"Confusion Matrix:\\n\", confusion_matrix(y_test, y_pred_adaboost))"
   ]
  }
 ],
 "metadata": {
  "kernelspec": {
   "display_name": "Python 3 (ipykernel)",
   "language": "python",
   "name": "python3"
  },
  "language_info": {
   "codemirror_mode": {
    "name": "ipython",
    "version": 3
   },
   "file_extension": ".py",
   "mimetype": "text/x-python",
   "name": "python",
   "nbconvert_exporter": "python",
   "pygments_lexer": "ipython3",
   "version": "3.9.12"
  }
 },
 "nbformat": 4,
 "nbformat_minor": 5
}
