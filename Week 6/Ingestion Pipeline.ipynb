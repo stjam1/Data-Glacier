{
  "nbformat": 4,
  "nbformat_minor": 0,
  "metadata": {
    "colab": {
      "provenance": []
    },
    "kernelspec": {
      "name": "python3",
      "display_name": "Python 3"
    },
    "language_info": {
      "name": "python"
    }
  },
  "cells": [
    {
      "cell_type": "code",
      "execution_count": 1,
      "metadata": {
        "colab": {
          "base_uri": "https://localhost:8080/"
        },
        "id": "OfeP6yDtPpDU",
        "outputId": "3d2d5e55-7e31-4783-8949-d26d3bd07ae4"
      },
      "outputs": [
        {
          "output_type": "stream",
          "name": "stdout",
          "text": [
            "Mounted at /content/drive\n"
          ]
        }
      ],
      "source": [
        "from google.colab import drive                #  Attact data from google drive\n",
        "drive.mount('/content/drive')"
      ]
    },
    {
      "cell_type": "code",
      "source": [
        "# Import Data and display the size of the dataset\n",
        "import os\n",
        "data_size = os.path.getsize('/content/drive/My Drive/2019-Oct.csv')/(1024**3)\n",
        "print(f'The size of the data is {round(data_size,4)} GB')"
      ],
      "metadata": {
        "colab": {
          "base_uri": "https://localhost:8080/"
        },
        "id": "yTvcl-6LQJFu",
        "outputId": "af34963c-692f-4ec2-e0e8-4191eb4ac6d4"
      },
      "execution_count": 3,
      "outputs": [
        {
          "output_type": "stream",
          "name": "stdout",
          "text": [
            "The size of the data is 5.2793 GB\n"
          ]
        }
      ]
    },
    {
      "cell_type": "markdown",
      "source": [
        "# Read with Pandas"
      ],
      "metadata": {
        "id": "sCZz0yfURkiL"
      }
    },
    {
      "cell_type": "code",
      "source": [
        "import pandas as pd\n",
        "import time"
      ],
      "metadata": {
        "id": "v0ModQBaQVnG"
      },
      "execution_count": 8,
      "outputs": []
    },
    {
      "cell_type": "code",
      "source": [
        "# Find elapsed time for read using pandas\n",
        "start = time.time()\n",
        "data = pd.read_csv('/content/drive/My Drive/2019-Oct.csv')\n",
        "end = time.time()"
      ],
      "metadata": {
        "id": "5aZ5jxKqRyTa"
      },
      "execution_count": 5,
      "outputs": []
    },
    {
      "cell_type": "code",
      "source": [
        "time_elapsed = end-start\n",
        "print(f'Time taken for read using Pandas: {round(time_elapsed,4)} seconds')"
      ],
      "metadata": {
        "colab": {
          "base_uri": "https://localhost:8080/"
        },
        "id": "7oAqXJrQSuLJ",
        "outputId": "b0ef547f-0d3f-4ef1-8379-b838d0233226"
      },
      "execution_count": 7,
      "outputs": [
        {
          "output_type": "stream",
          "name": "stdout",
          "text": [
            "Time taken for read using Pandas: 135.6377 seconds\n"
          ]
        }
      ]
    },
    {
      "cell_type": "markdown",
      "source": [
        "# Read with Dask"
      ],
      "metadata": {
        "id": "fP5oHaKlUDud"
      }
    },
    {
      "cell_type": "code",
      "source": [
        "import dask.dataframe as dd"
      ],
      "metadata": {
        "id": "skDAPx_uUHgo"
      },
      "execution_count": 4,
      "outputs": []
    },
    {
      "cell_type": "code",
      "source": [
        "# Find elapsed time for read with Dask\n",
        "start = time.time()\n",
        "data = dd.read_csv('/content/drive/My Drive/2019-Oct.csv')\n",
        "end = time.time()"
      ],
      "metadata": {
        "id": "NF-hmSWMUQ-n"
      },
      "execution_count": 8,
      "outputs": []
    },
    {
      "cell_type": "code",
      "source": [
        "time_elapsed = end-start\n",
        "print(f'Time taken for read using Dask: {round(time_elapsed,4)} seconds')"
      ],
      "metadata": {
        "colab": {
          "base_uri": "https://localhost:8080/"
        },
        "id": "jCoyj90rUfBX",
        "outputId": "7aa23e60-602c-48c8-e2ca-f0c17f084482"
      },
      "execution_count": 9,
      "outputs": [
        {
          "output_type": "stream",
          "name": "stdout",
          "text": [
            "Time taken for read using Dask: 0.3956 seconds\n"
          ]
        }
      ]
    },
    {
      "cell_type": "markdown",
      "source": [
        "# Read using Modin"
      ],
      "metadata": {
        "id": "q---dnQZUzWP"
      }
    },
    {
      "cell_type": "code",
      "source": [
        "import modin.pandas as mpd"
      ],
      "metadata": {
        "id": "2qWT7HT6VQWP"
      },
      "execution_count": 2,
      "outputs": []
    },
    {
      "cell_type": "code",
      "source": [
        "# Find elapsed time for read with Modin\n",
        "start = time.time()\n",
        "data = mpd.read_csv('/content/drive/My Drive/2019-Oct.csv')\n",
        "end = time.time()"
      ],
      "metadata": {
        "colab": {
          "base_uri": "https://localhost:8080/"
        },
        "id": "cPg1C8snV8Mk",
        "outputId": "74d30a31-9b95-4477-c19a-e660f9481cf4"
      },
      "execution_count": 3,
      "outputs": [
        {
          "output_type": "stream",
          "name": "stderr",
          "text": [
            "UserWarning: Ray execution environment not yet initialized. Initializing...\n",
            "To remove this warning, run the following python code before doing dataframe operations:\n",
            "\n",
            "    import ray\n",
            "    ray.init()\n",
            "\n",
            "UserWarning: The size of /dev/shm is too small (6133121024 bytes). The required size at least half of RAM (6806634496 bytes). Please, delete files in /dev/shm or increase size of /dev/shm with --shm-size in Docker. Also, you can can override the memory size for each Ray worker (in bytes) to the MODIN_MEMORY environment variable.\n",
            "2023-12-10 02:06:24,091\tINFO worker.py:1673 -- Started a local Ray instance.\n",
            "\u001b[33m(raylet)\u001b[0m [2023-12-10 02:09:24,007 E 19035 19035] (raylet) node_manager.cc:3035: 1 Workers (tasks / actors) killed due to memory pressure (OOM), 0 Workers crashed due to other reasons at node (ID: 8fbf3da6b3520c6689ef79f8606405f42187d20e6b08e15b3b0c758e, IP: 172.28.0.12) over the last time period. To see more information about the Workers killed on this node, use `ray logs raylet.out -ip 172.28.0.12`\n",
            "\u001b[33m(raylet)\u001b[0m \n",
            "\u001b[33m(raylet)\u001b[0m Refer to the documentation on how to address the out of memory issue: https://docs.ray.io/en/latest/ray-core/scheduling/ray-oom-prevention.html. Consider provisioning more memory on this node or reducing task parallelism by requesting more CPUs per task. To adjust the kill threshold, set the environment variable `RAY_memory_usage_threshold` when starting Ray. To disable worker killing, set the environment variable `RAY_memory_monitor_refresh_ms` to zero.\n"
          ]
        }
      ]
    },
    {
      "cell_type": "code",
      "source": [
        "time_elapsed = end-start\n",
        "print(f'Time taken for read using modin: {round(time_elapsed,4)} seconds')"
      ],
      "metadata": {
        "colab": {
          "base_uri": "https://localhost:8080/"
        },
        "id": "b9DS8zb6Ygkg",
        "outputId": "a5408fce-b84f-42c2-8e1f-cfe288e5122a"
      },
      "execution_count": 4,
      "outputs": [
        {
          "output_type": "stream",
          "name": "stdout",
          "text": [
            "Time taken for read using modin: 249.505 seconds\n"
          ]
        }
      ]
    },
    {
      "cell_type": "markdown",
      "source": [
        "# Read with Ray"
      ],
      "metadata": {
        "id": "D2cFTSEXgds3"
      }
    },
    {
      "cell_type": "code",
      "source": [
        "import ray"
      ],
      "metadata": {
        "id": "VvL7LZNPg5TH"
      },
      "execution_count": 21,
      "outputs": []
    },
    {
      "cell_type": "code",
      "source": [
        "# Find elapsed time for read with Ray\n",
        "start = time.time()\n",
        "data = ray.data.read_csv('/content/drive/My Drive/2019-Oct.csv')\n",
        "end = time.time()"
      ],
      "metadata": {
        "colab": {
          "base_uri": "https://localhost:8080/"
        },
        "id": "scexjOzufuFs",
        "outputId": "2cd874da-b503-4f16-beab-274e005be6b2"
      },
      "execution_count": 22,
      "outputs": [
        {
          "output_type": "stream",
          "name": "stderr",
          "text": [
            "2023-12-10 23:55:50,921\tINFO worker.py:1673 -- Started a local Ray instance.\n"
          ]
        }
      ]
    },
    {
      "cell_type": "code",
      "source": [
        "time_elapsed = end-start\n",
        "print(f'Time taken for read using ray: {round(time_elapsed,4)} seconds')"
      ],
      "metadata": {
        "colab": {
          "base_uri": "https://localhost:8080/"
        },
        "id": "akVrKO8Zhv6k",
        "outputId": "b25e1a06-f0ac-47df-cc0a-74a8aededf69"
      },
      "execution_count": 23,
      "outputs": [
        {
          "output_type": "stream",
          "name": "stdout",
          "text": [
            "Time taken for read using ray: 8.2521 seconds\n"
          ]
        }
      ]
    },
    {
      "cell_type": "markdown",
      "source": [
        "### **Ray read the data as ray dataset object where as Dask, Pandas and Mobin reads it as Dataframe object. From our analysis, dask is performing better with minimal reading time compared to the rest of the methods**"
      ],
      "metadata": {
        "id": "xztgg30tJTdm"
      }
    },
    {
      "cell_type": "markdown",
      "source": [
        "# Basic Validation"
      ],
      "metadata": {
        "id": "cRaPjwsvoTRQ"
      }
    },
    {
      "cell_type": "code",
      "source": [
        "data.columns                            # Columns before special characters"
      ],
      "metadata": {
        "colab": {
          "base_uri": "https://localhost:8080/"
        },
        "id": "Jzieo3BriImB",
        "outputId": "8ac49fe5-4921-4233-8969-5638d2d5056e"
      },
      "execution_count": 10,
      "outputs": [
        {
          "output_type": "execute_result",
          "data": {
            "text/plain": [
              "Index(['event_time', 'event_type', 'product_id', 'category_id',\n",
              "       'category_code', 'brand', 'price', 'user_id', 'user_session'],\n",
              "      dtype='object')"
            ]
          },
          "metadata": {},
          "execution_count": 10
        }
      ]
    },
    {
      "cell_type": "code",
      "source": [
        "data.columns = data.columns.str.strip().str.replace('[_,@,#,&, ]','')\n",
        "data.columns                        # Columns after removing spaces and special characters"
      ],
      "metadata": {
        "colab": {
          "base_uri": "https://localhost:8080/"
        },
        "id": "WNc1IxTsoa-H",
        "outputId": "1b032194-e6db-4461-9c0d-bd40aeadea48"
      },
      "execution_count": 24,
      "outputs": [
        {
          "output_type": "stream",
          "name": "stderr",
          "text": [
            "<ipython-input-24-38df9c92e8a0>:1: FutureWarning: The default value of regex will change from True to False in a future version.\n",
            "  data.columns = data.columns.str.strip().str.replace('[_,@,#,&, ]','').str.replace(' ','')\n"
          ]
        },
        {
          "output_type": "execute_result",
          "data": {
            "text/plain": [
              "Index(['eventtime', 'eventtype', 'productid', 'categoryid', 'categorycode',\n",
              "       'brand', 'price', 'userid', 'usersession'],\n",
              "      dtype='object')"
            ]
          },
          "metadata": {},
          "execution_count": 24
        }
      ]
    },
    {
      "cell_type": "markdown",
      "source": [
        "# Create YAML file\n"
      ],
      "metadata": {
        "id": "fjjhayTdjcUk"
      }
    },
    {
      "cell_type": "code",
      "source": [
        "# Creating YAML file for validation by providing parameters and columns\n",
        "\n",
        "%%writefile file.yaml\n",
        "file_type: csv\n",
        "dataset_name: testfile\n",
        "file_name: 2019-Oct\n",
        "table_name: edsurv\n",
        "inbound_delimiter: \",\"\n",
        "outbound_delimiter: \"|\"\n",
        "skip_leading_rows: 1\n",
        "columns:\n",
        "    - eventtime\n",
        "    - eventtype\n",
        "    - productid\n",
        "    - categoryid\n",
        "    - categorycode\n",
        "    - brand\n",
        "    - price\n",
        "    - userid\n",
        "    - usersession"
      ],
      "metadata": {
        "colab": {
          "base_uri": "https://localhost:8080/"
        },
        "id": "1jrySerRgT37",
        "outputId": "6cb56fd7-3091-4b94-cb10-0ad2410c10a7"
      },
      "execution_count": 1,
      "outputs": [
        {
          "output_type": "stream",
          "name": "stdout",
          "text": [
            "Writing file.yaml\n"
          ]
        }
      ]
    },
    {
      "cell_type": "markdown",
      "source": [
        "# Create Utility File"
      ],
      "metadata": {
        "id": "lCKqHzU0lKLX"
      }
    },
    {
      "cell_type": "code",
      "source": [
        "# Creating utility file for using utility functions during validation of the dataset\n",
        "%%writefile utility.py\n",
        "import logging\n",
        "import os\n",
        "import subprocess\n",
        "import yaml\n",
        "import pandas as pd\n",
        "import datetime\n",
        "import gc\n",
        "import re\n",
        "\n",
        "def read_config_file(filepath):\n",
        "    with open(filepath, 'r') as stream:\n",
        "        try:\n",
        "            return yaml.safe_load(stream)\n",
        "        except yaml.YAMLError as exc:\n",
        "            logging.error(exc)\n",
        "\n",
        "\n",
        "def replacer(string, char):\n",
        "    pattern = char + '{2,}'\n",
        "    string = re.sub(pattern, char, string)\n",
        "    return string\n",
        "\n",
        "def col_header_val(df,table_config):\n",
        "\n",
        "    df.columns = df.columns.str.lower()\n",
        "    df.columns = df.columns.str.replace('[^\\w]','_',regex=True)\n",
        "    df.columns = list(map(lambda x: x.strip('_'), list(df.columns)))\n",
        "    df.columns = list(map(lambda x: replacer(x,'_'), list(df.columns)))\n",
        "    expected_col = list(map(lambda x: x.lower(),  table_config['columns']))\n",
        "    expected_col.sort()\n",
        "    df.columns =list(map(lambda x: x.lower(), list(df.columns)))\n",
        "    df = df.reindex(sorted(df.columns), axis=1)\n",
        "    if len(df.columns) == len(expected_col) and list(expected_col)  == list(df.columns):\n",
        "        print(\"column name and column length validation passed\")\n",
        "        return 1\n",
        "    else:\n",
        "        print(\"column name and column length validation failed\")\n",
        "        mismatched_columns_file = list(set(df.columns).difference(expected_col))\n",
        "        print(\"Following File columns are not in the YAML file\",mismatched_columns_file)\n",
        "        missing_YAML_file = list(set(expected_col).difference(df.columns))\n",
        "        print(\"Following YAML columns are not in the file uploaded\",missing_YAML_file)\n",
        "        logging.info(f'df columns: {df.columns}')\n",
        "        logging.info(f'expected columns: {expected_col}')\n",
        "        return 0"
      ],
      "metadata": {
        "colab": {
          "base_uri": "https://localhost:8080/"
        },
        "id": "IN4mV2OLlJS0",
        "outputId": "3329c0c7-e618-4d35-a099-e0eab793ec0e"
      },
      "execution_count": 3,
      "outputs": [
        {
          "output_type": "stream",
          "name": "stdout",
          "text": [
            "Writing utility.py\n"
          ]
        }
      ]
    },
    {
      "cell_type": "markdown",
      "source": [
        "# Validation of Ingestion File with Yaml"
      ],
      "metadata": {
        "id": "C6JpOX8yna8P"
      }
    },
    {
      "cell_type": "code",
      "source": [
        "# Read config file\n",
        "import testutility as util\n",
        "config_data = util.read_config_file(\"file.yaml\")"
      ],
      "metadata": {
        "id": "nH5J2w4NnmnV"
      },
      "execution_count": 4,
      "outputs": []
    },
    {
      "cell_type": "code",
      "source": [
        "config_data"
      ],
      "metadata": {
        "colab": {
          "base_uri": "https://localhost:8080/"
        },
        "id": "-GUby0t1ntuf",
        "outputId": "94a82a1e-8ffc-42bd-d8be-a824bb85a96c"
      },
      "execution_count": 5,
      "outputs": [
        {
          "output_type": "execute_result",
          "data": {
            "text/plain": [
              "{'file_type': 'csv',\n",
              " 'dataset_name': 'testfile',\n",
              " 'file_name': '2019-Oct',\n",
              " 'table_name': 'edsurv',\n",
              " 'inbound_delimiter': ',',\n",
              " 'outbound_delimiter': '|',\n",
              " 'skip_leading_rows': 1,\n",
              " 'columns': ['eventtime',\n",
              "  'eventtype',\n",
              "  'productid',\n",
              "  'categoryid',\n",
              "  'categorycode',\n",
              "  'brand',\n",
              "  'price',\n",
              "  'userid',\n",
              "  'usersession']}"
            ]
          },
          "metadata": {},
          "execution_count": 5
        }
      ]
    },
    {
      "cell_type": "code",
      "source": [
        "# Normal reading process of the file\n",
        "import dask.dataframe as dd\n",
        "df_norm = dd.read_csv('/content/drive/My Drive/2019-Oct.csv')\n",
        "df_norm.head()"
      ],
      "metadata": {
        "colab": {
          "base_uri": "https://localhost:8080/",
          "height": 486
        },
        "id": "aiC1nbq4oK0a",
        "outputId": "95bc1695-4b81-4322-ac88-8cd7d15d860a"
      },
      "execution_count": 8,
      "outputs": [
        {
          "output_type": "execute_result",
          "data": {
            "text/plain": [
              "                event_time event_type  product_id          category_id  \\\n",
              "0  2019-10-01 00:00:00 UTC       view    44600062  2103807459595387724   \n",
              "1  2019-10-01 00:00:00 UTC       view     3900821  2053013552326770905   \n",
              "2  2019-10-01 00:00:01 UTC       view    17200506  2053013559792632471   \n",
              "3  2019-10-01 00:00:01 UTC       view     1307067  2053013558920217191   \n",
              "4  2019-10-01 00:00:04 UTC       view     1004237  2053013555631882655   \n",
              "\n",
              "                         category_code     brand    price    user_id  \\\n",
              "0                                  NaN  shiseido    35.79  541312140   \n",
              "1  appliances.environment.water_heater      aqua    33.20  554748717   \n",
              "2           furniture.living_room.sofa       NaN   543.10  519107250   \n",
              "3                   computers.notebook    lenovo   251.74  550050854   \n",
              "4               electronics.smartphone     apple  1081.98  535871217   \n",
              "\n",
              "                           user_session  \n",
              "0  72d76fde-8bb3-4e00-8c23-a032dfed738c  \n",
              "1  9333dfbd-b87a-4708-9857-6336556b0fcc  \n",
              "2  566511c2-e2e3-422b-b695-cf8e6e792ca8  \n",
              "3  7c90fc70-0e80-4590-96f3-13c02c18c713  \n",
              "4  c6bd7419-2748-4c56-95b4-8cec9ff8b80d  "
            ],
            "text/html": [
              "\n",
              "  <div id=\"df-32226072-d086-447c-9e81-359cac758128\" class=\"colab-df-container\">\n",
              "    <div>\n",
              "<style scoped>\n",
              "    .dataframe tbody tr th:only-of-type {\n",
              "        vertical-align: middle;\n",
              "    }\n",
              "\n",
              "    .dataframe tbody tr th {\n",
              "        vertical-align: top;\n",
              "    }\n",
              "\n",
              "    .dataframe thead th {\n",
              "        text-align: right;\n",
              "    }\n",
              "</style>\n",
              "<table border=\"1\" class=\"dataframe\">\n",
              "  <thead>\n",
              "    <tr style=\"text-align: right;\">\n",
              "      <th></th>\n",
              "      <th>event_time</th>\n",
              "      <th>event_type</th>\n",
              "      <th>product_id</th>\n",
              "      <th>category_id</th>\n",
              "      <th>category_code</th>\n",
              "      <th>brand</th>\n",
              "      <th>price</th>\n",
              "      <th>user_id</th>\n",
              "      <th>user_session</th>\n",
              "    </tr>\n",
              "  </thead>\n",
              "  <tbody>\n",
              "    <tr>\n",
              "      <th>0</th>\n",
              "      <td>2019-10-01 00:00:00 UTC</td>\n",
              "      <td>view</td>\n",
              "      <td>44600062</td>\n",
              "      <td>2103807459595387724</td>\n",
              "      <td>NaN</td>\n",
              "      <td>shiseido</td>\n",
              "      <td>35.79</td>\n",
              "      <td>541312140</td>\n",
              "      <td>72d76fde-8bb3-4e00-8c23-a032dfed738c</td>\n",
              "    </tr>\n",
              "    <tr>\n",
              "      <th>1</th>\n",
              "      <td>2019-10-01 00:00:00 UTC</td>\n",
              "      <td>view</td>\n",
              "      <td>3900821</td>\n",
              "      <td>2053013552326770905</td>\n",
              "      <td>appliances.environment.water_heater</td>\n",
              "      <td>aqua</td>\n",
              "      <td>33.20</td>\n",
              "      <td>554748717</td>\n",
              "      <td>9333dfbd-b87a-4708-9857-6336556b0fcc</td>\n",
              "    </tr>\n",
              "    <tr>\n",
              "      <th>2</th>\n",
              "      <td>2019-10-01 00:00:01 UTC</td>\n",
              "      <td>view</td>\n",
              "      <td>17200506</td>\n",
              "      <td>2053013559792632471</td>\n",
              "      <td>furniture.living_room.sofa</td>\n",
              "      <td>NaN</td>\n",
              "      <td>543.10</td>\n",
              "      <td>519107250</td>\n",
              "      <td>566511c2-e2e3-422b-b695-cf8e6e792ca8</td>\n",
              "    </tr>\n",
              "    <tr>\n",
              "      <th>3</th>\n",
              "      <td>2019-10-01 00:00:01 UTC</td>\n",
              "      <td>view</td>\n",
              "      <td>1307067</td>\n",
              "      <td>2053013558920217191</td>\n",
              "      <td>computers.notebook</td>\n",
              "      <td>lenovo</td>\n",
              "      <td>251.74</td>\n",
              "      <td>550050854</td>\n",
              "      <td>7c90fc70-0e80-4590-96f3-13c02c18c713</td>\n",
              "    </tr>\n",
              "    <tr>\n",
              "      <th>4</th>\n",
              "      <td>2019-10-01 00:00:04 UTC</td>\n",
              "      <td>view</td>\n",
              "      <td>1004237</td>\n",
              "      <td>2053013555631882655</td>\n",
              "      <td>electronics.smartphone</td>\n",
              "      <td>apple</td>\n",
              "      <td>1081.98</td>\n",
              "      <td>535871217</td>\n",
              "      <td>c6bd7419-2748-4c56-95b4-8cec9ff8b80d</td>\n",
              "    </tr>\n",
              "  </tbody>\n",
              "</table>\n",
              "</div>\n",
              "    <div class=\"colab-df-buttons\">\n",
              "\n",
              "  <div class=\"colab-df-container\">\n",
              "    <button class=\"colab-df-convert\" onclick=\"convertToInteractive('df-32226072-d086-447c-9e81-359cac758128')\"\n",
              "            title=\"Convert this dataframe to an interactive table.\"\n",
              "            style=\"display:none;\">\n",
              "\n",
              "  <svg xmlns=\"http://www.w3.org/2000/svg\" height=\"24px\" viewBox=\"0 -960 960 960\">\n",
              "    <path d=\"M120-120v-720h720v720H120Zm60-500h600v-160H180v160Zm220 220h160v-160H400v160Zm0 220h160v-160H400v160ZM180-400h160v-160H180v160Zm440 0h160v-160H620v160ZM180-180h160v-160H180v160Zm440 0h160v-160H620v160Z\"/>\n",
              "  </svg>\n",
              "    </button>\n",
              "\n",
              "  <style>\n",
              "    .colab-df-container {\n",
              "      display:flex;\n",
              "      gap: 12px;\n",
              "    }\n",
              "\n",
              "    .colab-df-convert {\n",
              "      background-color: #E8F0FE;\n",
              "      border: none;\n",
              "      border-radius: 50%;\n",
              "      cursor: pointer;\n",
              "      display: none;\n",
              "      fill: #1967D2;\n",
              "      height: 32px;\n",
              "      padding: 0 0 0 0;\n",
              "      width: 32px;\n",
              "    }\n",
              "\n",
              "    .colab-df-convert:hover {\n",
              "      background-color: #E2EBFA;\n",
              "      box-shadow: 0px 1px 2px rgba(60, 64, 67, 0.3), 0px 1px 3px 1px rgba(60, 64, 67, 0.15);\n",
              "      fill: #174EA6;\n",
              "    }\n",
              "\n",
              "    .colab-df-buttons div {\n",
              "      margin-bottom: 4px;\n",
              "    }\n",
              "\n",
              "    [theme=dark] .colab-df-convert {\n",
              "      background-color: #3B4455;\n",
              "      fill: #D2E3FC;\n",
              "    }\n",
              "\n",
              "    [theme=dark] .colab-df-convert:hover {\n",
              "      background-color: #434B5C;\n",
              "      box-shadow: 0px 1px 3px 1px rgba(0, 0, 0, 0.15);\n",
              "      filter: drop-shadow(0px 1px 2px rgba(0, 0, 0, 0.3));\n",
              "      fill: #FFFFFF;\n",
              "    }\n",
              "  </style>\n",
              "\n",
              "    <script>\n",
              "      const buttonEl =\n",
              "        document.querySelector('#df-32226072-d086-447c-9e81-359cac758128 button.colab-df-convert');\n",
              "      buttonEl.style.display =\n",
              "        google.colab.kernel.accessAllowed ? 'block' : 'none';\n",
              "\n",
              "      async function convertToInteractive(key) {\n",
              "        const element = document.querySelector('#df-32226072-d086-447c-9e81-359cac758128');\n",
              "        const dataTable =\n",
              "          await google.colab.kernel.invokeFunction('convertToInteractive',\n",
              "                                                    [key], {});\n",
              "        if (!dataTable) return;\n",
              "\n",
              "        const docLinkHtml = 'Like what you see? Visit the ' +\n",
              "          '<a target=\"_blank\" href=https://colab.research.google.com/notebooks/data_table.ipynb>data table notebook</a>'\n",
              "          + ' to learn more about interactive tables.';\n",
              "        element.innerHTML = '';\n",
              "        dataTable['output_type'] = 'display_data';\n",
              "        await google.colab.output.renderOutput(dataTable, element);\n",
              "        const docLink = document.createElement('div');\n",
              "        docLink.innerHTML = docLinkHtml;\n",
              "        element.appendChild(docLink);\n",
              "      }\n",
              "    </script>\n",
              "  </div>\n",
              "\n",
              "\n",
              "<div id=\"df-aff3cb2a-021a-4735-8db7-a9cc93f6eff8\">\n",
              "  <button class=\"colab-df-quickchart\" onclick=\"quickchart('df-aff3cb2a-021a-4735-8db7-a9cc93f6eff8')\"\n",
              "            title=\"Suggest charts\"\n",
              "            style=\"display:none;\">\n",
              "\n",
              "<svg xmlns=\"http://www.w3.org/2000/svg\" height=\"24px\"viewBox=\"0 0 24 24\"\n",
              "     width=\"24px\">\n",
              "    <g>\n",
              "        <path d=\"M19 3H5c-1.1 0-2 .9-2 2v14c0 1.1.9 2 2 2h14c1.1 0 2-.9 2-2V5c0-1.1-.9-2-2-2zM9 17H7v-7h2v7zm4 0h-2V7h2v10zm4 0h-2v-4h2v4z\"/>\n",
              "    </g>\n",
              "</svg>\n",
              "  </button>\n",
              "\n",
              "<style>\n",
              "  .colab-df-quickchart {\n",
              "      --bg-color: #E8F0FE;\n",
              "      --fill-color: #1967D2;\n",
              "      --hover-bg-color: #E2EBFA;\n",
              "      --hover-fill-color: #174EA6;\n",
              "      --disabled-fill-color: #AAA;\n",
              "      --disabled-bg-color: #DDD;\n",
              "  }\n",
              "\n",
              "  [theme=dark] .colab-df-quickchart {\n",
              "      --bg-color: #3B4455;\n",
              "      --fill-color: #D2E3FC;\n",
              "      --hover-bg-color: #434B5C;\n",
              "      --hover-fill-color: #FFFFFF;\n",
              "      --disabled-bg-color: #3B4455;\n",
              "      --disabled-fill-color: #666;\n",
              "  }\n",
              "\n",
              "  .colab-df-quickchart {\n",
              "    background-color: var(--bg-color);\n",
              "    border: none;\n",
              "    border-radius: 50%;\n",
              "    cursor: pointer;\n",
              "    display: none;\n",
              "    fill: var(--fill-color);\n",
              "    height: 32px;\n",
              "    padding: 0;\n",
              "    width: 32px;\n",
              "  }\n",
              "\n",
              "  .colab-df-quickchart:hover {\n",
              "    background-color: var(--hover-bg-color);\n",
              "    box-shadow: 0 1px 2px rgba(60, 64, 67, 0.3), 0 1px 3px 1px rgba(60, 64, 67, 0.15);\n",
              "    fill: var(--button-hover-fill-color);\n",
              "  }\n",
              "\n",
              "  .colab-df-quickchart-complete:disabled,\n",
              "  .colab-df-quickchart-complete:disabled:hover {\n",
              "    background-color: var(--disabled-bg-color);\n",
              "    fill: var(--disabled-fill-color);\n",
              "    box-shadow: none;\n",
              "  }\n",
              "\n",
              "  .colab-df-spinner {\n",
              "    border: 2px solid var(--fill-color);\n",
              "    border-color: transparent;\n",
              "    border-bottom-color: var(--fill-color);\n",
              "    animation:\n",
              "      spin 1s steps(1) infinite;\n",
              "  }\n",
              "\n",
              "  @keyframes spin {\n",
              "    0% {\n",
              "      border-color: transparent;\n",
              "      border-bottom-color: var(--fill-color);\n",
              "      border-left-color: var(--fill-color);\n",
              "    }\n",
              "    20% {\n",
              "      border-color: transparent;\n",
              "      border-left-color: var(--fill-color);\n",
              "      border-top-color: var(--fill-color);\n",
              "    }\n",
              "    30% {\n",
              "      border-color: transparent;\n",
              "      border-left-color: var(--fill-color);\n",
              "      border-top-color: var(--fill-color);\n",
              "      border-right-color: var(--fill-color);\n",
              "    }\n",
              "    40% {\n",
              "      border-color: transparent;\n",
              "      border-right-color: var(--fill-color);\n",
              "      border-top-color: var(--fill-color);\n",
              "    }\n",
              "    60% {\n",
              "      border-color: transparent;\n",
              "      border-right-color: var(--fill-color);\n",
              "    }\n",
              "    80% {\n",
              "      border-color: transparent;\n",
              "      border-right-color: var(--fill-color);\n",
              "      border-bottom-color: var(--fill-color);\n",
              "    }\n",
              "    90% {\n",
              "      border-color: transparent;\n",
              "      border-bottom-color: var(--fill-color);\n",
              "    }\n",
              "  }\n",
              "</style>\n",
              "\n",
              "  <script>\n",
              "    async function quickchart(key) {\n",
              "      const quickchartButtonEl =\n",
              "        document.querySelector('#' + key + ' button');\n",
              "      quickchartButtonEl.disabled = true;  // To prevent multiple clicks.\n",
              "      quickchartButtonEl.classList.add('colab-df-spinner');\n",
              "      try {\n",
              "        const charts = await google.colab.kernel.invokeFunction(\n",
              "            'suggestCharts', [key], {});\n",
              "      } catch (error) {\n",
              "        console.error('Error during call to suggestCharts:', error);\n",
              "      }\n",
              "      quickchartButtonEl.classList.remove('colab-df-spinner');\n",
              "      quickchartButtonEl.classList.add('colab-df-quickchart-complete');\n",
              "    }\n",
              "    (() => {\n",
              "      let quickchartButtonEl =\n",
              "        document.querySelector('#df-aff3cb2a-021a-4735-8db7-a9cc93f6eff8 button');\n",
              "      quickchartButtonEl.style.display =\n",
              "        google.colab.kernel.accessAllowed ? 'block' : 'none';\n",
              "    })();\n",
              "  </script>\n",
              "</div>\n",
              "    </div>\n",
              "  </div>\n"
            ]
          },
          "metadata": {},
          "execution_count": 8
        }
      ]
    },
    {
      "cell_type": "code",
      "source": [
        "# read the file using config file\n",
        "file_type = config_data['file_type']\n",
        "source_file = \"/content/drive/My Drive/\" + config_data['file_name'] + f'.{file_type}'\n",
        "df = pd.read_csv(source_file,config_data['inbound_delimiter'])\n",
        "df.head()"
      ],
      "metadata": {
        "colab": {
          "base_uri": "https://localhost:8080/",
          "height": 521
        },
        "id": "ZKufdUI6pd4L",
        "outputId": "a13a4da3-4c0c-4617-fa0a-e24c10ae62e3"
      },
      "execution_count": 13,
      "outputs": [
        {
          "output_type": "stream",
          "name": "stderr",
          "text": [
            "<ipython-input-13-bd3351ecba65>:4: FutureWarning: In a future version of pandas all arguments of read_csv except for the argument 'filepath_or_buffer' will be keyword-only.\n",
            "  df = pd.read_csv(source_file,config_data['inbound_delimiter'])\n"
          ]
        },
        {
          "output_type": "execute_result",
          "data": {
            "text/plain": [
              "                event_time event_type  product_id          category_id  \\\n",
              "0  2019-10-01 00:00:00 UTC       view    44600062  2103807459595387724   \n",
              "1  2019-10-01 00:00:00 UTC       view     3900821  2053013552326770905   \n",
              "2  2019-10-01 00:00:01 UTC       view    17200506  2053013559792632471   \n",
              "3  2019-10-01 00:00:01 UTC       view     1307067  2053013558920217191   \n",
              "4  2019-10-01 00:00:04 UTC       view     1004237  2053013555631882655   \n",
              "\n",
              "                         category_code     brand    price    user_id  \\\n",
              "0                                  NaN  shiseido    35.79  541312140   \n",
              "1  appliances.environment.water_heater      aqua    33.20  554748717   \n",
              "2           furniture.living_room.sofa       NaN   543.10  519107250   \n",
              "3                   computers.notebook    lenovo   251.74  550050854   \n",
              "4               electronics.smartphone     apple  1081.98  535871217   \n",
              "\n",
              "                           user_session  \n",
              "0  72d76fde-8bb3-4e00-8c23-a032dfed738c  \n",
              "1  9333dfbd-b87a-4708-9857-6336556b0fcc  \n",
              "2  566511c2-e2e3-422b-b695-cf8e6e792ca8  \n",
              "3  7c90fc70-0e80-4590-96f3-13c02c18c713  \n",
              "4  c6bd7419-2748-4c56-95b4-8cec9ff8b80d  "
            ],
            "text/html": [
              "\n",
              "  <div id=\"df-86b6562d-3e4b-4231-85d3-9b43ec2331cf\" class=\"colab-df-container\">\n",
              "    <div>\n",
              "<style scoped>\n",
              "    .dataframe tbody tr th:only-of-type {\n",
              "        vertical-align: middle;\n",
              "    }\n",
              "\n",
              "    .dataframe tbody tr th {\n",
              "        vertical-align: top;\n",
              "    }\n",
              "\n",
              "    .dataframe thead th {\n",
              "        text-align: right;\n",
              "    }\n",
              "</style>\n",
              "<table border=\"1\" class=\"dataframe\">\n",
              "  <thead>\n",
              "    <tr style=\"text-align: right;\">\n",
              "      <th></th>\n",
              "      <th>event_time</th>\n",
              "      <th>event_type</th>\n",
              "      <th>product_id</th>\n",
              "      <th>category_id</th>\n",
              "      <th>category_code</th>\n",
              "      <th>brand</th>\n",
              "      <th>price</th>\n",
              "      <th>user_id</th>\n",
              "      <th>user_session</th>\n",
              "    </tr>\n",
              "  </thead>\n",
              "  <tbody>\n",
              "    <tr>\n",
              "      <th>0</th>\n",
              "      <td>2019-10-01 00:00:00 UTC</td>\n",
              "      <td>view</td>\n",
              "      <td>44600062</td>\n",
              "      <td>2103807459595387724</td>\n",
              "      <td>NaN</td>\n",
              "      <td>shiseido</td>\n",
              "      <td>35.79</td>\n",
              "      <td>541312140</td>\n",
              "      <td>72d76fde-8bb3-4e00-8c23-a032dfed738c</td>\n",
              "    </tr>\n",
              "    <tr>\n",
              "      <th>1</th>\n",
              "      <td>2019-10-01 00:00:00 UTC</td>\n",
              "      <td>view</td>\n",
              "      <td>3900821</td>\n",
              "      <td>2053013552326770905</td>\n",
              "      <td>appliances.environment.water_heater</td>\n",
              "      <td>aqua</td>\n",
              "      <td>33.20</td>\n",
              "      <td>554748717</td>\n",
              "      <td>9333dfbd-b87a-4708-9857-6336556b0fcc</td>\n",
              "    </tr>\n",
              "    <tr>\n",
              "      <th>2</th>\n",
              "      <td>2019-10-01 00:00:01 UTC</td>\n",
              "      <td>view</td>\n",
              "      <td>17200506</td>\n",
              "      <td>2053013559792632471</td>\n",
              "      <td>furniture.living_room.sofa</td>\n",
              "      <td>NaN</td>\n",
              "      <td>543.10</td>\n",
              "      <td>519107250</td>\n",
              "      <td>566511c2-e2e3-422b-b695-cf8e6e792ca8</td>\n",
              "    </tr>\n",
              "    <tr>\n",
              "      <th>3</th>\n",
              "      <td>2019-10-01 00:00:01 UTC</td>\n",
              "      <td>view</td>\n",
              "      <td>1307067</td>\n",
              "      <td>2053013558920217191</td>\n",
              "      <td>computers.notebook</td>\n",
              "      <td>lenovo</td>\n",
              "      <td>251.74</td>\n",
              "      <td>550050854</td>\n",
              "      <td>7c90fc70-0e80-4590-96f3-13c02c18c713</td>\n",
              "    </tr>\n",
              "    <tr>\n",
              "      <th>4</th>\n",
              "      <td>2019-10-01 00:00:04 UTC</td>\n",
              "      <td>view</td>\n",
              "      <td>1004237</td>\n",
              "      <td>2053013555631882655</td>\n",
              "      <td>electronics.smartphone</td>\n",
              "      <td>apple</td>\n",
              "      <td>1081.98</td>\n",
              "      <td>535871217</td>\n",
              "      <td>c6bd7419-2748-4c56-95b4-8cec9ff8b80d</td>\n",
              "    </tr>\n",
              "  </tbody>\n",
              "</table>\n",
              "</div>\n",
              "    <div class=\"colab-df-buttons\">\n",
              "\n",
              "  <div class=\"colab-df-container\">\n",
              "    <button class=\"colab-df-convert\" onclick=\"convertToInteractive('df-86b6562d-3e4b-4231-85d3-9b43ec2331cf')\"\n",
              "            title=\"Convert this dataframe to an interactive table.\"\n",
              "            style=\"display:none;\">\n",
              "\n",
              "  <svg xmlns=\"http://www.w3.org/2000/svg\" height=\"24px\" viewBox=\"0 -960 960 960\">\n",
              "    <path d=\"M120-120v-720h720v720H120Zm60-500h600v-160H180v160Zm220 220h160v-160H400v160Zm0 220h160v-160H400v160ZM180-400h160v-160H180v160Zm440 0h160v-160H620v160ZM180-180h160v-160H180v160Zm440 0h160v-160H620v160Z\"/>\n",
              "  </svg>\n",
              "    </button>\n",
              "\n",
              "  <style>\n",
              "    .colab-df-container {\n",
              "      display:flex;\n",
              "      gap: 12px;\n",
              "    }\n",
              "\n",
              "    .colab-df-convert {\n",
              "      background-color: #E8F0FE;\n",
              "      border: none;\n",
              "      border-radius: 50%;\n",
              "      cursor: pointer;\n",
              "      display: none;\n",
              "      fill: #1967D2;\n",
              "      height: 32px;\n",
              "      padding: 0 0 0 0;\n",
              "      width: 32px;\n",
              "    }\n",
              "\n",
              "    .colab-df-convert:hover {\n",
              "      background-color: #E2EBFA;\n",
              "      box-shadow: 0px 1px 2px rgba(60, 64, 67, 0.3), 0px 1px 3px 1px rgba(60, 64, 67, 0.15);\n",
              "      fill: #174EA6;\n",
              "    }\n",
              "\n",
              "    .colab-df-buttons div {\n",
              "      margin-bottom: 4px;\n",
              "    }\n",
              "\n",
              "    [theme=dark] .colab-df-convert {\n",
              "      background-color: #3B4455;\n",
              "      fill: #D2E3FC;\n",
              "    }\n",
              "\n",
              "    [theme=dark] .colab-df-convert:hover {\n",
              "      background-color: #434B5C;\n",
              "      box-shadow: 0px 1px 3px 1px rgba(0, 0, 0, 0.15);\n",
              "      filter: drop-shadow(0px 1px 2px rgba(0, 0, 0, 0.3));\n",
              "      fill: #FFFFFF;\n",
              "    }\n",
              "  </style>\n",
              "\n",
              "    <script>\n",
              "      const buttonEl =\n",
              "        document.querySelector('#df-86b6562d-3e4b-4231-85d3-9b43ec2331cf button.colab-df-convert');\n",
              "      buttonEl.style.display =\n",
              "        google.colab.kernel.accessAllowed ? 'block' : 'none';\n",
              "\n",
              "      async function convertToInteractive(key) {\n",
              "        const element = document.querySelector('#df-86b6562d-3e4b-4231-85d3-9b43ec2331cf');\n",
              "        const dataTable =\n",
              "          await google.colab.kernel.invokeFunction('convertToInteractive',\n",
              "                                                    [key], {});\n",
              "        if (!dataTable) return;\n",
              "\n",
              "        const docLinkHtml = 'Like what you see? Visit the ' +\n",
              "          '<a target=\"_blank\" href=https://colab.research.google.com/notebooks/data_table.ipynb>data table notebook</a>'\n",
              "          + ' to learn more about interactive tables.';\n",
              "        element.innerHTML = '';\n",
              "        dataTable['output_type'] = 'display_data';\n",
              "        await google.colab.output.renderOutput(dataTable, element);\n",
              "        const docLink = document.createElement('div');\n",
              "        docLink.innerHTML = docLinkHtml;\n",
              "        element.appendChild(docLink);\n",
              "      }\n",
              "    </script>\n",
              "  </div>\n",
              "\n",
              "\n",
              "<div id=\"df-cc18ed81-8dc7-41a5-be36-b50d2aed0de1\">\n",
              "  <button class=\"colab-df-quickchart\" onclick=\"quickchart('df-cc18ed81-8dc7-41a5-be36-b50d2aed0de1')\"\n",
              "            title=\"Suggest charts\"\n",
              "            style=\"display:none;\">\n",
              "\n",
              "<svg xmlns=\"http://www.w3.org/2000/svg\" height=\"24px\"viewBox=\"0 0 24 24\"\n",
              "     width=\"24px\">\n",
              "    <g>\n",
              "        <path d=\"M19 3H5c-1.1 0-2 .9-2 2v14c0 1.1.9 2 2 2h14c1.1 0 2-.9 2-2V5c0-1.1-.9-2-2-2zM9 17H7v-7h2v7zm4 0h-2V7h2v10zm4 0h-2v-4h2v4z\"/>\n",
              "    </g>\n",
              "</svg>\n",
              "  </button>\n",
              "\n",
              "<style>\n",
              "  .colab-df-quickchart {\n",
              "      --bg-color: #E8F0FE;\n",
              "      --fill-color: #1967D2;\n",
              "      --hover-bg-color: #E2EBFA;\n",
              "      --hover-fill-color: #174EA6;\n",
              "      --disabled-fill-color: #AAA;\n",
              "      --disabled-bg-color: #DDD;\n",
              "  }\n",
              "\n",
              "  [theme=dark] .colab-df-quickchart {\n",
              "      --bg-color: #3B4455;\n",
              "      --fill-color: #D2E3FC;\n",
              "      --hover-bg-color: #434B5C;\n",
              "      --hover-fill-color: #FFFFFF;\n",
              "      --disabled-bg-color: #3B4455;\n",
              "      --disabled-fill-color: #666;\n",
              "  }\n",
              "\n",
              "  .colab-df-quickchart {\n",
              "    background-color: var(--bg-color);\n",
              "    border: none;\n",
              "    border-radius: 50%;\n",
              "    cursor: pointer;\n",
              "    display: none;\n",
              "    fill: var(--fill-color);\n",
              "    height: 32px;\n",
              "    padding: 0;\n",
              "    width: 32px;\n",
              "  }\n",
              "\n",
              "  .colab-df-quickchart:hover {\n",
              "    background-color: var(--hover-bg-color);\n",
              "    box-shadow: 0 1px 2px rgba(60, 64, 67, 0.3), 0 1px 3px 1px rgba(60, 64, 67, 0.15);\n",
              "    fill: var(--button-hover-fill-color);\n",
              "  }\n",
              "\n",
              "  .colab-df-quickchart-complete:disabled,\n",
              "  .colab-df-quickchart-complete:disabled:hover {\n",
              "    background-color: var(--disabled-bg-color);\n",
              "    fill: var(--disabled-fill-color);\n",
              "    box-shadow: none;\n",
              "  }\n",
              "\n",
              "  .colab-df-spinner {\n",
              "    border: 2px solid var(--fill-color);\n",
              "    border-color: transparent;\n",
              "    border-bottom-color: var(--fill-color);\n",
              "    animation:\n",
              "      spin 1s steps(1) infinite;\n",
              "  }\n",
              "\n",
              "  @keyframes spin {\n",
              "    0% {\n",
              "      border-color: transparent;\n",
              "      border-bottom-color: var(--fill-color);\n",
              "      border-left-color: var(--fill-color);\n",
              "    }\n",
              "    20% {\n",
              "      border-color: transparent;\n",
              "      border-left-color: var(--fill-color);\n",
              "      border-top-color: var(--fill-color);\n",
              "    }\n",
              "    30% {\n",
              "      border-color: transparent;\n",
              "      border-left-color: var(--fill-color);\n",
              "      border-top-color: var(--fill-color);\n",
              "      border-right-color: var(--fill-color);\n",
              "    }\n",
              "    40% {\n",
              "      border-color: transparent;\n",
              "      border-right-color: var(--fill-color);\n",
              "      border-top-color: var(--fill-color);\n",
              "    }\n",
              "    60% {\n",
              "      border-color: transparent;\n",
              "      border-right-color: var(--fill-color);\n",
              "    }\n",
              "    80% {\n",
              "      border-color: transparent;\n",
              "      border-right-color: var(--fill-color);\n",
              "      border-bottom-color: var(--fill-color);\n",
              "    }\n",
              "    90% {\n",
              "      border-color: transparent;\n",
              "      border-bottom-color: var(--fill-color);\n",
              "    }\n",
              "  }\n",
              "</style>\n",
              "\n",
              "  <script>\n",
              "    async function quickchart(key) {\n",
              "      const quickchartButtonEl =\n",
              "        document.querySelector('#' + key + ' button');\n",
              "      quickchartButtonEl.disabled = true;  // To prevent multiple clicks.\n",
              "      quickchartButtonEl.classList.add('colab-df-spinner');\n",
              "      try {\n",
              "        const charts = await google.colab.kernel.invokeFunction(\n",
              "            'suggestCharts', [key], {});\n",
              "      } catch (error) {\n",
              "        console.error('Error during call to suggestCharts:', error);\n",
              "      }\n",
              "      quickchartButtonEl.classList.remove('colab-df-spinner');\n",
              "      quickchartButtonEl.classList.add('colab-df-quickchart-complete');\n",
              "    }\n",
              "    (() => {\n",
              "      let quickchartButtonEl =\n",
              "        document.querySelector('#df-cc18ed81-8dc7-41a5-be36-b50d2aed0de1 button');\n",
              "      quickchartButtonEl.style.display =\n",
              "        google.colab.kernel.accessAllowed ? 'block' : 'none';\n",
              "    })();\n",
              "  </script>\n",
              "</div>\n",
              "    </div>\n",
              "  </div>\n"
            ]
          },
          "metadata": {},
          "execution_count": 13
        }
      ]
    },
    {
      "cell_type": "code",
      "source": [
        "#validate the header of the file\n",
        "util.col_header_val(df,config_data)"
      ],
      "metadata": {
        "colab": {
          "base_uri": "https://localhost:8080/"
        },
        "id": "03a5ov-AsOCt",
        "outputId": "379f6286-c18f-400b-abda-78bd74085f26"
      },
      "execution_count": 14,
      "outputs": [
        {
          "output_type": "stream",
          "name": "stdout",
          "text": [
            "column name and column length validation failed\n",
            "Following File columns are not in the YAML file ['category_id', 'user_id', 'event_type', 'product_id', 'category_code', 'user_session', 'event_time']\n",
            "Following YAML columns are not in the file uploaded ['userid', 'productid', 'categoryid', 'usersession', 'categorycode', 'eventtype', 'eventtime']\n"
          ]
        },
        {
          "output_type": "execute_result",
          "data": {
            "text/plain": [
              "0"
            ]
          },
          "metadata": {},
          "execution_count": 14
        }
      ]
    },
    {
      "cell_type": "code",
      "source": [
        "print(\"columns of files are:\" ,df.columns)\n",
        "print(\"columns of YAML are:\" ,config_data['columns'])"
      ],
      "metadata": {
        "colab": {
          "base_uri": "https://localhost:8080/"
        },
        "id": "-tKW3BxmsdVZ",
        "outputId": "9a28f6e7-dd81-4185-bdc5-54f292e0380b"
      },
      "execution_count": 15,
      "outputs": [
        {
          "output_type": "stream",
          "name": "stdout",
          "text": [
            "columns of files are: Index(['event_time', 'event_type', 'product_id', 'category_id',\n",
            "       'category_code', 'brand', 'price', 'user_id', 'user_session'],\n",
            "      dtype='object')\n",
            "columns of YAML are: ['eventtime', 'eventtype', 'productid', 'categoryid', 'categorycode', 'brand', 'price', 'userid', 'usersession']\n"
          ]
        }
      ]
    },
    {
      "cell_type": "code",
      "source": [
        "# Post validation logic\n",
        "if util.col_header_val(df,config_data)==0:\n",
        "    print(\"validation failed\")\n",
        "else:\n",
        "    print(\"col validation passed\")"
      ],
      "metadata": {
        "colab": {
          "base_uri": "https://localhost:8080/"
        },
        "id": "wbCf0Xcwss0V",
        "outputId": "5f74dbd7-44a3-4660-8ff4-7cdca9d915ea"
      },
      "execution_count": 16,
      "outputs": [
        {
          "output_type": "stream",
          "name": "stdout",
          "text": [
            "column name and column length validation failed\n",
            "Following File columns are not in the YAML file ['category_id', 'user_id', 'event_type', 'product_id', 'category_code', 'user_session', 'event_time']\n",
            "Following YAML columns are not in the file uploaded ['userid', 'productid', 'categoryid', 'usersession', 'categorycode', 'eventtype', 'eventtime']\n",
            "validation failed\n"
          ]
        }
      ]
    },
    {
      "cell_type": "markdown",
      "source": [
        "# Write File in gz format"
      ],
      "metadata": {
        "id": "VakaVtsBtClt"
      }
    },
    {
      "cell_type": "code",
      "source": [
        "import csv\n",
        "import gzip"
      ],
      "metadata": {
        "id": "bJjczHuYtHJ-"
      },
      "execution_count": 2,
      "outputs": []
    },
    {
      "cell_type": "code",
      "source": [
        "df = dd.read_csv('/content/drive/My Drive/2019-Oct.csv')"
      ],
      "metadata": {
        "id": "rsLsVE8Ouco0"
      },
      "execution_count": 5,
      "outputs": []
    },
    {
      "cell_type": "code",
      "source": [
        "# Write csv in gz format in pipe separated text file (|)\n",
        "df.to_csv('2019-Oct.csv.gz', sep='|', header=True, index=False, compression='gzip')\n"
      ],
      "metadata": {
        "colab": {
          "base_uri": "https://localhost:8080/"
        },
        "id": "P44ANRK4u0yB",
        "outputId": "817e2bcd-4955-4cf8-c9c4-9101871d826f"
      },
      "execution_count": 19,
      "outputs": [
        {
          "output_type": "stream",
          "name": "stderr",
          "text": [
            "/usr/local/lib/python3.10/dist-packages/dask/dataframe/io/csv.py:793: FutureWarning: the 'line_terminator'' keyword is deprecated, use 'lineterminator' instead.\n",
            "  df.to_csv(f, **kwargs)\n",
            "/usr/local/lib/python3.10/dist-packages/dask/dataframe/io/csv.py:793: FutureWarning: the 'line_terminator'' keyword is deprecated, use 'lineterminator' instead.\n",
            "  df.to_csv(f, **kwargs)\n",
            "/usr/local/lib/python3.10/dist-packages/dask/dataframe/io/csv.py:793: FutureWarning: the 'line_terminator'' keyword is deprecated, use 'lineterminator' instead.\n",
            "  df.to_csv(f, **kwargs)\n",
            "/usr/local/lib/python3.10/dist-packages/dask/dataframe/io/csv.py:793: FutureWarning: the 'line_terminator'' keyword is deprecated, use 'lineterminator' instead.\n",
            "  df.to_csv(f, **kwargs)\n",
            "/usr/local/lib/python3.10/dist-packages/dask/dataframe/io/csv.py:793: FutureWarning: the 'line_terminator'' keyword is deprecated, use 'lineterminator' instead.\n",
            "  df.to_csv(f, **kwargs)\n",
            "/usr/local/lib/python3.10/dist-packages/dask/dataframe/io/csv.py:793: FutureWarning: the 'line_terminator'' keyword is deprecated, use 'lineterminator' instead.\n",
            "  df.to_csv(f, **kwargs)\n",
            "/usr/local/lib/python3.10/dist-packages/dask/dataframe/io/csv.py:793: FutureWarning: the 'line_terminator'' keyword is deprecated, use 'lineterminator' instead.\n",
            "  df.to_csv(f, **kwargs)\n",
            "/usr/local/lib/python3.10/dist-packages/dask/dataframe/io/csv.py:793: FutureWarning: the 'line_terminator'' keyword is deprecated, use 'lineterminator' instead.\n",
            "  df.to_csv(f, **kwargs)\n",
            "/usr/local/lib/python3.10/dist-packages/dask/dataframe/io/csv.py:793: FutureWarning: the 'line_terminator'' keyword is deprecated, use 'lineterminator' instead.\n",
            "  df.to_csv(f, **kwargs)\n",
            "/usr/local/lib/python3.10/dist-packages/dask/dataframe/io/csv.py:793: FutureWarning: the 'line_terminator'' keyword is deprecated, use 'lineterminator' instead.\n",
            "  df.to_csv(f, **kwargs)\n",
            "/usr/local/lib/python3.10/dist-packages/dask/dataframe/io/csv.py:793: FutureWarning: the 'line_terminator'' keyword is deprecated, use 'lineterminator' instead.\n",
            "  df.to_csv(f, **kwargs)\n",
            "/usr/local/lib/python3.10/dist-packages/dask/dataframe/io/csv.py:793: FutureWarning: the 'line_terminator'' keyword is deprecated, use 'lineterminator' instead.\n",
            "  df.to_csv(f, **kwargs)\n",
            "/usr/local/lib/python3.10/dist-packages/dask/dataframe/io/csv.py:793: FutureWarning: the 'line_terminator'' keyword is deprecated, use 'lineterminator' instead.\n",
            "  df.to_csv(f, **kwargs)\n",
            "/usr/local/lib/python3.10/dist-packages/dask/dataframe/io/csv.py:793: FutureWarning: the 'line_terminator'' keyword is deprecated, use 'lineterminator' instead.\n",
            "  df.to_csv(f, **kwargs)\n",
            "/usr/local/lib/python3.10/dist-packages/dask/dataframe/io/csv.py:793: FutureWarning: the 'line_terminator'' keyword is deprecated, use 'lineterminator' instead.\n",
            "  df.to_csv(f, **kwargs)\n",
            "/usr/local/lib/python3.10/dist-packages/dask/dataframe/io/csv.py:793: FutureWarning: the 'line_terminator'' keyword is deprecated, use 'lineterminator' instead.\n",
            "  df.to_csv(f, **kwargs)\n",
            "/usr/local/lib/python3.10/dist-packages/dask/dataframe/io/csv.py:793: FutureWarning: the 'line_terminator'' keyword is deprecated, use 'lineterminator' instead.\n",
            "  df.to_csv(f, **kwargs)\n",
            "/usr/local/lib/python3.10/dist-packages/dask/dataframe/io/csv.py:793: FutureWarning: the 'line_terminator'' keyword is deprecated, use 'lineterminator' instead.\n",
            "  df.to_csv(f, **kwargs)\n",
            "/usr/local/lib/python3.10/dist-packages/dask/dataframe/io/csv.py:793: FutureWarning: the 'line_terminator'' keyword is deprecated, use 'lineterminator' instead.\n",
            "  df.to_csv(f, **kwargs)\n",
            "/usr/local/lib/python3.10/dist-packages/dask/dataframe/io/csv.py:793: FutureWarning: the 'line_terminator'' keyword is deprecated, use 'lineterminator' instead.\n",
            "  df.to_csv(f, **kwargs)\n",
            "/usr/local/lib/python3.10/dist-packages/dask/dataframe/io/csv.py:793: FutureWarning: the 'line_terminator'' keyword is deprecated, use 'lineterminator' instead.\n",
            "  df.to_csv(f, **kwargs)\n",
            "/usr/local/lib/python3.10/dist-packages/dask/dataframe/io/csv.py:793: FutureWarning: the 'line_terminator'' keyword is deprecated, use 'lineterminator' instead.\n",
            "  df.to_csv(f, **kwargs)\n",
            "/usr/local/lib/python3.10/dist-packages/dask/dataframe/io/csv.py:793: FutureWarning: the 'line_terminator'' keyword is deprecated, use 'lineterminator' instead.\n",
            "  df.to_csv(f, **kwargs)\n",
            "/usr/local/lib/python3.10/dist-packages/dask/dataframe/io/csv.py:793: FutureWarning: the 'line_terminator'' keyword is deprecated, use 'lineterminator' instead.\n",
            "  df.to_csv(f, **kwargs)\n",
            "/usr/local/lib/python3.10/dist-packages/dask/dataframe/io/csv.py:793: FutureWarning: the 'line_terminator'' keyword is deprecated, use 'lineterminator' instead.\n",
            "  df.to_csv(f, **kwargs)\n",
            "/usr/local/lib/python3.10/dist-packages/dask/dataframe/io/csv.py:793: FutureWarning: the 'line_terminator'' keyword is deprecated, use 'lineterminator' instead.\n",
            "  df.to_csv(f, **kwargs)\n",
            "/usr/local/lib/python3.10/dist-packages/dask/dataframe/io/csv.py:793: FutureWarning: the 'line_terminator'' keyword is deprecated, use 'lineterminator' instead.\n",
            "  df.to_csv(f, **kwargs)\n",
            "/usr/local/lib/python3.10/dist-packages/dask/dataframe/io/csv.py:793: FutureWarning: the 'line_terminator'' keyword is deprecated, use 'lineterminator' instead.\n",
            "  df.to_csv(f, **kwargs)\n",
            "/usr/local/lib/python3.10/dist-packages/dask/dataframe/io/csv.py:793: FutureWarning: the 'line_terminator'' keyword is deprecated, use 'lineterminator' instead.\n",
            "  df.to_csv(f, **kwargs)\n",
            "/usr/local/lib/python3.10/dist-packages/dask/dataframe/io/csv.py:793: FutureWarning: the 'line_terminator'' keyword is deprecated, use 'lineterminator' instead.\n",
            "  df.to_csv(f, **kwargs)\n",
            "/usr/local/lib/python3.10/dist-packages/dask/dataframe/io/csv.py:793: FutureWarning: the 'line_terminator'' keyword is deprecated, use 'lineterminator' instead.\n",
            "  df.to_csv(f, **kwargs)\n",
            "/usr/local/lib/python3.10/dist-packages/dask/dataframe/io/csv.py:793: FutureWarning: the 'line_terminator'' keyword is deprecated, use 'lineterminator' instead.\n",
            "  df.to_csv(f, **kwargs)\n",
            "/usr/local/lib/python3.10/dist-packages/dask/dataframe/io/csv.py:793: FutureWarning: the 'line_terminator'' keyword is deprecated, use 'lineterminator' instead.\n",
            "  df.to_csv(f, **kwargs)\n",
            "/usr/local/lib/python3.10/dist-packages/dask/dataframe/io/csv.py:793: FutureWarning: the 'line_terminator'' keyword is deprecated, use 'lineterminator' instead.\n",
            "  df.to_csv(f, **kwargs)\n",
            "/usr/local/lib/python3.10/dist-packages/dask/dataframe/io/csv.py:793: FutureWarning: the 'line_terminator'' keyword is deprecated, use 'lineterminator' instead.\n",
            "  df.to_csv(f, **kwargs)\n",
            "/usr/local/lib/python3.10/dist-packages/dask/dataframe/io/csv.py:793: FutureWarning: the 'line_terminator'' keyword is deprecated, use 'lineterminator' instead.\n",
            "  df.to_csv(f, **kwargs)\n",
            "/usr/local/lib/python3.10/dist-packages/dask/dataframe/io/csv.py:793: FutureWarning: the 'line_terminator'' keyword is deprecated, use 'lineterminator' instead.\n",
            "  df.to_csv(f, **kwargs)\n",
            "/usr/local/lib/python3.10/dist-packages/dask/dataframe/io/csv.py:793: FutureWarning: the 'line_terminator'' keyword is deprecated, use 'lineterminator' instead.\n",
            "  df.to_csv(f, **kwargs)\n",
            "/usr/local/lib/python3.10/dist-packages/dask/dataframe/io/csv.py:793: FutureWarning: the 'line_terminator'' keyword is deprecated, use 'lineterminator' instead.\n",
            "  df.to_csv(f, **kwargs)\n",
            "/usr/local/lib/python3.10/dist-packages/dask/dataframe/io/csv.py:793: FutureWarning: the 'line_terminator'' keyword is deprecated, use 'lineterminator' instead.\n",
            "  df.to_csv(f, **kwargs)\n",
            "/usr/local/lib/python3.10/dist-packages/dask/dataframe/io/csv.py:793: FutureWarning: the 'line_terminator'' keyword is deprecated, use 'lineterminator' instead.\n",
            "  df.to_csv(f, **kwargs)\n",
            "/usr/local/lib/python3.10/dist-packages/dask/dataframe/io/csv.py:793: FutureWarning: the 'line_terminator'' keyword is deprecated, use 'lineterminator' instead.\n",
            "  df.to_csv(f, **kwargs)\n",
            "/usr/local/lib/python3.10/dist-packages/dask/dataframe/io/csv.py:793: FutureWarning: the 'line_terminator'' keyword is deprecated, use 'lineterminator' instead.\n",
            "  df.to_csv(f, **kwargs)\n",
            "/usr/local/lib/python3.10/dist-packages/dask/dataframe/io/csv.py:793: FutureWarning: the 'line_terminator'' keyword is deprecated, use 'lineterminator' instead.\n",
            "  df.to_csv(f, **kwargs)\n",
            "/usr/local/lib/python3.10/dist-packages/dask/dataframe/io/csv.py:793: FutureWarning: the 'line_terminator'' keyword is deprecated, use 'lineterminator' instead.\n",
            "  df.to_csv(f, **kwargs)\n",
            "/usr/local/lib/python3.10/dist-packages/dask/dataframe/io/csv.py:793: FutureWarning: the 'line_terminator'' keyword is deprecated, use 'lineterminator' instead.\n",
            "  df.to_csv(f, **kwargs)\n",
            "/usr/local/lib/python3.10/dist-packages/dask/dataframe/io/csv.py:793: FutureWarning: the 'line_terminator'' keyword is deprecated, use 'lineterminator' instead.\n",
            "  df.to_csv(f, **kwargs)\n",
            "/usr/local/lib/python3.10/dist-packages/dask/dataframe/io/csv.py:793: FutureWarning: the 'line_terminator'' keyword is deprecated, use 'lineterminator' instead.\n",
            "  df.to_csv(f, **kwargs)\n",
            "/usr/local/lib/python3.10/dist-packages/dask/dataframe/io/csv.py:793: FutureWarning: the 'line_terminator'' keyword is deprecated, use 'lineterminator' instead.\n",
            "  df.to_csv(f, **kwargs)\n",
            "/usr/local/lib/python3.10/dist-packages/dask/dataframe/io/csv.py:793: FutureWarning: the 'line_terminator'' keyword is deprecated, use 'lineterminator' instead.\n",
            "  df.to_csv(f, **kwargs)\n",
            "/usr/local/lib/python3.10/dist-packages/dask/dataframe/io/csv.py:793: FutureWarning: the 'line_terminator'' keyword is deprecated, use 'lineterminator' instead.\n",
            "  df.to_csv(f, **kwargs)\n",
            "/usr/local/lib/python3.10/dist-packages/dask/dataframe/io/csv.py:793: FutureWarning: the 'line_terminator'' keyword is deprecated, use 'lineterminator' instead.\n",
            "  df.to_csv(f, **kwargs)\n",
            "/usr/local/lib/python3.10/dist-packages/dask/dataframe/io/csv.py:793: FutureWarning: the 'line_terminator'' keyword is deprecated, use 'lineterminator' instead.\n",
            "  df.to_csv(f, **kwargs)\n",
            "/usr/local/lib/python3.10/dist-packages/dask/dataframe/io/csv.py:793: FutureWarning: the 'line_terminator'' keyword is deprecated, use 'lineterminator' instead.\n",
            "  df.to_csv(f, **kwargs)\n",
            "/usr/local/lib/python3.10/dist-packages/dask/dataframe/io/csv.py:793: FutureWarning: the 'line_terminator'' keyword is deprecated, use 'lineterminator' instead.\n",
            "  df.to_csv(f, **kwargs)\n",
            "/usr/local/lib/python3.10/dist-packages/dask/dataframe/io/csv.py:793: FutureWarning: the 'line_terminator'' keyword is deprecated, use 'lineterminator' instead.\n",
            "  df.to_csv(f, **kwargs)\n",
            "/usr/local/lib/python3.10/dist-packages/dask/dataframe/io/csv.py:793: FutureWarning: the 'line_terminator'' keyword is deprecated, use 'lineterminator' instead.\n",
            "  df.to_csv(f, **kwargs)\n",
            "/usr/local/lib/python3.10/dist-packages/dask/dataframe/io/csv.py:793: FutureWarning: the 'line_terminator'' keyword is deprecated, use 'lineterminator' instead.\n",
            "  df.to_csv(f, **kwargs)\n",
            "/usr/local/lib/python3.10/dist-packages/dask/dataframe/io/csv.py:793: FutureWarning: the 'line_terminator'' keyword is deprecated, use 'lineterminator' instead.\n",
            "  df.to_csv(f, **kwargs)\n",
            "/usr/local/lib/python3.10/dist-packages/dask/dataframe/io/csv.py:793: FutureWarning: the 'line_terminator'' keyword is deprecated, use 'lineterminator' instead.\n",
            "  df.to_csv(f, **kwargs)\n",
            "/usr/local/lib/python3.10/dist-packages/dask/dataframe/io/csv.py:793: FutureWarning: the 'line_terminator'' keyword is deprecated, use 'lineterminator' instead.\n",
            "  df.to_csv(f, **kwargs)\n",
            "/usr/local/lib/python3.10/dist-packages/dask/dataframe/io/csv.py:793: FutureWarning: the 'line_terminator'' keyword is deprecated, use 'lineterminator' instead.\n",
            "  df.to_csv(f, **kwargs)\n",
            "/usr/local/lib/python3.10/dist-packages/dask/dataframe/io/csv.py:793: FutureWarning: the 'line_terminator'' keyword is deprecated, use 'lineterminator' instead.\n",
            "  df.to_csv(f, **kwargs)\n",
            "/usr/local/lib/python3.10/dist-packages/dask/dataframe/io/csv.py:793: FutureWarning: the 'line_terminator'' keyword is deprecated, use 'lineterminator' instead.\n",
            "  df.to_csv(f, **kwargs)\n",
            "/usr/local/lib/python3.10/dist-packages/dask/dataframe/io/csv.py:793: FutureWarning: the 'line_terminator'' keyword is deprecated, use 'lineterminator' instead.\n",
            "  df.to_csv(f, **kwargs)\n",
            "/usr/local/lib/python3.10/dist-packages/dask/dataframe/io/csv.py:793: FutureWarning: the 'line_terminator'' keyword is deprecated, use 'lineterminator' instead.\n",
            "  df.to_csv(f, **kwargs)\n",
            "/usr/local/lib/python3.10/dist-packages/dask/dataframe/io/csv.py:793: FutureWarning: the 'line_terminator'' keyword is deprecated, use 'lineterminator' instead.\n",
            "  df.to_csv(f, **kwargs)\n",
            "/usr/local/lib/python3.10/dist-packages/dask/dataframe/io/csv.py:793: FutureWarning: the 'line_terminator'' keyword is deprecated, use 'lineterminator' instead.\n",
            "  df.to_csv(f, **kwargs)\n",
            "/usr/local/lib/python3.10/dist-packages/dask/dataframe/io/csv.py:793: FutureWarning: the 'line_terminator'' keyword is deprecated, use 'lineterminator' instead.\n",
            "  df.to_csv(f, **kwargs)\n",
            "/usr/local/lib/python3.10/dist-packages/dask/dataframe/io/csv.py:793: FutureWarning: the 'line_terminator'' keyword is deprecated, use 'lineterminator' instead.\n",
            "  df.to_csv(f, **kwargs)\n",
            "/usr/local/lib/python3.10/dist-packages/dask/dataframe/io/csv.py:793: FutureWarning: the 'line_terminator'' keyword is deprecated, use 'lineterminator' instead.\n",
            "  df.to_csv(f, **kwargs)\n",
            "/usr/local/lib/python3.10/dist-packages/dask/dataframe/io/csv.py:793: FutureWarning: the 'line_terminator'' keyword is deprecated, use 'lineterminator' instead.\n",
            "  df.to_csv(f, **kwargs)\n",
            "/usr/local/lib/python3.10/dist-packages/dask/dataframe/io/csv.py:793: FutureWarning: the 'line_terminator'' keyword is deprecated, use 'lineterminator' instead.\n",
            "  df.to_csv(f, **kwargs)\n",
            "/usr/local/lib/python3.10/dist-packages/dask/dataframe/io/csv.py:793: FutureWarning: the 'line_terminator'' keyword is deprecated, use 'lineterminator' instead.\n",
            "  df.to_csv(f, **kwargs)\n",
            "/usr/local/lib/python3.10/dist-packages/dask/dataframe/io/csv.py:793: FutureWarning: the 'line_terminator'' keyword is deprecated, use 'lineterminator' instead.\n",
            "  df.to_csv(f, **kwargs)\n",
            "/usr/local/lib/python3.10/dist-packages/dask/dataframe/io/csv.py:793: FutureWarning: the 'line_terminator'' keyword is deprecated, use 'lineterminator' instead.\n",
            "  df.to_csv(f, **kwargs)\n",
            "/usr/local/lib/python3.10/dist-packages/dask/dataframe/io/csv.py:793: FutureWarning: the 'line_terminator'' keyword is deprecated, use 'lineterminator' instead.\n",
            "  df.to_csv(f, **kwargs)\n",
            "/usr/local/lib/python3.10/dist-packages/dask/dataframe/io/csv.py:793: FutureWarning: the 'line_terminator'' keyword is deprecated, use 'lineterminator' instead.\n",
            "  df.to_csv(f, **kwargs)\n",
            "/usr/local/lib/python3.10/dist-packages/dask/dataframe/io/csv.py:793: FutureWarning: the 'line_terminator'' keyword is deprecated, use 'lineterminator' instead.\n",
            "  df.to_csv(f, **kwargs)\n",
            "/usr/local/lib/python3.10/dist-packages/dask/dataframe/io/csv.py:793: FutureWarning: the 'line_terminator'' keyword is deprecated, use 'lineterminator' instead.\n",
            "  df.to_csv(f, **kwargs)\n",
            "/usr/local/lib/python3.10/dist-packages/dask/dataframe/io/csv.py:793: FutureWarning: the 'line_terminator'' keyword is deprecated, use 'lineterminator' instead.\n",
            "  df.to_csv(f, **kwargs)\n",
            "/usr/local/lib/python3.10/dist-packages/dask/dataframe/io/csv.py:793: FutureWarning: the 'line_terminator'' keyword is deprecated, use 'lineterminator' instead.\n",
            "  df.to_csv(f, **kwargs)\n",
            "/usr/local/lib/python3.10/dist-packages/dask/dataframe/io/csv.py:793: FutureWarning: the 'line_terminator'' keyword is deprecated, use 'lineterminator' instead.\n",
            "  df.to_csv(f, **kwargs)\n"
          ]
        },
        {
          "output_type": "execute_result",
          "data": {
            "text/plain": [
              "['/content/2019-Oct.csv.gz/00.part',\n",
              " '/content/2019-Oct.csv.gz/01.part',\n",
              " '/content/2019-Oct.csv.gz/02.part',\n",
              " '/content/2019-Oct.csv.gz/03.part',\n",
              " '/content/2019-Oct.csv.gz/04.part',\n",
              " '/content/2019-Oct.csv.gz/05.part',\n",
              " '/content/2019-Oct.csv.gz/06.part',\n",
              " '/content/2019-Oct.csv.gz/07.part',\n",
              " '/content/2019-Oct.csv.gz/08.part',\n",
              " '/content/2019-Oct.csv.gz/09.part',\n",
              " '/content/2019-Oct.csv.gz/10.part',\n",
              " '/content/2019-Oct.csv.gz/11.part',\n",
              " '/content/2019-Oct.csv.gz/12.part',\n",
              " '/content/2019-Oct.csv.gz/13.part',\n",
              " '/content/2019-Oct.csv.gz/14.part',\n",
              " '/content/2019-Oct.csv.gz/15.part',\n",
              " '/content/2019-Oct.csv.gz/16.part',\n",
              " '/content/2019-Oct.csv.gz/17.part',\n",
              " '/content/2019-Oct.csv.gz/18.part',\n",
              " '/content/2019-Oct.csv.gz/19.part',\n",
              " '/content/2019-Oct.csv.gz/20.part',\n",
              " '/content/2019-Oct.csv.gz/21.part',\n",
              " '/content/2019-Oct.csv.gz/22.part',\n",
              " '/content/2019-Oct.csv.gz/23.part',\n",
              " '/content/2019-Oct.csv.gz/24.part',\n",
              " '/content/2019-Oct.csv.gz/25.part',\n",
              " '/content/2019-Oct.csv.gz/26.part',\n",
              " '/content/2019-Oct.csv.gz/27.part',\n",
              " '/content/2019-Oct.csv.gz/28.part',\n",
              " '/content/2019-Oct.csv.gz/29.part',\n",
              " '/content/2019-Oct.csv.gz/30.part',\n",
              " '/content/2019-Oct.csv.gz/31.part',\n",
              " '/content/2019-Oct.csv.gz/32.part',\n",
              " '/content/2019-Oct.csv.gz/33.part',\n",
              " '/content/2019-Oct.csv.gz/34.part',\n",
              " '/content/2019-Oct.csv.gz/35.part',\n",
              " '/content/2019-Oct.csv.gz/36.part',\n",
              " '/content/2019-Oct.csv.gz/37.part',\n",
              " '/content/2019-Oct.csv.gz/38.part',\n",
              " '/content/2019-Oct.csv.gz/39.part',\n",
              " '/content/2019-Oct.csv.gz/40.part',\n",
              " '/content/2019-Oct.csv.gz/41.part',\n",
              " '/content/2019-Oct.csv.gz/42.part',\n",
              " '/content/2019-Oct.csv.gz/43.part',\n",
              " '/content/2019-Oct.csv.gz/44.part',\n",
              " '/content/2019-Oct.csv.gz/45.part',\n",
              " '/content/2019-Oct.csv.gz/46.part',\n",
              " '/content/2019-Oct.csv.gz/47.part',\n",
              " '/content/2019-Oct.csv.gz/48.part',\n",
              " '/content/2019-Oct.csv.gz/49.part',\n",
              " '/content/2019-Oct.csv.gz/50.part',\n",
              " '/content/2019-Oct.csv.gz/51.part',\n",
              " '/content/2019-Oct.csv.gz/52.part',\n",
              " '/content/2019-Oct.csv.gz/53.part',\n",
              " '/content/2019-Oct.csv.gz/54.part',\n",
              " '/content/2019-Oct.csv.gz/55.part',\n",
              " '/content/2019-Oct.csv.gz/56.part',\n",
              " '/content/2019-Oct.csv.gz/57.part',\n",
              " '/content/2019-Oct.csv.gz/58.part',\n",
              " '/content/2019-Oct.csv.gz/59.part',\n",
              " '/content/2019-Oct.csv.gz/60.part',\n",
              " '/content/2019-Oct.csv.gz/61.part',\n",
              " '/content/2019-Oct.csv.gz/62.part',\n",
              " '/content/2019-Oct.csv.gz/63.part',\n",
              " '/content/2019-Oct.csv.gz/64.part',\n",
              " '/content/2019-Oct.csv.gz/65.part',\n",
              " '/content/2019-Oct.csv.gz/66.part',\n",
              " '/content/2019-Oct.csv.gz/67.part',\n",
              " '/content/2019-Oct.csv.gz/68.part',\n",
              " '/content/2019-Oct.csv.gz/69.part',\n",
              " '/content/2019-Oct.csv.gz/70.part',\n",
              " '/content/2019-Oct.csv.gz/71.part',\n",
              " '/content/2019-Oct.csv.gz/72.part',\n",
              " '/content/2019-Oct.csv.gz/73.part',\n",
              " '/content/2019-Oct.csv.gz/74.part',\n",
              " '/content/2019-Oct.csv.gz/75.part',\n",
              " '/content/2019-Oct.csv.gz/76.part',\n",
              " '/content/2019-Oct.csv.gz/77.part',\n",
              " '/content/2019-Oct.csv.gz/78.part',\n",
              " '/content/2019-Oct.csv.gz/79.part',\n",
              " '/content/2019-Oct.csv.gz/80.part',\n",
              " '/content/2019-Oct.csv.gz/81.part',\n",
              " '/content/2019-Oct.csv.gz/82.part',\n",
              " '/content/2019-Oct.csv.gz/83.part',\n",
              " '/content/2019-Oct.csv.gz/84.part',\n",
              " '/content/2019-Oct.csv.gz/85.part',\n",
              " '/content/2019-Oct.csv.gz/86.part',\n",
              " '/content/2019-Oct.csv.gz/87.part']"
            ]
          },
          "metadata": {},
          "execution_count": 19
        }
      ]
    },
    {
      "cell_type": "code",
      "source": [
        "# Display the summary of the Pipe seperated gz file\n",
        "import os\n",
        "import io\n",
        "size = os.path.getsize('2019-Oct.csv.gz')\n",
        "rows = len(df)\n",
        "columns = df.shape[1]\n",
        "print(f'The summary of the pipe seperated gz file is as below \\\n",
        "      \\n Size: {size} \\\n",
        "      \\n Number of Rows: {rows} \\\n",
        "      \\n Number of Columns: {columns}')"
      ],
      "metadata": {
        "colab": {
          "base_uri": "https://localhost:8080/"
        },
        "id": "RC-DCNxJystg",
        "outputId": "558099da-96fa-4798-c182-36278ba7deec"
      },
      "execution_count": 17,
      "outputs": [
        {
          "output_type": "stream",
          "name": "stdout",
          "text": [
            "The summary of the pipe seperated gz file is as below       \n",
            " Size: 4096       \n",
            " Number of Rows: 42448764       \n",
            " Number of Columns: 9\n"
          ]
        }
      ]
    },
    {
      "cell_type": "code",
      "source": [],
      "metadata": {
        "id": "kTS_ewyKIqOu"
      },
      "execution_count": null,
      "outputs": []
    }
  ]
}