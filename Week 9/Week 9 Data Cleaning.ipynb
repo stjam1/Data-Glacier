{
 "cells": [
  {
   "cell_type": "code",
   "execution_count": 171,
   "id": "9e192088",
   "metadata": {},
   "outputs": [],
   "source": [
    "import pandas as pd\n",
    "import numpy as np\n",
    "import seaborn as sns\n",
    "import matplotlib.pyplot as plt\n",
    "from sklearn.impute import SimpleImputer\n",
    "from sklearn.impute import KNNImputer\n",
    "from sklearn.preprocessing import LabelEncoder\n",
    "from sklearn.ensemble import RandomForestClassifier\n",
    "from scipy.stats import boxcox"
   ]
  },
  {
   "cell_type": "code",
   "execution_count": 202,
   "id": "15c45f8c",
   "metadata": {},
   "outputs": [],
   "source": [
    "df = pd.read_csv('c:/users/stjam/downloads/bank-additional-full.csv', sep=';', header=0,quotechar='\"',na_values=['<NA>', 'unknown'])\n"
   ]
  },
  {
   "cell_type": "code",
   "execution_count": 3,
   "id": "bea1bcc7",
   "metadata": {},
   "outputs": [
    {
     "name": "stdout",
     "output_type": "stream",
     "text": [
      "<bound method NDFrame.head of        age          job  marital            education default housing loan  \\\n",
      "0       56    housemaid  married             basic.4y      no      no   no   \n",
      "1       57     services  married          high.school     NaN      no   no   \n",
      "2       37     services  married          high.school      no     yes   no   \n",
      "3       40       admin.  married             basic.6y      no      no   no   \n",
      "4       56     services  married          high.school      no      no  yes   \n",
      "...    ...          ...      ...                  ...     ...     ...  ...   \n",
      "41183   73      retired  married  professional.course      no     yes   no   \n",
      "41184   46  blue-collar  married  professional.course      no      no   no   \n",
      "41185   56      retired  married    university.degree      no     yes   no   \n",
      "41186   44   technician  married  professional.course      no      no   no   \n",
      "41187   74      retired  married  professional.course      no     yes   no   \n",
      "\n",
      "         contact month day_of_week  ...  campaign  pdays  previous  \\\n",
      "0      telephone   may         mon  ...         1    999         0   \n",
      "1      telephone   may         mon  ...         1    999         0   \n",
      "2      telephone   may         mon  ...         1    999         0   \n",
      "3      telephone   may         mon  ...         1    999         0   \n",
      "4      telephone   may         mon  ...         1    999         0   \n",
      "...          ...   ...         ...  ...       ...    ...       ...   \n",
      "41183   cellular   nov         fri  ...         1    999         0   \n",
      "41184   cellular   nov         fri  ...         1    999         0   \n",
      "41185   cellular   nov         fri  ...         2    999         0   \n",
      "41186   cellular   nov         fri  ...         1    999         0   \n",
      "41187   cellular   nov         fri  ...         3    999         1   \n",
      "\n",
      "          poutcome emp.var.rate  cons.price.idx  cons.conf.idx  euribor3m  \\\n",
      "0      nonexistent          1.1          93.994          -36.4      4.857   \n",
      "1      nonexistent          1.1          93.994          -36.4      4.857   \n",
      "2      nonexistent          1.1          93.994          -36.4      4.857   \n",
      "3      nonexistent          1.1          93.994          -36.4      4.857   \n",
      "4      nonexistent          1.1          93.994          -36.4      4.857   \n",
      "...            ...          ...             ...            ...        ...   \n",
      "41183  nonexistent         -1.1          94.767          -50.8      1.028   \n",
      "41184  nonexistent         -1.1          94.767          -50.8      1.028   \n",
      "41185  nonexistent         -1.1          94.767          -50.8      1.028   \n",
      "41186  nonexistent         -1.1          94.767          -50.8      1.028   \n",
      "41187      failure         -1.1          94.767          -50.8      1.028   \n",
      "\n",
      "       nr.employed    y  \n",
      "0           5191.0   no  \n",
      "1           5191.0   no  \n",
      "2           5191.0   no  \n",
      "3           5191.0   no  \n",
      "4           5191.0   no  \n",
      "...            ...  ...  \n",
      "41183       4963.6  yes  \n",
      "41184       4963.6   no  \n",
      "41185       4963.6   no  \n",
      "41186       4963.6  yes  \n",
      "41187       4963.6   no  \n",
      "\n",
      "[41188 rows x 21 columns]>\n"
     ]
    }
   ],
   "source": [
    "print(df.head)"
   ]
  },
  {
   "cell_type": "code",
   "execution_count": 4,
   "id": "fb7f1a8d",
   "metadata": {},
   "outputs": [
    {
     "name": "stdout",
     "output_type": "stream",
     "text": [
      "age                 int64\n",
      "job                object\n",
      "marital            object\n",
      "education          object\n",
      "default            object\n",
      "housing            object\n",
      "loan               object\n",
      "contact            object\n",
      "month              object\n",
      "day_of_week        object\n",
      "duration            int64\n",
      "campaign            int64\n",
      "pdays               int64\n",
      "previous            int64\n",
      "poutcome           object\n",
      "emp.var.rate      float64\n",
      "cons.price.idx    float64\n",
      "cons.conf.idx     float64\n",
      "euribor3m         float64\n",
      "nr.employed       float64\n",
      "y                  object\n",
      "dtype: object\n"
     ]
    }
   ],
   "source": [
    "print(df.dtypes)"
   ]
  },
  {
   "cell_type": "code",
   "execution_count": 5,
   "id": "e506cd17",
   "metadata": {},
   "outputs": [
    {
     "name": "stdout",
     "output_type": "stream",
     "text": [
      "<class 'pandas.core.frame.DataFrame'>\n",
      "RangeIndex: 41188 entries, 0 to 41187\n",
      "Data columns (total 21 columns):\n",
      " #   Column          Non-Null Count  Dtype  \n",
      "---  ------          --------------  -----  \n",
      " 0   age             41188 non-null  int64  \n",
      " 1   job             40858 non-null  object \n",
      " 2   marital         41108 non-null  object \n",
      " 3   education       39457 non-null  object \n",
      " 4   default         32591 non-null  object \n",
      " 5   housing         40198 non-null  object \n",
      " 6   loan            40198 non-null  object \n",
      " 7   contact         41188 non-null  object \n",
      " 8   month           41188 non-null  object \n",
      " 9   day_of_week     41188 non-null  object \n",
      " 10  duration        41188 non-null  int64  \n",
      " 11  campaign        41188 non-null  int64  \n",
      " 12  pdays           41188 non-null  int64  \n",
      " 13  previous        41188 non-null  int64  \n",
      " 14  poutcome        41188 non-null  object \n",
      " 15  emp.var.rate    41188 non-null  float64\n",
      " 16  cons.price.idx  41188 non-null  float64\n",
      " 17  cons.conf.idx   41188 non-null  float64\n",
      " 18  euribor3m       41188 non-null  float64\n",
      " 19  nr.employed     41188 non-null  float64\n",
      " 20  y               41188 non-null  object \n",
      "dtypes: float64(5), int64(5), object(11)\n",
      "memory usage: 6.6+ MB\n"
     ]
    }
   ],
   "source": [
    "df.info()\n"
   ]
  },
  {
   "cell_type": "code",
   "execution_count": 6,
   "id": "6bed575d",
   "metadata": {},
   "outputs": [
    {
     "name": "stdout",
     "output_type": "stream",
     "text": [
      "Rows with Missing Values:\n",
      "        age          job  marital    education default housing loan    contact  \\\n",
      "1       57     services  married  high.school     NaN      no   no  telephone   \n",
      "5       45     services  married     basic.9y     NaN      no   no  telephone   \n",
      "7       41  blue-collar  married          NaN     NaN      no   no  telephone   \n",
      "10      41  blue-collar  married          NaN     NaN      no   no  telephone   \n",
      "15      54      retired  married     basic.9y     NaN     yes  yes  telephone   \n",
      "...    ...          ...      ...          ...     ...     ...  ...        ...   \n",
      "41118   34   technician  married          NaN      no     yes   no   cellular   \n",
      "41120   60       admin.  married          NaN      no      no   no   cellular   \n",
      "41122   34   technician  married          NaN      no      no   no   cellular   \n",
      "41135   54   technician  married          NaN      no     yes   no   cellular   \n",
      "41175   34      student   single          NaN      no     yes   no   cellular   \n",
      "\n",
      "      month day_of_week  ...  campaign  pdays  previous     poutcome  \\\n",
      "1       may         mon  ...         1    999         0  nonexistent   \n",
      "5       may         mon  ...         1    999         0  nonexistent   \n",
      "7       may         mon  ...         1    999         0  nonexistent   \n",
      "10      may         mon  ...         1    999         0  nonexistent   \n",
      "15      may         mon  ...         1    999         0  nonexistent   \n",
      "...     ...         ...  ...       ...    ...       ...          ...   \n",
      "41118   nov         tue  ...         2    999         2      failure   \n",
      "41120   nov         tue  ...         2    999         0  nonexistent   \n",
      "41122   nov         tue  ...         3    999         0  nonexistent   \n",
      "41135   nov         thu  ...         1    999         1      failure   \n",
      "41175   nov         thu  ...         1    999         2      failure   \n",
      "\n",
      "      emp.var.rate  cons.price.idx  cons.conf.idx  euribor3m  nr.employed    y  \n",
      "1              1.1          93.994          -36.4      4.857       5191.0   no  \n",
      "5              1.1          93.994          -36.4      4.857       5191.0   no  \n",
      "7              1.1          93.994          -36.4      4.857       5191.0   no  \n",
      "10             1.1          93.994          -36.4      4.857       5191.0   no  \n",
      "15             1.1          93.994          -36.4      4.857       5191.0   no  \n",
      "...            ...             ...            ...        ...          ...  ...  \n",
      "41118         -1.1          94.767          -50.8      1.046       4963.6   no  \n",
      "41120         -1.1          94.767          -50.8      1.046       4963.6   no  \n",
      "41122         -1.1          94.767          -50.8      1.046       4963.6  yes  \n",
      "41135         -1.1          94.767          -50.8      1.041       4963.6   no  \n",
      "41175         -1.1          94.767          -50.8      1.031       4963.6   no  \n",
      "\n",
      "[10700 rows x 21 columns]\n",
      "\n",
      "Columns with Missing Values:\n",
      " Index(['job', 'marital', 'education', 'default', 'housing', 'loan'], dtype='object')\n"
     ]
    }
   ],
   "source": [
    "missing_values = df.isna()\n",
    "\n",
    "# Locate rows with missing values\n",
    "rows_with_missing_values = df[missing_values.any(axis=1)]\n",
    "\n",
    "# Locate columns with missing values\n",
    "columns_with_missing_values = df.columns[missing_values.any(axis=0)]\n",
    "\n",
    "# Display the rows and columns with missing values\n",
    "print(\"Rows with Missing Values:\\n\", rows_with_missing_values)\n",
    "print(\"\\nColumns with Missing Values:\\n\", columns_with_missing_values)"
   ]
  },
  {
   "cell_type": "code",
   "execution_count": 7,
   "id": "f673672d",
   "metadata": {},
   "outputs": [],
   "source": [
    "missing_values = df.isna()\n",
    "rows_with_missing_values = df[missing_values.any(axis=1)]\n"
   ]
  },
  {
   "cell_type": "code",
   "execution_count": 8,
   "id": "3a89f615",
   "metadata": {},
   "outputs": [
    {
     "name": "stdout",
     "output_type": "stream",
     "text": [
      "Rows with Missing Values Before Filling:\n",
      "        age          job  marital    education default housing loan    contact  \\\n",
      "1       57     services  married  high.school     NaN      no   no  telephone   \n",
      "5       45     services  married     basic.9y     NaN      no   no  telephone   \n",
      "7       41  blue-collar  married          NaN     NaN      no   no  telephone   \n",
      "10      41  blue-collar  married          NaN     NaN      no   no  telephone   \n",
      "15      54      retired  married     basic.9y     NaN     yes  yes  telephone   \n",
      "...    ...          ...      ...          ...     ...     ...  ...        ...   \n",
      "41118   34   technician  married          NaN      no     yes   no   cellular   \n",
      "41120   60       admin.  married          NaN      no      no   no   cellular   \n",
      "41122   34   technician  married          NaN      no      no   no   cellular   \n",
      "41135   54   technician  married          NaN      no     yes   no   cellular   \n",
      "41175   34      student   single          NaN      no     yes   no   cellular   \n",
      "\n",
      "      month day_of_week  ...  campaign  pdays  previous     poutcome  \\\n",
      "1       may         mon  ...         1    999         0  nonexistent   \n",
      "5       may         mon  ...         1    999         0  nonexistent   \n",
      "7       may         mon  ...         1    999         0  nonexistent   \n",
      "10      may         mon  ...         1    999         0  nonexistent   \n",
      "15      may         mon  ...         1    999         0  nonexistent   \n",
      "...     ...         ...  ...       ...    ...       ...          ...   \n",
      "41118   nov         tue  ...         2    999         2      failure   \n",
      "41120   nov         tue  ...         2    999         0  nonexistent   \n",
      "41122   nov         tue  ...         3    999         0  nonexistent   \n",
      "41135   nov         thu  ...         1    999         1      failure   \n",
      "41175   nov         thu  ...         1    999         2      failure   \n",
      "\n",
      "      emp.var.rate  cons.price.idx  cons.conf.idx  euribor3m  nr.employed    y  \n",
      "1              1.1          93.994          -36.4      4.857       5191.0   no  \n",
      "5              1.1          93.994          -36.4      4.857       5191.0   no  \n",
      "7              1.1          93.994          -36.4      4.857       5191.0   no  \n",
      "10             1.1          93.994          -36.4      4.857       5191.0   no  \n",
      "15             1.1          93.994          -36.4      4.857       5191.0   no  \n",
      "...            ...             ...            ...        ...          ...  ...  \n",
      "41118         -1.1          94.767          -50.8      1.046       4963.6   no  \n",
      "41120         -1.1          94.767          -50.8      1.046       4963.6   no  \n",
      "41122         -1.1          94.767          -50.8      1.046       4963.6  yes  \n",
      "41135         -1.1          94.767          -50.8      1.041       4963.6   no  \n",
      "41175         -1.1          94.767          -50.8      1.031       4963.6   no  \n",
      "\n",
      "[10700 rows x 21 columns]\n"
     ]
    }
   ],
   "source": [
    "print(\"Rows with Missing Values Before Filling:\\n\", rows_with_missing_values)\n"
   ]
  },
  {
   "cell_type": "code",
   "execution_count": 9,
   "id": "d3075eff",
   "metadata": {},
   "outputs": [],
   "source": [
    "categorical_cols = df.select_dtypes(include=['object']).columns\n",
    "df[categorical_cols] = df[categorical_cols].fillna(df[categorical_cols].mode().iloc[0])\n"
   ]
  },
  {
   "cell_type": "code",
   "execution_count": 10,
   "id": "4d78abaa",
   "metadata": {},
   "outputs": [],
   "source": [
    "missing_values_after_filling = df.isna()\n",
    "rows_with_missing_values_after_filling = df[missing_values_after_filling.any(axis=1)]\n"
   ]
  },
  {
   "cell_type": "code",
   "execution_count": 11,
   "id": "2c6b54ad",
   "metadata": {},
   "outputs": [
    {
     "name": "stdout",
     "output_type": "stream",
     "text": [
      "Rows with Missing Values After Filling:\n",
      " Empty DataFrame\n",
      "Columns: [age, job, marital, education, default, housing, loan, contact, month, day_of_week, duration, campaign, pdays, previous, poutcome, emp.var.rate, cons.price.idx, cons.conf.idx, euribor3m, nr.employed, y]\n",
      "Index: []\n",
      "\n",
      "[0 rows x 21 columns]\n"
     ]
    }
   ],
   "source": [
    "print(\"Rows with Missing Values After Filling:\\n\", rows_with_missing_values_after_filling)\n"
   ]
  },
  {
   "cell_type": "code",
   "execution_count": 16,
   "id": "03493247",
   "metadata": {},
   "outputs": [
    {
     "name": "stdout",
     "output_type": "stream",
     "text": [
      "Original DataFrame:\n",
      "   age        job  marital    education default housing loan    contact month  \\\n",
      "0   56  housemaid  married     basic.4y      no      no   no  telephone   may   \n",
      "1   57   services  married  high.school      no      no   no  telephone   may   \n",
      "2   37   services  married  high.school      no     yes   no  telephone   may   \n",
      "3   40     admin.  married     basic.6y      no      no   no  telephone   may   \n",
      "4   56   services  married  high.school      no      no  yes  telephone   may   \n",
      "\n",
      "  day_of_week  ...  campaign  pdays  previous     poutcome emp.var.rate  \\\n",
      "0         mon  ...         1    999         0  nonexistent          1.1   \n",
      "1         mon  ...         1    999         0  nonexistent          1.1   \n",
      "2         mon  ...         1    999         0  nonexistent          1.1   \n",
      "3         mon  ...         1    999         0  nonexistent          1.1   \n",
      "4         mon  ...         1    999         0  nonexistent          1.1   \n",
      "\n",
      "   cons.price.idx  cons.conf.idx  euribor3m  nr.employed   y  \n",
      "0          93.994          -36.4      4.857       5191.0  no  \n",
      "1          93.994          -36.4      4.857       5191.0  no  \n",
      "2          93.994          -36.4      4.857       5191.0  no  \n",
      "3          93.994          -36.4      4.857       5191.0  no  \n",
      "4          93.994          -36.4      4.857       5191.0  no  \n",
      "\n",
      "[5 rows x 21 columns]\n",
      "\n",
      "DataFrame after filling missing values:\n",
      "   age        job  marital    education default housing loan    contact month  \\\n",
      "0   56  housemaid  married     basic.4y      no      no   no  telephone   may   \n",
      "1   57   services  married  high.school      no      no   no  telephone   may   \n",
      "2   37   services  married  high.school      no     yes   no  telephone   may   \n",
      "3   40     admin.  married     basic.6y      no      no   no  telephone   may   \n",
      "4   56   services  married  high.school      no      no  yes  telephone   may   \n",
      "\n",
      "  day_of_week  ...  campaign  pdays  previous     poutcome emp.var.rate  \\\n",
      "0         mon  ...         1    999         0  nonexistent          1.1   \n",
      "1         mon  ...         1    999         0  nonexistent          1.1   \n",
      "2         mon  ...         1    999         0  nonexistent          1.1   \n",
      "3         mon  ...         1    999         0  nonexistent          1.1   \n",
      "4         mon  ...         1    999         0  nonexistent          1.1   \n",
      "\n",
      "   cons.price.idx  cons.conf.idx  euribor3m  nr.employed   y  \n",
      "0          93.994          -36.4      4.857       5191.0  no  \n",
      "1          93.994          -36.4      4.857       5191.0  no  \n",
      "2          93.994          -36.4      4.857       5191.0  no  \n",
      "3          93.994          -36.4      4.857       5191.0  no  \n",
      "4          93.994          -36.4      4.857       5191.0  no  \n",
      "\n",
      "[5 rows x 21 columns]\n"
     ]
    }
   ],
   "source": [
    "categorical_cols = df.select_dtypes(include=['object']).columns\n",
    "df[categorical_cols] = df[categorical_cols].fillna(df[categorical_cols].mode().iloc[0])\n",
    "print(\"Original DataFrame:\")\n",
    "print(df.head())\n",
    "\n",
    "# Check if there are any missing values after filling\n",
    "print(\"\\nDataFrame after filling missing values:\")\n",
    "print(df.head())"
   ]
  },
  {
   "cell_type": "markdown",
   "id": "c8fb814b",
   "metadata": {},
   "source": [
    "### Count for each variables shows the frequency distribution of unique values in the dataset"
   ]
  },
  {
   "cell_type": "code",
   "execution_count": 9,
   "id": "e652e9c9",
   "metadata": {},
   "outputs": [
    {
     "data": {
      "image/png": "[encoded data removed]",
      "text/plain": [
       "<Figure size 432x288 with 1 Axes>"
      ]
     },
     "metadata": {
      "needs_background": "light"
     },
     "output_type": "display_data"
    },
    {
     "data": {
      "image/png": "[encoded data removed]",
      "text/plain": [
       "<Figure size 432x288 with 1 Axes>"
      ]
     },
     "metadata": {
      "needs_background": "light"
     },
     "output_type": "display_data"
    },
    {
     "data": {
      "image/png": "[encoded data removed]",
      "text/plain": [
       "<Figure size 432x288 with 1 Axes>"
      ]
     },
     "metadata": {
      "needs_background": "light"
     },
     "output_type": "display_data"
    },
    {
     "data": {
      "image/png": "[encoded data removed]",
      "text/plain": [
       "<Figure size 432x288 with 1 Axes>"
      ]
     },
     "metadata": {
      "needs_background": "light"
     },
     "output_type": "display_data"
    },
    {
     "data": {
      "image/png": "[encoded data removed]",
      "text/plain": [
       "<Figure size 432x288 with 1 Axes>"
      ]
     },
     "metadata": {
      "needs_background": "light"
     },
     "output_type": "display_data"
    },
    {
     "data": {
      "image/png": "[encoded data removed]",
      "text/plain": [
       "<Figure size 432x288 with 1 Axes>"
      ]
     },
     "metadata": {
      "needs_background": "light"
     },
     "output_type": "display_data"
    },
    {
     "data": {
      "image/png": "[encoded data removed]",
      "text/plain": [
       "<Figure size 432x288 with 1 Axes>"
      ]
     },
     "metadata": {
      "needs_background": "light"
     },
     "output_type": "display_data"
    },
    {
     "data": {
      "image/png": "[encoded data removed]",
      "text/plain": [
       "<Figure size 432x288 with 1 Axes>"
      ]
     },
     "metadata": {
      "needs_background": "light"
     },
     "output_type": "display_data"
    },
    {
     "data": {
      "image/png": "[encoded data removed]",
      "text/plain": [
       "<Figure size 432x288 with 1 Axes>"
      ]
     },
     "metadata": {
      "needs_background": "light"
     },
     "output_type": "display_data"
    },
    {
     "data": {
      "image/png": "[encoded data removed]",
      "text/plain": [
       "<Figure size 432x288 with 1 Axes>"
      ]
     },
     "metadata": {
      "needs_background": "light"
     },
     "output_type": "display_data"
    },
    {
     "data": {
      "image/png": "[encoded data removed]",
      "text/plain": [
       "<Figure size 432x288 with 1 Axes>"
      ]
     },
     "metadata": {
      "needs_background": "light"
     },
     "output_type": "display_data"
    }
   ],
   "source": [
    "for column in df.columns:\n",
    "    if df[column].dtype == 'object':  # Check if the column is non-numeric\n",
    "        sns.countplot(x=df[column])\n",
    "        plt.title(f'Count Plot for {column}')\n",
    "        plt.xticks(rotation=60)  # Adjust the rotation angle as needed\n",
    "        plt.show()"
   ]
  },
  {
   "cell_type": "code",
   "execution_count": 10,
   "id": "b046ea73",
   "metadata": {},
   "outputs": [
    {
     "data": {
      "image/png": "[encoded data removed]",
      "text/plain": [
       "<Figure size 1152x576 with 10 Axes>"
      ]
     },
     "metadata": {
      "needs_background": "light"
     },
     "output_type": "display_data"
    }
   ],
   "source": [
    "import seaborn as sns\n",
    "import matplotlib.pyplot as plt\n",
    "\n",
    "\n",
    "\n",
    "# Specify the integer and float columns\n",
    "int_columns = ['duration','campaign', 'pdays', 'previous']\n",
    "float_columns = ['emp.var.rate', 'cons.price.idx', 'cons.conf.idx', 'euribor3m', 'nr.employed']\n",
    "\n",
    "# Create subplots\n",
    "fig, axes = plt.subplots(nrows=2, ncols=5, figsize=(16, 8))\n",
    "\n",
    "# Plot boxplots for integer columns\n",
    "for i, column in enumerate(int_columns):\n",
    "    if df[column].dtype in ['int64', 'float64']:\n",
    "        sns.boxplot(x=df[column], ax=axes[0, i])\n",
    "        axes[0, i].set_title(f'Boxplot for {column}')\n",
    "\n",
    "# Plot boxplots for float columns\n",
    "for i, column in enumerate(float_columns):\n",
    "    if df[column].dtype in ['int64', 'float64']:\n",
    "        sns.boxplot(x=df[column], ax=axes[1, i])\n",
    "        axes[1, i].set_title(f'Boxplot for {column}')\n",
    "\n",
    "plt.tight_layout()\n",
    "plt.show()\n"
   ]
  },
  {
   "cell_type": "markdown",
   "id": "61f3535b",
   "metadata": {},
   "source": [
    "### Measuring skewness indicates the symmetry of that distribution\n"
   ]
  },
  {
   "cell_type": "code",
   "execution_count": 15,
   "id": "63a4a224",
   "metadata": {},
   "outputs": [
    {
     "name": "stdout",
     "output_type": "stream",
     "text": [
      "Skewness for 'age': 0.7846682380932289\n",
      "Positive skewness: The distribution is skewed to the right (tail on the right).\n",
      "Skewness for 'duration': 3.2630224157610432\n",
      "Positive skewness: The distribution is skewed to the right (tail on the right).\n",
      "Skewness for 'campaign': 4.762333252560971\n",
      "Positive skewness: The distribution is skewed to the right (tail on the right).\n",
      "Skewness for 'pdays': -4.922010656450045\n",
      "Negative skewness: The distribution is skewed to the left (tail on the left).\n",
      "Skewness for 'previous': 3.8319026847007014\n",
      "Positive skewness: The distribution is skewed to the right (tail on the right).\n",
      "Skewness for 'emp.var.rate': -0.7240691785977529\n",
      "Negative skewness: The distribution is skewed to the left (tail on the left).\n",
      "Skewness for 'cons.price.idx': -0.23087924271991117\n",
      "Negative skewness: The distribution is skewed to the left (tail on the left).\n",
      "Skewness for 'cons.conf.idx': 0.3031688173189229\n",
      "Positive skewness: The distribution is skewed to the right (tail on the right).\n",
      "Skewness for 'euribor3m': -0.7091621286441162\n",
      "Negative skewness: The distribution is skewed to the left (tail on the left).\n",
      "Skewness for 'nr.employed': -1.0442243763652297\n",
      "Negative skewness: The distribution is skewed to the left (tail on the left).\n"
     ]
    }
   ],
   "source": [
    "from scipy.stats import skew\n",
    "\n",
    "\n",
    "numeric_columns = df.select_dtypes(include=['int64', 'float64']).columns\n",
    "\n",
    "for column in numeric_columns:\n",
    "    skewness = skew(df[column])\n",
    "    print(f\"Skewness for '{column}': {skewness}\")\n",
    "    \n",
    " \n",
    "    if skewness > 0:\n",
    "        print(\"Positive skewness: The distribution is skewed to the right (tail on the right).\")\n",
    "    elif skewness < 0:\n",
    "        print(\"Negative skewness: The distribution is skewed to the left (tail on the left).\")\n",
    "    else:\n",
    "        print(\"Zero skewness: The distribution is perfectly symmetrical.\")\n"
   ]
  },
  {
   "cell_type": "code",
   "execution_count": 10,
   "id": "0e44174b",
   "metadata": {},
   "outputs": [
    {
     "name": "stdout",
     "output_type": "stream",
     "text": [
      "Duplicate Rows except first occurrence:\n",
      "       age          job   marital            education default housing loan  \\\n",
      "1266    39  blue-collar   married             basic.6y      no      no   no   \n",
      "12261   36      retired   married                 <NA>      no      no   no   \n",
      "14234   27   technician    single  professional.course      no      no   no   \n",
      "16956   47   technician  divorced          high.school      no     yes   no   \n",
      "18465   32   technician    single  professional.course      no     yes   no   \n",
      "20216   55     services   married          high.school    <NA>      no   no   \n",
      "20534   41   technician   married  professional.course      no     yes   no   \n",
      "25217   39       admin.   married    university.degree      no      no   no   \n",
      "28477   24     services    single          high.school      no     yes   no   \n",
      "32516   35       admin.   married    university.degree      no     yes   no   \n",
      "36951   45       admin.   married    university.degree      no      no   no   \n",
      "38281   71      retired    single    university.degree      no      no   no   \n",
      "\n",
      "         contact month day_of_week  ...  campaign  pdays  previous  \\\n",
      "1266   telephone   may         thu  ...         1    999         0   \n",
      "12261  telephone   jul         thu  ...         1    999         0   \n",
      "14234   cellular   jul         mon  ...         2    999         0   \n",
      "16956   cellular   jul         thu  ...         3    999         0   \n",
      "18465   cellular   jul         thu  ...         1    999         0   \n",
      "20216   cellular   aug         mon  ...         1    999         0   \n",
      "20534   cellular   aug         tue  ...         1    999         0   \n",
      "25217   cellular   nov         tue  ...         2    999         0   \n",
      "28477   cellular   apr         tue  ...         1    999         0   \n",
      "32516   cellular   may         fri  ...         4    999         0   \n",
      "36951   cellular   jul         thu  ...         1    999         0   \n",
      "38281  telephone   oct         tue  ...         1    999         0   \n",
      "\n",
      "          poutcome emp.var.rate  cons.price.idx  cons.conf.idx  euribor3m  \\\n",
      "1266   nonexistent          1.1          93.994          -36.4      4.855   \n",
      "12261  nonexistent          1.4          93.918          -42.7      4.966   \n",
      "14234  nonexistent          1.4          93.918          -42.7      4.962   \n",
      "16956  nonexistent          1.4          93.918          -42.7      4.962   \n",
      "18465  nonexistent          1.4          93.918          -42.7      4.968   \n",
      "20216  nonexistent          1.4          93.444          -36.1      4.965   \n",
      "20534  nonexistent          1.4          93.444          -36.1      4.966   \n",
      "25217  nonexistent         -0.1          93.200          -42.0      4.153   \n",
      "28477  nonexistent         -1.8          93.075          -47.1      1.423   \n",
      "32516  nonexistent         -1.8          92.893          -46.2      1.313   \n",
      "36951  nonexistent         -2.9          92.469          -33.6      1.072   \n",
      "38281  nonexistent         -3.4          92.431          -26.9      0.742   \n",
      "\n",
      "       nr.employed    y  \n",
      "1266        5191.0   no  \n",
      "12261       5228.1   no  \n",
      "14234       5228.1   no  \n",
      "16956       5228.1   no  \n",
      "18465       5228.1   no  \n",
      "20216       5228.1   no  \n",
      "20534       5228.1   no  \n",
      "25217       5195.8   no  \n",
      "28477       5099.1   no  \n",
      "32516       5099.1   no  \n",
      "36951       5076.2  yes  \n",
      "38281       5017.5   no  \n",
      "\n",
      "[12 rows x 21 columns]\n"
     ]
    }
   ],
   "source": [
    "duplicate_rows = df[df.duplicated()]\n",
    "\n",
    "# Display the duplicate rows\n",
    "print(\"Duplicate Rows except first occurrence:\")\n",
    "print(duplicate_rows)"
   ]
  },
  {
   "cell_type": "code",
   "execution_count": 33,
   "id": "e4a42ca1",
   "metadata": {},
   "outputs": [
    {
     "name": "stdout",
     "output_type": "stream",
     "text": [
      "Original Indices for Duplicated Rows:\n",
      "Int64Index([], dtype='int64')\n",
      "\n",
      "Duplicated Rows:\n",
      "   loan\n",
      "0   NaN\n",
      "1   NaN\n",
      "2   NaN\n",
      "3   NaN\n",
      "4   NaN\n",
      "DataFrame with First Occurrence of Duplicates:\n",
      "   loan\n",
      "0   NaN\n"
     ]
    }
   ],
   "source": [
    "duplicates_with_original = df[df.duplicated(keep=False)]\n",
    "\n",
    "# Get the indices of the original rows\n",
    "original_indices = df[~df.duplicated(keep=False)].index\n",
    "\n",
    "# Display the original indices along with the duplicated rows\n",
    "print(\"Original Indices for Duplicated Rows:\")\n",
    "print(original_indices)\n",
    "print(\"\\nDuplicated Rows:\")\n",
    "print(duplicates_with_original)\n",
    "# Keep the first occurrence of duplicates\n",
    "df_first_occurrence = df.drop_duplicates(keep='first')\n",
    "\n",
    "# Display the DataFrame with only the first occurrence of duplicates\n",
    "print(\"DataFrame with First Occurrence of Duplicates:\")\n",
    "print(df_first_occurrence)\n"
   ]
  },
  {
   "cell_type": "code",
   "execution_count": 38,
   "id": "9aeff54d",
   "metadata": {},
   "outputs": [
    {
     "name": "stdout",
     "output_type": "stream",
     "text": [
      "0        0.0\n",
      "1        0.0\n",
      "2        1.0\n",
      "3        0.0\n",
      "4        0.0\n",
      "        ... \n",
      "41183    1.0\n",
      "41184    0.0\n",
      "41185    1.0\n",
      "41186    0.0\n",
      "41187    1.0\n",
      "Name: housing, Length: 41188, dtype: float64\n",
      "0        0.0\n",
      "1        0.0\n",
      "2        0.0\n",
      "3        0.0\n",
      "4        1.0\n",
      "        ... \n",
      "41183    0.0\n",
      "41184    0.0\n",
      "41185    0.0\n",
      "41186    0.0\n",
      "41187    0.0\n",
      "Name: loan, Length: 41188, dtype: float64\n"
     ]
    }
   ],
   "source": [
    "df['housing'] = df['housing'].replace({'yes': 1, 'no': 0})\n",
    "\n",
    "# Display the resulting DataFrame\n",
    "print(df['housing'])\n",
    "df['loan'] = df['loan'].replace({'yes': 1, 'no': 0})\n",
    "\n",
    "# Display the resulting DataFrame\n",
    "print(df['loan'])\n"
   ]
  },
  {
   "cell_type": "code",
   "execution_count": 204,
   "id": "12d6ce1b",
   "metadata": {},
   "outputs": [],
   "source": [
    "# Remobving Duplicates\n",
    "df= df.drop_duplicates()"
   ]
  },
  {
   "cell_type": "code",
   "execution_count": 205,
   "id": "ac1aab41",
   "metadata": {},
   "outputs": [
    {
     "name": "stdout",
     "output_type": "stream",
     "text": [
      "age                  0\n",
      "job                330\n",
      "marital             80\n",
      "education         1730\n",
      "default           8596\n",
      "housing            990\n",
      "loan               990\n",
      "contact              0\n",
      "month                0\n",
      "day_of_week          0\n",
      "duration             0\n",
      "campaign             0\n",
      "pdays                0\n",
      "previous             0\n",
      "poutcome             0\n",
      "emp.var.rate         0\n",
      "cons.price.idx       0\n",
      "cons.conf.idx        0\n",
      "euribor3m            0\n",
      "nr.employed          0\n",
      "y                    0\n",
      "dtype: int64\n"
     ]
    }
   ],
   "source": [
    "print(df.isna().sum())"
   ]
  },
  {
   "cell_type": "code",
   "execution_count": 206,
   "id": "c5f83882",
   "metadata": {},
   "outputs": [],
   "source": [
    "# Method 1: Replacing unknown with mode(most frequent) value \n",
    "# By Aysha Abdul Azeez\n",
    "columns_nan = ['job', 'marital', 'education', 'default', 'housing', 'loan']      # columns containing NaN\n",
    "impute = SimpleImputer(strategy='most_frequent')                                 # Impute with mode\n"
   ]
  },
  {
   "cell_type": "code",
   "execution_count": 207,
   "id": "5e0474df",
   "metadata": {},
   "outputs": [],
   "source": [
    "df_mode_imputed = df.copy()\n",
    "for col in columns_nan:\n",
    "    df_mode_imputed[col] = imputer.fit_transform(df_mode_imputed[[col]])"
   ]
  },
  {
   "cell_type": "code",
   "execution_count": 209,
   "id": "2f020073",
   "metadata": {},
   "outputs": [
    {
     "name": "stdout",
     "output_type": "stream",
     "text": [
      "NA count before Imputation:\n",
      "job           330\n",
      "marital        80\n",
      "education    1730\n",
      "default      8596\n",
      "housing       990\n",
      "loan          990\n",
      "dtype: int64\n",
      "\n",
      "NA count after mode Imputation:\n",
      "job          0\n",
      "marital      0\n",
      "education    0\n",
      "default      0\n",
      "housing      0\n",
      "loan         0\n",
      "dtype: int64\n"
     ]
    }
   ],
   "source": [
    "print(f'NA count before Imputation:\\n{df[columns_nan].isna().sum()}')\n",
    "print(f'\\nNA count after mode Imputation:\\n{df_mode_imputed[columns_nan].isna().sum()}')"
   ]
  },
  {
   "cell_type": "code",
   "execution_count": 198,
   "id": "458ddf5f",
   "metadata": {},
   "outputs": [
    {
     "data": {
      "text/html": [
       "<div>\n",
       "<style scoped>\n",
       "    .dataframe tbody tr th:only-of-type {\n",
       "        vertical-align: middle;\n",
       "    }\n",
       "\n",
       "    .dataframe tbody tr th {\n",
       "        vertical-align: top;\n",
       "    }\n",
       "\n",
       "    .dataframe thead th {\n",
       "        text-align: right;\n",
       "    }\n",
       "</style>\n",
       "<table border=\"1\" class=\"dataframe\">\n",
       "  <thead>\n",
       "    <tr style=\"text-align: right;\">\n",
       "      <th></th>\n",
       "      <th>age</th>\n",
       "      <th>job</th>\n",
       "      <th>marital</th>\n",
       "      <th>education</th>\n",
       "      <th>default</th>\n",
       "      <th>housing</th>\n",
       "      <th>loan</th>\n",
       "      <th>contact</th>\n",
       "      <th>month</th>\n",
       "      <th>day_of_week</th>\n",
       "      <th>...</th>\n",
       "      <th>campaign</th>\n",
       "      <th>pdays</th>\n",
       "      <th>previous</th>\n",
       "      <th>poutcome</th>\n",
       "      <th>emp.var.rate</th>\n",
       "      <th>cons.price.idx</th>\n",
       "      <th>cons.conf.idx</th>\n",
       "      <th>euribor3m</th>\n",
       "      <th>nr.employed</th>\n",
       "      <th>y</th>\n",
       "    </tr>\n",
       "  </thead>\n",
       "  <tbody>\n",
       "    <tr>\n",
       "      <th>0</th>\n",
       "      <td>56</td>\n",
       "      <td>housemaid</td>\n",
       "      <td>married</td>\n",
       "      <td>basic.4y</td>\n",
       "      <td>no</td>\n",
       "      <td>no</td>\n",
       "      <td>no</td>\n",
       "      <td>telephone</td>\n",
       "      <td>may</td>\n",
       "      <td>mon</td>\n",
       "      <td>...</td>\n",
       "      <td>1</td>\n",
       "      <td>999</td>\n",
       "      <td>0</td>\n",
       "      <td>nonexistent</td>\n",
       "      <td>1.1</td>\n",
       "      <td>93.994</td>\n",
       "      <td>-36.4</td>\n",
       "      <td>4.857</td>\n",
       "      <td>5191.0</td>\n",
       "      <td>no</td>\n",
       "    </tr>\n",
       "    <tr>\n",
       "      <th>1</th>\n",
       "      <td>57</td>\n",
       "      <td>services</td>\n",
       "      <td>married</td>\n",
       "      <td>high.school</td>\n",
       "      <td>no</td>\n",
       "      <td>no</td>\n",
       "      <td>no</td>\n",
       "      <td>telephone</td>\n",
       "      <td>may</td>\n",
       "      <td>mon</td>\n",
       "      <td>...</td>\n",
       "      <td>1</td>\n",
       "      <td>999</td>\n",
       "      <td>0</td>\n",
       "      <td>nonexistent</td>\n",
       "      <td>1.1</td>\n",
       "      <td>93.994</td>\n",
       "      <td>-36.4</td>\n",
       "      <td>4.857</td>\n",
       "      <td>5191.0</td>\n",
       "      <td>no</td>\n",
       "    </tr>\n",
       "    <tr>\n",
       "      <th>2</th>\n",
       "      <td>37</td>\n",
       "      <td>services</td>\n",
       "      <td>married</td>\n",
       "      <td>high.school</td>\n",
       "      <td>no</td>\n",
       "      <td>yes</td>\n",
       "      <td>no</td>\n",
       "      <td>telephone</td>\n",
       "      <td>may</td>\n",
       "      <td>mon</td>\n",
       "      <td>...</td>\n",
       "      <td>1</td>\n",
       "      <td>999</td>\n",
       "      <td>0</td>\n",
       "      <td>nonexistent</td>\n",
       "      <td>1.1</td>\n",
       "      <td>93.994</td>\n",
       "      <td>-36.4</td>\n",
       "      <td>4.857</td>\n",
       "      <td>5191.0</td>\n",
       "      <td>no</td>\n",
       "    </tr>\n",
       "    <tr>\n",
       "      <th>3</th>\n",
       "      <td>40</td>\n",
       "      <td>admin.</td>\n",
       "      <td>married</td>\n",
       "      <td>basic.6y</td>\n",
       "      <td>no</td>\n",
       "      <td>no</td>\n",
       "      <td>no</td>\n",
       "      <td>telephone</td>\n",
       "      <td>may</td>\n",
       "      <td>mon</td>\n",
       "      <td>...</td>\n",
       "      <td>1</td>\n",
       "      <td>999</td>\n",
       "      <td>0</td>\n",
       "      <td>nonexistent</td>\n",
       "      <td>1.1</td>\n",
       "      <td>93.994</td>\n",
       "      <td>-36.4</td>\n",
       "      <td>4.857</td>\n",
       "      <td>5191.0</td>\n",
       "      <td>no</td>\n",
       "    </tr>\n",
       "    <tr>\n",
       "      <th>4</th>\n",
       "      <td>56</td>\n",
       "      <td>services</td>\n",
       "      <td>married</td>\n",
       "      <td>high.school</td>\n",
       "      <td>no</td>\n",
       "      <td>no</td>\n",
       "      <td>yes</td>\n",
       "      <td>telephone</td>\n",
       "      <td>may</td>\n",
       "      <td>mon</td>\n",
       "      <td>...</td>\n",
       "      <td>1</td>\n",
       "      <td>999</td>\n",
       "      <td>0</td>\n",
       "      <td>nonexistent</td>\n",
       "      <td>1.1</td>\n",
       "      <td>93.994</td>\n",
       "      <td>-36.4</td>\n",
       "      <td>4.857</td>\n",
       "      <td>5191.0</td>\n",
       "      <td>no</td>\n",
       "    </tr>\n",
       "    <tr>\n",
       "      <th>...</th>\n",
       "      <td>...</td>\n",
       "      <td>...</td>\n",
       "      <td>...</td>\n",
       "      <td>...</td>\n",
       "      <td>...</td>\n",
       "      <td>...</td>\n",
       "      <td>...</td>\n",
       "      <td>...</td>\n",
       "      <td>...</td>\n",
       "      <td>...</td>\n",
       "      <td>...</td>\n",
       "      <td>...</td>\n",
       "      <td>...</td>\n",
       "      <td>...</td>\n",
       "      <td>...</td>\n",
       "      <td>...</td>\n",
       "      <td>...</td>\n",
       "      <td>...</td>\n",
       "      <td>...</td>\n",
       "      <td>...</td>\n",
       "      <td>...</td>\n",
       "    </tr>\n",
       "    <tr>\n",
       "      <th>41183</th>\n",
       "      <td>73</td>\n",
       "      <td>retired</td>\n",
       "      <td>married</td>\n",
       "      <td>professional.course</td>\n",
       "      <td>no</td>\n",
       "      <td>yes</td>\n",
       "      <td>no</td>\n",
       "      <td>cellular</td>\n",
       "      <td>nov</td>\n",
       "      <td>fri</td>\n",
       "      <td>...</td>\n",
       "      <td>1</td>\n",
       "      <td>999</td>\n",
       "      <td>0</td>\n",
       "      <td>nonexistent</td>\n",
       "      <td>-1.1</td>\n",
       "      <td>94.767</td>\n",
       "      <td>-50.8</td>\n",
       "      <td>1.028</td>\n",
       "      <td>4963.6</td>\n",
       "      <td>yes</td>\n",
       "    </tr>\n",
       "    <tr>\n",
       "      <th>41184</th>\n",
       "      <td>46</td>\n",
       "      <td>blue-collar</td>\n",
       "      <td>married</td>\n",
       "      <td>professional.course</td>\n",
       "      <td>no</td>\n",
       "      <td>no</td>\n",
       "      <td>no</td>\n",
       "      <td>cellular</td>\n",
       "      <td>nov</td>\n",
       "      <td>fri</td>\n",
       "      <td>...</td>\n",
       "      <td>1</td>\n",
       "      <td>999</td>\n",
       "      <td>0</td>\n",
       "      <td>nonexistent</td>\n",
       "      <td>-1.1</td>\n",
       "      <td>94.767</td>\n",
       "      <td>-50.8</td>\n",
       "      <td>1.028</td>\n",
       "      <td>4963.6</td>\n",
       "      <td>no</td>\n",
       "    </tr>\n",
       "    <tr>\n",
       "      <th>41185</th>\n",
       "      <td>56</td>\n",
       "      <td>retired</td>\n",
       "      <td>married</td>\n",
       "      <td>university.degree</td>\n",
       "      <td>no</td>\n",
       "      <td>yes</td>\n",
       "      <td>no</td>\n",
       "      <td>cellular</td>\n",
       "      <td>nov</td>\n",
       "      <td>fri</td>\n",
       "      <td>...</td>\n",
       "      <td>2</td>\n",
       "      <td>999</td>\n",
       "      <td>0</td>\n",
       "      <td>nonexistent</td>\n",
       "      <td>-1.1</td>\n",
       "      <td>94.767</td>\n",
       "      <td>-50.8</td>\n",
       "      <td>1.028</td>\n",
       "      <td>4963.6</td>\n",
       "      <td>no</td>\n",
       "    </tr>\n",
       "    <tr>\n",
       "      <th>41186</th>\n",
       "      <td>44</td>\n",
       "      <td>technician</td>\n",
       "      <td>married</td>\n",
       "      <td>professional.course</td>\n",
       "      <td>no</td>\n",
       "      <td>no</td>\n",
       "      <td>no</td>\n",
       "      <td>cellular</td>\n",
       "      <td>nov</td>\n",
       "      <td>fri</td>\n",
       "      <td>...</td>\n",
       "      <td>1</td>\n",
       "      <td>999</td>\n",
       "      <td>0</td>\n",
       "      <td>nonexistent</td>\n",
       "      <td>-1.1</td>\n",
       "      <td>94.767</td>\n",
       "      <td>-50.8</td>\n",
       "      <td>1.028</td>\n",
       "      <td>4963.6</td>\n",
       "      <td>yes</td>\n",
       "    </tr>\n",
       "    <tr>\n",
       "      <th>41187</th>\n",
       "      <td>74</td>\n",
       "      <td>retired</td>\n",
       "      <td>married</td>\n",
       "      <td>professional.course</td>\n",
       "      <td>no</td>\n",
       "      <td>yes</td>\n",
       "      <td>no</td>\n",
       "      <td>cellular</td>\n",
       "      <td>nov</td>\n",
       "      <td>fri</td>\n",
       "      <td>...</td>\n",
       "      <td>3</td>\n",
       "      <td>999</td>\n",
       "      <td>1</td>\n",
       "      <td>failure</td>\n",
       "      <td>-1.1</td>\n",
       "      <td>94.767</td>\n",
       "      <td>-50.8</td>\n",
       "      <td>1.028</td>\n",
       "      <td>4963.6</td>\n",
       "      <td>no</td>\n",
       "    </tr>\n",
       "  </tbody>\n",
       "</table>\n",
       "<p>41176 rows × 21 columns</p>\n",
       "</div>"
      ],
      "text/plain": [
       "       age          job  marital            education default housing loan  \\\n",
       "0       56    housemaid  married             basic.4y      no      no   no   \n",
       "1       57     services  married          high.school      no      no   no   \n",
       "2       37     services  married          high.school      no     yes   no   \n",
       "3       40       admin.  married             basic.6y      no      no   no   \n",
       "4       56     services  married          high.school      no      no  yes   \n",
       "...    ...          ...      ...                  ...     ...     ...  ...   \n",
       "41183   73      retired  married  professional.course      no     yes   no   \n",
       "41184   46  blue-collar  married  professional.course      no      no   no   \n",
       "41185   56      retired  married    university.degree      no     yes   no   \n",
       "41186   44   technician  married  professional.course      no      no   no   \n",
       "41187   74      retired  married  professional.course      no     yes   no   \n",
       "\n",
       "         contact month day_of_week  ...  campaign  pdays  previous  \\\n",
       "0      telephone   may         mon  ...         1    999         0   \n",
       "1      telephone   may         mon  ...         1    999         0   \n",
       "2      telephone   may         mon  ...         1    999         0   \n",
       "3      telephone   may         mon  ...         1    999         0   \n",
       "4      telephone   may         mon  ...         1    999         0   \n",
       "...          ...   ...         ...  ...       ...    ...       ...   \n",
       "41183   cellular   nov         fri  ...         1    999         0   \n",
       "41184   cellular   nov         fri  ...         1    999         0   \n",
       "41185   cellular   nov         fri  ...         2    999         0   \n",
       "41186   cellular   nov         fri  ...         1    999         0   \n",
       "41187   cellular   nov         fri  ...         3    999         1   \n",
       "\n",
       "          poutcome emp.var.rate  cons.price.idx  cons.conf.idx  euribor3m  \\\n",
       "0      nonexistent          1.1          93.994          -36.4      4.857   \n",
       "1      nonexistent          1.1          93.994          -36.4      4.857   \n",
       "2      nonexistent          1.1          93.994          -36.4      4.857   \n",
       "3      nonexistent          1.1          93.994          -36.4      4.857   \n",
       "4      nonexistent          1.1          93.994          -36.4      4.857   \n",
       "...            ...          ...             ...            ...        ...   \n",
       "41183  nonexistent         -1.1          94.767          -50.8      1.028   \n",
       "41184  nonexistent         -1.1          94.767          -50.8      1.028   \n",
       "41185  nonexistent         -1.1          94.767          -50.8      1.028   \n",
       "41186  nonexistent         -1.1          94.767          -50.8      1.028   \n",
       "41187      failure         -1.1          94.767          -50.8      1.028   \n",
       "\n",
       "       nr.employed    y  \n",
       "0           5191.0   no  \n",
       "1           5191.0   no  \n",
       "2           5191.0   no  \n",
       "3           5191.0   no  \n",
       "4           5191.0   no  \n",
       "...            ...  ...  \n",
       "41183       4963.6  yes  \n",
       "41184       4963.6   no  \n",
       "41185       4963.6   no  \n",
       "41186       4963.6  yes  \n",
       "41187       4963.6   no  \n",
       "\n",
       "[41176 rows x 21 columns]"
      ]
     },
     "execution_count": 198,
     "metadata": {},
     "output_type": "execute_result"
    }
   ],
   "source": [
    "df_mode_imputed"
   ]
  },
  {
   "cell_type": "code",
   "execution_count": null,
   "id": "4d1b2ec3",
   "metadata": {},
   "outputs": [],
   "source": [
    "# Review for Method 1 by Nrusimha Saraswati Sai Teja Jampani\n",
    "# The approach was made rather simpler by good use of sklearn library instead of complicating \n",
    "# things by finding mode for each column. I can see that the the NAs are replaced by most frequest value\n",
    "# appearing in the column. This method can introduce some bias but has to be verified buring testing"
   ]
  },
  {
   "cell_type": "code",
   "execution_count": 210,
   "id": "45b55945",
   "metadata": {},
   "outputs": [],
   "source": [
    "# Method 2: Imputing unknown with Random sample values\n",
    "# By Purvesh Mehta\n",
    "df_random_imputed = df.copy()\n"
   ]
  },
  {
   "cell_type": "code",
   "execution_count": 211,
   "id": "2415b674",
   "metadata": {},
   "outputs": [],
   "source": [
    "for col in columns_nan:\n",
    "    col_unique_values = df_random_imputed[col].dropna().unique()\n",
    "    df_random_imputed[col] = df_random_imputed[col].apply(lambda x: np.random.choice(col_unique_values) if pd.isnull(x) else x)"
   ]
  },
  {
   "cell_type": "code",
   "execution_count": 212,
   "id": "de979141",
   "metadata": {},
   "outputs": [
    {
     "name": "stdout",
     "output_type": "stream",
     "text": [
      "NA count before Imputation:\n",
      "job           330\n",
      "marital        80\n",
      "education    1730\n",
      "default      8596\n",
      "housing       990\n",
      "loan          990\n",
      "dtype: int64\n",
      "\n",
      "NA count after Random Imputation:\n",
      "job          0\n",
      "marital      0\n",
      "education    0\n",
      "default      0\n",
      "housing      0\n",
      "loan         0\n",
      "dtype: int64\n"
     ]
    }
   ],
   "source": [
    "print(f'NA count before Imputation:\\n{df[columns_nan].isna().sum()}')\n",
    "print(f'\\nNA count after Random Imputation:\\n{df_random_imputed[columns_nan].isna().sum()}')"
   ]
  },
  {
   "cell_type": "code",
   "execution_count": 81,
   "id": "11f1699d",
   "metadata": {},
   "outputs": [
    {
     "data": {
      "text/html": [
       "<div>\n",
       "<style scoped>\n",
       "    .dataframe tbody tr th:only-of-type {\n",
       "        vertical-align: middle;\n",
       "    }\n",
       "\n",
       "    .dataframe tbody tr th {\n",
       "        vertical-align: top;\n",
       "    }\n",
       "\n",
       "    .dataframe thead th {\n",
       "        text-align: right;\n",
       "    }\n",
       "</style>\n",
       "<table border=\"1\" class=\"dataframe\">\n",
       "  <thead>\n",
       "    <tr style=\"text-align: right;\">\n",
       "      <th></th>\n",
       "      <th>age</th>\n",
       "      <th>job</th>\n",
       "      <th>marital</th>\n",
       "      <th>education</th>\n",
       "      <th>default</th>\n",
       "      <th>housing</th>\n",
       "      <th>loan</th>\n",
       "      <th>contact</th>\n",
       "      <th>month</th>\n",
       "      <th>day_of_week</th>\n",
       "      <th>...</th>\n",
       "      <th>campaign</th>\n",
       "      <th>pdays</th>\n",
       "      <th>previous</th>\n",
       "      <th>poutcome</th>\n",
       "      <th>emp.var.rate</th>\n",
       "      <th>cons.price.idx</th>\n",
       "      <th>cons.conf.idx</th>\n",
       "      <th>euribor3m</th>\n",
       "      <th>nr.employed</th>\n",
       "      <th>y</th>\n",
       "    </tr>\n",
       "  </thead>\n",
       "  <tbody>\n",
       "    <tr>\n",
       "      <th>0</th>\n",
       "      <td>56</td>\n",
       "      <td>housemaid</td>\n",
       "      <td>married</td>\n",
       "      <td>basic.4y</td>\n",
       "      <td>no</td>\n",
       "      <td>no</td>\n",
       "      <td>no</td>\n",
       "      <td>telephone</td>\n",
       "      <td>may</td>\n",
       "      <td>mon</td>\n",
       "      <td>...</td>\n",
       "      <td>1</td>\n",
       "      <td>999</td>\n",
       "      <td>0</td>\n",
       "      <td>nonexistent</td>\n",
       "      <td>1.1</td>\n",
       "      <td>93.994</td>\n",
       "      <td>-36.4</td>\n",
       "      <td>4.857</td>\n",
       "      <td>5191.0</td>\n",
       "      <td>no</td>\n",
       "    </tr>\n",
       "    <tr>\n",
       "      <th>1</th>\n",
       "      <td>57</td>\n",
       "      <td>services</td>\n",
       "      <td>married</td>\n",
       "      <td>high.school</td>\n",
       "      <td>yes</td>\n",
       "      <td>no</td>\n",
       "      <td>no</td>\n",
       "      <td>telephone</td>\n",
       "      <td>may</td>\n",
       "      <td>mon</td>\n",
       "      <td>...</td>\n",
       "      <td>1</td>\n",
       "      <td>999</td>\n",
       "      <td>0</td>\n",
       "      <td>nonexistent</td>\n",
       "      <td>1.1</td>\n",
       "      <td>93.994</td>\n",
       "      <td>-36.4</td>\n",
       "      <td>4.857</td>\n",
       "      <td>5191.0</td>\n",
       "      <td>no</td>\n",
       "    </tr>\n",
       "    <tr>\n",
       "      <th>2</th>\n",
       "      <td>37</td>\n",
       "      <td>services</td>\n",
       "      <td>married</td>\n",
       "      <td>high.school</td>\n",
       "      <td>no</td>\n",
       "      <td>yes</td>\n",
       "      <td>no</td>\n",
       "      <td>telephone</td>\n",
       "      <td>may</td>\n",
       "      <td>mon</td>\n",
       "      <td>...</td>\n",
       "      <td>1</td>\n",
       "      <td>999</td>\n",
       "      <td>0</td>\n",
       "      <td>nonexistent</td>\n",
       "      <td>1.1</td>\n",
       "      <td>93.994</td>\n",
       "      <td>-36.4</td>\n",
       "      <td>4.857</td>\n",
       "      <td>5191.0</td>\n",
       "      <td>no</td>\n",
       "    </tr>\n",
       "    <tr>\n",
       "      <th>3</th>\n",
       "      <td>40</td>\n",
       "      <td>admin.</td>\n",
       "      <td>married</td>\n",
       "      <td>basic.6y</td>\n",
       "      <td>no</td>\n",
       "      <td>no</td>\n",
       "      <td>no</td>\n",
       "      <td>telephone</td>\n",
       "      <td>may</td>\n",
       "      <td>mon</td>\n",
       "      <td>...</td>\n",
       "      <td>1</td>\n",
       "      <td>999</td>\n",
       "      <td>0</td>\n",
       "      <td>nonexistent</td>\n",
       "      <td>1.1</td>\n",
       "      <td>93.994</td>\n",
       "      <td>-36.4</td>\n",
       "      <td>4.857</td>\n",
       "      <td>5191.0</td>\n",
       "      <td>no</td>\n",
       "    </tr>\n",
       "    <tr>\n",
       "      <th>4</th>\n",
       "      <td>56</td>\n",
       "      <td>services</td>\n",
       "      <td>married</td>\n",
       "      <td>high.school</td>\n",
       "      <td>no</td>\n",
       "      <td>no</td>\n",
       "      <td>yes</td>\n",
       "      <td>telephone</td>\n",
       "      <td>may</td>\n",
       "      <td>mon</td>\n",
       "      <td>...</td>\n",
       "      <td>1</td>\n",
       "      <td>999</td>\n",
       "      <td>0</td>\n",
       "      <td>nonexistent</td>\n",
       "      <td>1.1</td>\n",
       "      <td>93.994</td>\n",
       "      <td>-36.4</td>\n",
       "      <td>4.857</td>\n",
       "      <td>5191.0</td>\n",
       "      <td>no</td>\n",
       "    </tr>\n",
       "    <tr>\n",
       "      <th>...</th>\n",
       "      <td>...</td>\n",
       "      <td>...</td>\n",
       "      <td>...</td>\n",
       "      <td>...</td>\n",
       "      <td>...</td>\n",
       "      <td>...</td>\n",
       "      <td>...</td>\n",
       "      <td>...</td>\n",
       "      <td>...</td>\n",
       "      <td>...</td>\n",
       "      <td>...</td>\n",
       "      <td>...</td>\n",
       "      <td>...</td>\n",
       "      <td>...</td>\n",
       "      <td>...</td>\n",
       "      <td>...</td>\n",
       "      <td>...</td>\n",
       "      <td>...</td>\n",
       "      <td>...</td>\n",
       "      <td>...</td>\n",
       "      <td>...</td>\n",
       "    </tr>\n",
       "    <tr>\n",
       "      <th>41183</th>\n",
       "      <td>73</td>\n",
       "      <td>retired</td>\n",
       "      <td>married</td>\n",
       "      <td>professional.course</td>\n",
       "      <td>no</td>\n",
       "      <td>yes</td>\n",
       "      <td>no</td>\n",
       "      <td>cellular</td>\n",
       "      <td>nov</td>\n",
       "      <td>fri</td>\n",
       "      <td>...</td>\n",
       "      <td>1</td>\n",
       "      <td>999</td>\n",
       "      <td>0</td>\n",
       "      <td>nonexistent</td>\n",
       "      <td>-1.1</td>\n",
       "      <td>94.767</td>\n",
       "      <td>-50.8</td>\n",
       "      <td>1.028</td>\n",
       "      <td>4963.6</td>\n",
       "      <td>yes</td>\n",
       "    </tr>\n",
       "    <tr>\n",
       "      <th>41184</th>\n",
       "      <td>46</td>\n",
       "      <td>blue-collar</td>\n",
       "      <td>married</td>\n",
       "      <td>professional.course</td>\n",
       "      <td>no</td>\n",
       "      <td>no</td>\n",
       "      <td>no</td>\n",
       "      <td>cellular</td>\n",
       "      <td>nov</td>\n",
       "      <td>fri</td>\n",
       "      <td>...</td>\n",
       "      <td>1</td>\n",
       "      <td>999</td>\n",
       "      <td>0</td>\n",
       "      <td>nonexistent</td>\n",
       "      <td>-1.1</td>\n",
       "      <td>94.767</td>\n",
       "      <td>-50.8</td>\n",
       "      <td>1.028</td>\n",
       "      <td>4963.6</td>\n",
       "      <td>no</td>\n",
       "    </tr>\n",
       "    <tr>\n",
       "      <th>41185</th>\n",
       "      <td>56</td>\n",
       "      <td>retired</td>\n",
       "      <td>married</td>\n",
       "      <td>university.degree</td>\n",
       "      <td>no</td>\n",
       "      <td>yes</td>\n",
       "      <td>no</td>\n",
       "      <td>cellular</td>\n",
       "      <td>nov</td>\n",
       "      <td>fri</td>\n",
       "      <td>...</td>\n",
       "      <td>2</td>\n",
       "      <td>999</td>\n",
       "      <td>0</td>\n",
       "      <td>nonexistent</td>\n",
       "      <td>-1.1</td>\n",
       "      <td>94.767</td>\n",
       "      <td>-50.8</td>\n",
       "      <td>1.028</td>\n",
       "      <td>4963.6</td>\n",
       "      <td>no</td>\n",
       "    </tr>\n",
       "    <tr>\n",
       "      <th>41186</th>\n",
       "      <td>44</td>\n",
       "      <td>technician</td>\n",
       "      <td>married</td>\n",
       "      <td>professional.course</td>\n",
       "      <td>no</td>\n",
       "      <td>no</td>\n",
       "      <td>no</td>\n",
       "      <td>cellular</td>\n",
       "      <td>nov</td>\n",
       "      <td>fri</td>\n",
       "      <td>...</td>\n",
       "      <td>1</td>\n",
       "      <td>999</td>\n",
       "      <td>0</td>\n",
       "      <td>nonexistent</td>\n",
       "      <td>-1.1</td>\n",
       "      <td>94.767</td>\n",
       "      <td>-50.8</td>\n",
       "      <td>1.028</td>\n",
       "      <td>4963.6</td>\n",
       "      <td>yes</td>\n",
       "    </tr>\n",
       "    <tr>\n",
       "      <th>41187</th>\n",
       "      <td>74</td>\n",
       "      <td>retired</td>\n",
       "      <td>married</td>\n",
       "      <td>professional.course</td>\n",
       "      <td>no</td>\n",
       "      <td>yes</td>\n",
       "      <td>no</td>\n",
       "      <td>cellular</td>\n",
       "      <td>nov</td>\n",
       "      <td>fri</td>\n",
       "      <td>...</td>\n",
       "      <td>3</td>\n",
       "      <td>999</td>\n",
       "      <td>1</td>\n",
       "      <td>failure</td>\n",
       "      <td>-1.1</td>\n",
       "      <td>94.767</td>\n",
       "      <td>-50.8</td>\n",
       "      <td>1.028</td>\n",
       "      <td>4963.6</td>\n",
       "      <td>no</td>\n",
       "    </tr>\n",
       "  </tbody>\n",
       "</table>\n",
       "<p>41188 rows × 21 columns</p>\n",
       "</div>"
      ],
      "text/plain": [
       "       age          job  marital            education default housing loan  \\\n",
       "0       56    housemaid  married             basic.4y      no      no   no   \n",
       "1       57     services  married          high.school     yes      no   no   \n",
       "2       37     services  married          high.school      no     yes   no   \n",
       "3       40       admin.  married             basic.6y      no      no   no   \n",
       "4       56     services  married          high.school      no      no  yes   \n",
       "...    ...          ...      ...                  ...     ...     ...  ...   \n",
       "41183   73      retired  married  professional.course      no     yes   no   \n",
       "41184   46  blue-collar  married  professional.course      no      no   no   \n",
       "41185   56      retired  married    university.degree      no     yes   no   \n",
       "41186   44   technician  married  professional.course      no      no   no   \n",
       "41187   74      retired  married  professional.course      no     yes   no   \n",
       "\n",
       "         contact month day_of_week  ...  campaign  pdays  previous  \\\n",
       "0      telephone   may         mon  ...         1    999         0   \n",
       "1      telephone   may         mon  ...         1    999         0   \n",
       "2      telephone   may         mon  ...         1    999         0   \n",
       "3      telephone   may         mon  ...         1    999         0   \n",
       "4      telephone   may         mon  ...         1    999         0   \n",
       "...          ...   ...         ...  ...       ...    ...       ...   \n",
       "41183   cellular   nov         fri  ...         1    999         0   \n",
       "41184   cellular   nov         fri  ...         1    999         0   \n",
       "41185   cellular   nov         fri  ...         2    999         0   \n",
       "41186   cellular   nov         fri  ...         1    999         0   \n",
       "41187   cellular   nov         fri  ...         3    999         1   \n",
       "\n",
       "          poutcome emp.var.rate  cons.price.idx  cons.conf.idx  euribor3m  \\\n",
       "0      nonexistent          1.1          93.994          -36.4      4.857   \n",
       "1      nonexistent          1.1          93.994          -36.4      4.857   \n",
       "2      nonexistent          1.1          93.994          -36.4      4.857   \n",
       "3      nonexistent          1.1          93.994          -36.4      4.857   \n",
       "4      nonexistent          1.1          93.994          -36.4      4.857   \n",
       "...            ...          ...             ...            ...        ...   \n",
       "41183  nonexistent         -1.1          94.767          -50.8      1.028   \n",
       "41184  nonexistent         -1.1          94.767          -50.8      1.028   \n",
       "41185  nonexistent         -1.1          94.767          -50.8      1.028   \n",
       "41186  nonexistent         -1.1          94.767          -50.8      1.028   \n",
       "41187      failure         -1.1          94.767          -50.8      1.028   \n",
       "\n",
       "       nr.employed    y  \n",
       "0           5191.0   no  \n",
       "1           5191.0   no  \n",
       "2           5191.0   no  \n",
       "3           5191.0   no  \n",
       "4           5191.0   no  \n",
       "...            ...  ...  \n",
       "41183       4963.6  yes  \n",
       "41184       4963.6   no  \n",
       "41185       4963.6   no  \n",
       "41186       4963.6  yes  \n",
       "41187       4963.6   no  \n",
       "\n",
       "[41188 rows x 21 columns]"
      ]
     },
     "execution_count": 81,
     "metadata": {},
     "output_type": "execute_result"
    }
   ],
   "source": [
    "df_random_imputed"
   ]
  },
  {
   "cell_type": "code",
   "execution_count": null,
   "id": "035aad55",
   "metadata": {},
   "outputs": [],
   "source": [
    "# Review for Method 2 by Aysha Abdul Azeez\n",
    "# I understand that since only categorical columns contain NA values, it would be wise enough to do a random \n",
    "# sampling of the values and replace the NAs with random values instead of other methods like imputing with mean \n",
    "# or median. There can be inconsistency in the prediction since the values imputed can be too random for the model\n",
    "# to produce optimal results"
   ]
  },
  {
   "cell_type": "code",
   "execution_count": 213,
   "id": "8e348395",
   "metadata": {},
   "outputs": [
    {
     "name": "stdout",
     "output_type": "stream",
     "text": [
      "['job', 'marital', 'education', 'default', 'housing', 'loan', 'contact', 'month', 'day_of_week', 'poutcome', 'y']\n"
     ]
    }
   ],
   "source": [
    "# Method 3: Model based imputing using KNN\n",
    "# By Nrusimha Saraswati Sai Teja Jampani\n",
    "df_model_imputed = df.copy()\n",
    "categorical_cols = list(df.select_dtypes(include=['object']).columns)\n",
    "print(cat_cols)"
   ]
  },
  {
   "cell_type": "code",
   "execution_count": 214,
   "id": "1bab878a",
   "metadata": {},
   "outputs": [],
   "source": [
    "label_encoder = LabelEncoder()\n",
    "\n",
    "for col in categorical_cols:\n",
    "    df_model_imputed[col] = label_encoder.fit_transform(df_model_imputed[col].astype(str))\n",
    "    \n",
    "for col in columns_nan:\n",
    "    \n",
    "    df_train = df_model_imputed.dropna(subset=[col])     # Create a DataFrame with non-missing values for training the model\n",
    "    \n",
    "    X_train = df_train.drop(col, axis=1)                 # Separate features and target variable\n",
    "    y_train = df_train[col]                              # Take all other columns as features and current NA valued column as target\n",
    "    \n",
    "    rf_classifier = RandomForestClassifier(n_estimators=100, random_state=42)     # Create a random forest classifier\n",
    "    \n",
    "    rf_classifier.fit(X_train, y_train)                 # Fit the model\n",
    "    \n",
    "    missing_rows = df_model_imputed[df_model_imputed[col].isna()]      # Identify rows with missing values in the target column\n",
    "    \n",
    "    # Predict missing values\n",
    "    if not missing_rows.empty:\n",
    "        X_missing = missing_rows.drop(col, axis=1)\n",
    "        predicted_values = rf_classifier.predict(X_missing)\n",
    "        \n",
    "        df_model_imputed.loc[missing_rows.index, column] = predicted_values  # Fill in missing values\n"
   ]
  },
  {
   "cell_type": "code",
   "execution_count": 215,
   "id": "34b6ceae",
   "metadata": {},
   "outputs": [
    {
     "name": "stdout",
     "output_type": "stream",
     "text": [
      "NA count before Imputation:\n",
      "job           330\n",
      "marital        80\n",
      "education    1730\n",
      "default      8596\n",
      "housing       990\n",
      "loan          990\n",
      "dtype: int64\n",
      "\n",
      "NA count after Model based Imputation:\n",
      "job          0\n",
      "marital      0\n",
      "education    0\n",
      "default      0\n",
      "housing      0\n",
      "loan         0\n",
      "dtype: int64\n"
     ]
    }
   ],
   "source": [
    "print(f'NA count before Imputation:\\n{df[columns_nan].isna().sum()}')\n",
    "print(f'\\nNA count after Model based Imputation:\\n{df_model_imputed[columns_nan].isna().sum()}')"
   ]
  },
  {
   "cell_type": "code",
   "execution_count": null,
   "id": "9dd44190",
   "metadata": {},
   "outputs": [],
   "source": [
    "# Review for Method 3 by Purvesh Mehta\n",
    "# Appriciate the use of all other columns for predicting the NA values. But some of the columns may have\n",
    "# weak relationship with the target column and may just add computational complexity. Randomforest can be a good option,\n",
    "# however, other exploring other models too might give good results"
   ]
  },
  {
   "cell_type": "code",
   "execution_count": 145,
   "id": "fa2943c7",
   "metadata": {},
   "outputs": [
    {
     "data": {
      "image/png": "[encoded data removed]",
      "text/plain": [
       "<Figure size 288x288 with 1 Axes>"
      ]
     },
     "metadata": {
      "needs_background": "light"
     },
     "output_type": "display_data"
    },
    {
     "data": {
      "image/png": "[encoded data removed]",
      "text/plain": [
       "<Figure size 288x288 with 1 Axes>"
      ]
     },
     "metadata": {
      "needs_background": "light"
     },
     "output_type": "display_data"
    },
    {
     "data": {
      "image/png": "[encoded data removed]",
      "text/plain": [
       "<Figure size 288x288 with 1 Axes>"
      ]
     },
     "metadata": {
      "needs_background": "light"
     },
     "output_type": "display_data"
    },
    {
     "data": {
      "image/png": "[encoded data removed]",
      "text/plain": [
       "<Figure size 288x288 with 1 Axes>"
      ]
     },
     "metadata": {
      "needs_background": "light"
     },
     "output_type": "display_data"
    },
    {
     "data": {
      "image/png": "[encoded data removed]",
      "text/plain": [
       "<Figure size 288x288 with 1 Axes>"
      ]
     },
     "metadata": {
      "needs_background": "light"
     },
     "output_type": "display_data"
    },
    {
     "data": {
      "image/png": "[encoded data removed]",
      "text/plain": [
       "<Figure size 288x288 with 1 Axes>"
      ]
     },
     "metadata": {
      "needs_background": "light"
     },
     "output_type": "display_data"
    },
    {
     "data": {
      "image/png": "[encoded data removed]",
      "text/plain": [
       "<Figure size 288x288 with 1 Axes>"
      ]
     },
     "metadata": {
      "needs_background": "light"
     },
     "output_type": "display_data"
    },
    {
     "data": {
      "image/png": "[encoded data removed]",
      "text/plain": [
       "<Figure size 288x288 with 1 Axes>"
      ]
     },
     "metadata": {
      "needs_background": "light"
     },
     "output_type": "display_data"
    },
    {
     "data": {
      "image/png": "[encoded data removed]",
      "text/plain": [
       "<Figure size 288x288 with 1 Axes>"
      ]
     },
     "metadata": {
      "needs_background": "light"
     },
     "output_type": "display_data"
    }
   ],
   "source": [
    "# Handling Outliers\n",
    "# Box plots to visualize outliers\n",
    "numeric_variables = ['age', 'campaign', 'pdays', 'previous', 'emp.var.rate', 'cons.price.idx', 'cons.conf.idx', 'euribor3m', 'nr.employed']\n",
    "\n",
    "for col in numeric_variables:\n",
    "    plt.figure(figsize=(4, 4))\n",
    "    sns.boxplot(data=df[col])\n",
    "    plt.title(f'Box Plot of {col}')\n",
    "    plt.show()"
   ]
  },
  {
   "cell_type": "code",
   "execution_count": null,
   "id": "d6f2a597",
   "metadata": {},
   "outputs": [],
   "source": [
    "# Age, campaign and cons.conf.idx contains outliers"
   ]
  },
  {
   "cell_type": "code",
   "execution_count": null,
   "id": "2adadf80",
   "metadata": {},
   "outputs": [],
   "source": [
    "# Method 1: Trimming the outlier values\n",
    "# By Purvesh Mehta"
   ]
  },
  {
   "cell_type": "code",
   "execution_count": 160,
   "id": "1b6b0701",
   "metadata": {},
   "outputs": [
    {
     "name": "stdout",
     "output_type": "stream",
     "text": [
      "9.5 69.5\n",
      "-2.0 6.0\n",
      "-52.150000000000006 -26.949999999999992\n"
     ]
    }
   ],
   "source": [
    "outlier_cols = ['age', 'campaign','cons.conf.idx']\n",
    "df_trimmed = df.copy()\n",
    "for col in outlier_cols:\n",
    "    q1 = df_trimmed[col].quantile(0.25)\n",
    "    q3 = df_trimmed[col].quantile(0.75)\n",
    "    iqr = q3 - q1\n",
    "    lower_bound = q1 - 1.5 * iqr\n",
    "    upper_bound = q3 + 1.5 * iqr\n",
    "    df_trimmed[col] = df_trimmed[col].clip(lower=lower_bound, upper=upper_bound)"
   ]
  },
  {
   "cell_type": "code",
   "execution_count": 161,
   "id": "b7c57bd8",
   "metadata": {},
   "outputs": [
    {
     "data": {
      "image/png": "[encoded data removed]",
      "text/plain": [
       "<Figure size 288x288 with 1 Axes>"
      ]
     },
     "metadata": {
      "needs_background": "light"
     },
     "output_type": "display_data"
    },
    {
     "data": {
      "image/png": "[encoded data removed]",
      "text/plain": [
       "<Figure size 288x288 with 1 Axes>"
      ]
     },
     "metadata": {
      "needs_background": "light"
     },
     "output_type": "display_data"
    },
    {
     "data": {
      "image/png": "[encoded data removed]",
      "text/plain": [
       "<Figure size 288x288 with 1 Axes>"
      ]
     },
     "metadata": {
      "needs_background": "light"
     },
     "output_type": "display_data"
    }
   ],
   "source": [
    "for col in outlier_cols:\n",
    "    plt.figure(figsize=(4, 4))\n",
    "    sns.boxplot(data=df_trimmed[col])\n",
    "    plt.title(f'Box Plot of {col}')\n",
    "    plt.show()\n"
   ]
  },
  {
   "cell_type": "code",
   "execution_count": null,
   "id": "f290455f",
   "metadata": {},
   "outputs": [],
   "source": [
    "# Method1 review by Aysha Abdul Azeez\n",
    "# Trimming seem to be very strict on the outliers. All the outliers determined by the boxplot\n",
    "# are now trimmed to upper or lower quartile. Functioning is implemented well enough"
   ]
  },
  {
   "cell_type": "code",
   "execution_count": null,
   "id": "160de58f",
   "metadata": {},
   "outputs": [],
   "source": [
    "# Method 2: Log Transformation\n",
    "# By Nrusimha Saraswati Sai Teja Jampani"
   ]
  },
  {
   "cell_type": "code",
   "execution_count": 187,
   "id": "67a0505a",
   "metadata": {},
   "outputs": [],
   "source": [
    "df_log_transformed = df.copy()\n",
    "df_log_transformed['cons.conf.idx']= df_log_transformed['cons.conf.idx'] + abs(df['cons.conf.idx'].min()) + 1 # Make negative values positive"
   ]
  },
  {
   "cell_type": "code",
   "execution_count": 188,
   "id": "62c091e6",
   "metadata": {},
   "outputs": [],
   "source": [
    "df_log_transformed[outlier_cols] = np.log1p(df_log_transformed[outlier_cols]) # apply log transformation"
   ]
  },
  {
   "cell_type": "code",
   "execution_count": 192,
   "id": "3044d1fb",
   "metadata": {},
   "outputs": [
    {
     "data": {
      "image/png": "[encoded data removed]",
      "text/plain": [
       "<Figure size 288x288 with 1 Axes>"
      ]
     },
     "metadata": {
      "needs_background": "light"
     },
     "output_type": "display_data"
    },
    {
     "data": {
      "image/png": "[encoded data removed]",
      "text/plain": [
       "<Figure size 288x288 with 1 Axes>"
      ]
     },
     "metadata": {
      "needs_background": "light"
     },
     "output_type": "display_data"
    },
    {
     "data": {
      "image/png": "[encoded data removed]",
      "text/plain": [
       "<Figure size 288x288 with 1 Axes>"
      ]
     },
     "metadata": {
      "needs_background": "light"
     },
     "output_type": "display_data"
    }
   ],
   "source": [
    "for col in outlier_cols:\n",
    "    plt.figure(figsize=(4, 4))\n",
    "    sns.boxplot(data=df_log_transformed[col])\n",
    "    plt.title(f'Box Plot of {col}')\n",
    "    plt.show()"
   ]
  },
  {
   "cell_type": "code",
   "execution_count": null,
   "id": "ab7f0b2d",
   "metadata": {},
   "outputs": [],
   "source": [
    "# Method 2 Review by Purvesh Mehta\n",
    "# Log transformation is not eliminating all the outliers but instead eliminating the skewness in the data\n",
    "# and narrowing down the data distribution. Since it cannot handle negative values, any negative values are converted to\n",
    "# positive"
   ]
  },
  {
   "cell_type": "code",
   "execution_count": null,
   "id": "3ac8368e",
   "metadata": {},
   "outputs": [],
   "source": [
    "# Method 3: Box Cox transformation"
   ]
  },
  {
   "cell_type": "code",
   "execution_count": 184,
   "id": "fe6ba500",
   "metadata": {},
   "outputs": [],
   "source": [
    "df_boxcox_transformed = df.copy()"
   ]
  },
  {
   "cell_type": "code",
   "execution_count": 185,
   "id": "f1a905cc",
   "metadata": {},
   "outputs": [],
   "source": [
    "df_boxcox_transformed['cons.conf.idx']= df_boxcox_transformed['cons.conf.idx'] + abs(df['cons.conf.idx'].min()) + 1   #Make negative values positive\n",
    "for col in outlier_cols:\n",
    "    df_boxcox_transformed[col], _ = boxcox(df_boxcox_transformed[col] + 1)  # Adding constant 1 to handle zero and negative values"
   ]
  },
  {
   "cell_type": "code",
   "execution_count": 191,
   "id": "734ee8ba",
   "metadata": {},
   "outputs": [
    {
     "data": {
      "image/png": "[encoded data removed]",
      "text/plain": [
       "<Figure size 288x288 with 1 Axes>"
      ]
     },
     "metadata": {
      "needs_background": "light"
     },
     "output_type": "display_data"
    },
    {
     "data": {
      "image/png": "[encoded data removed]",
      "text/plain": [
       "<Figure size 288x288 with 1 Axes>"
      ]
     },
     "metadata": {
      "needs_background": "light"
     },
     "output_type": "display_data"
    },
    {
     "data": {
      "image/png": "[encoded data removed]",
      "text/plain": [
       "<Figure size 288x288 with 1 Axes>"
      ]
     },
     "metadata": {
      "needs_background": "light"
     },
     "output_type": "display_data"
    }
   ],
   "source": [
    "for col in outlier_cols:\n",
    "    plt.figure(figsize=(4, 4))\n",
    "    sns.boxplot(data=df_boxcox_transformed[col])\n",
    "    plt.title(f'Box Plot of {col}')\n",
    "    plt.show()"
   ]
  },
  {
   "cell_type": "code",
   "execution_count": null,
   "id": "81bb7d27",
   "metadata": {},
   "outputs": [],
   "source": [
    "# Method 3 review by Nrusimha Saraswati Sai Teja Jampani\n",
    "# Boxcox transformation too is trying to reduce the skewness in the data but in a more symmetric way compared \n",
    "# to the log transformation. The results and outliers are handled in a more better way"
   ]
  }
 ],
 "metadata": {
  "kernelspec": {
   "display_name": "Python 3 (ipykernel)",
   "language": "python",
   "name": "python3"
  },
  "language_info": {
   "codemirror_mode": {
    "name": "ipython",
    "version": 3
   },
   "file_extension": ".py",
   "mimetype": "text/x-python",
   "name": "python",
   "nbconvert_exporter": "python",
   "pygments_lexer": "ipython3",
   "version": "3.9.12"
  }
 },
 "nbformat": 4,
 "nbformat_minor": 5
}
